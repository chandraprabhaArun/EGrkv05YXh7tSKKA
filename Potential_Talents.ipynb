{
  "cells": [
    {
      "cell_type": "markdown",
      "source": [
        "##Potential Talents Search - Candidates Ranking\n",
        "\n",
        "As a talent sourcing and management company, we are interested in finding talented individuals for sourcing these candidates to technology companies. Finding talented candidates is not easy, for several reasons. The first reason is one needs to understand what the role is very well to fill in that spot, this requires understanding the client’s needs and what they are looking for in a potential candidate. The second reason is one needs to understand what makes a candidate shine for the role we are in search for. Third, where to find talented individuals is another challenge.\n",
        "\n",
        "The nature of our job requires a lot of human labor and is full of manual operations. Towards automating this process we want to build a better approach that could save us time and finally help us spot potential candidates that could fit the roles we are in search for. Moreover, going beyond that for a specific role we want to fill in we are interested in developing a machine learning powered pipeline that could spot talented individuals, and rank them based on their fitness.\n",
        "\n",
        "We are right now semi-automatically sourcing a few candidates, therefore the sourcing part is not a concern at this time but we expect to first determine best matching candidates based on how fit these candidates are for a given role. We generally make these searches based on some keywords such as “full-stack software engineer”, “engineering manager” or “aspiring human resources” based on the role we are trying to fill in. These keywords might change, and you can expect that specific keywords will be provided to you.\n",
        "\n",
        "Assuming that we were able to list and rank fitting candidates, we then employ a review procedure, as each candidate needs to be reviewed and then determined how good a fit they are through manual inspection. This procedure is done manually and at the end of this manual review, we might choose not the first fitting candidate in the list but maybe the 7th candidate in the list. If that happens, we are interested in being able to re-rank the previous list based on this information. This supervisory signal is going to be supplied by starring the 7th candidate in the list. Starring one candidate actually sets this candidate as an ideal candidate for the given role. Then, we expect the list to be re-ranked each time a candidate is starred."
      ],
      "metadata": {
        "id": "E8cT-vI1038A"
      }
    },
    {
      "cell_type": "markdown",
      "source": [
        "##Data Description:\n",
        "\n",
        "The data comes from our sourcing efforts. We removed any field that could directly reveal personal details and gave a unique identifier for each candidate."
      ],
      "metadata": {
        "id": "q4QPERza1P1b"
      }
    },
    {
      "cell_type": "markdown",
      "source": [
        "##Attributes:\n",
        "\n",
        "id : unique identifier for candidate (numeric)\n",
        "job_title : job title for candidate (text)\n",
        "location : geographical location for candidate (text)\n",
        "connections: number of connections candidate has, 500+ means over 500 (text)"
      ],
      "metadata": {
        "id": "hfRgHxTx1YrD"
      }
    },
    {
      "cell_type": "markdown",
      "source": [
        "##Output (desired target):\n",
        "fit - how fit the candidate is for the role? (numeric, probability between 0-1)"
      ],
      "metadata": {
        "id": "TA0MHbHX1ayq"
      }
    },
    {
      "cell_type": "markdown",
      "source": [
        "***Keywords:*** “Aspiring human resources” or “seeking human resources”\n",
        "\n"
      ],
      "metadata": {
        "id": "KF-SKPhK1oSK"
      }
    },
    {
      "cell_type": "markdown",
      "source": [
        "##Goal:"
      ],
      "metadata": {
        "id": "pf9GzDM-5l05"
      }
    },
    {
      "cell_type": "markdown",
      "source": [
        "Predict how fit the candidate is based on their available information (variable fit)\n",
        "\n"
      ],
      "metadata": {
        "id": "iX89Gh3H6hHz"
      }
    },
    {
      "cell_type": "markdown",
      "source": [
        "##Success Metrics:"
      ],
      "metadata": {
        "id": "s0q6oLgW6nZp"
      }
    },
    {
      "cell_type": "markdown",
      "source": [
        "*   Rank candidates based on a fitness score.\n",
        "*   Re-rank candidates when a candidate is starred."
      ],
      "metadata": {
        "id": "Mo0QF1Rk6rZK"
      }
    },
    {
      "cell_type": "markdown",
      "source": [
        "##Bonuses:\n",
        "* We are interested in a robust algorithm, tell us how your solution works and\n",
        "  show us how your ranking gets better with each starring action.\n",
        "* How can we filter out candidates which in the first place should not be in\n",
        "  this list?\n",
        "* Can we determine a cut-off point that would work for other roles without\n",
        "  losing high potential candidates?\n",
        "* Do you have any ideas that we should explore so that we can even automate  \n",
        "  this procedure to prevent human bias?"
      ],
      "metadata": {
        "id": "GYZ8FuGa7DpB"
      }
    },
    {
      "cell_type": "markdown",
      "source": [
        "##Importing Libraries"
      ],
      "metadata": {
        "id": "GizUC-Id7hNJ"
      }
    },
    {
      "cell_type": "code",
      "execution_count": 1,
      "metadata": {
        "id": "KtmoqubVz2A1"
      },
      "outputs": [],
      "source": [
        "import pandas as pd\n",
        "from gensim.models import Doc2Vec\n",
        "from gensim.models.doc2vec import TaggedDocument\n",
        "from nltk.tokenize import word_tokenize\n",
        "from nltk.corpus import stopwords\n",
        "from nltk.stem import PorterStemmer, WordNetLemmatizer\n",
        "from sklearn.metrics.pairwise import cosine_similarity\n",
        "from transformers import BertTokenizer, BertModel\n",
        "from sklearn.preprocessing import MinMaxScaler\n",
        "from sklearn.metrics.pairwise import cosine_similarity\n",
        "import torch\n",
        "import re\n",
        "import pandas as pd\n",
        "import lightgbm as lgb\n",
        "import numpy as np\n",
        "from lightgbm import LGBMRanker\n",
        "from sklearn.model_selection import train_test_split\n",
        "from sklearn.metrics import ndcg_score\n",
        "from sklearn.preprocessing import LabelEncoder\n",
        "from sklearn.preprocessing import StandardScaler"
      ]
    },
    {
      "cell_type": "code",
      "execution_count": 2,
      "metadata": {
        "id": "aFBhIla_V7VU",
        "colab": {
          "base_uri": "https://localhost:8080/"
        },
        "outputId": "85165e55-ab99-44e0-f518-71d63d38ac35"
      },
      "outputs": [
        {
          "output_type": "stream",
          "name": "stderr",
          "text": [
            "[nltk_data] Downloading package punkt to /root/nltk_data...\n",
            "[nltk_data]   Unzipping tokenizers/punkt.zip.\n",
            "[nltk_data] Downloading package stopwords to /root/nltk_data...\n",
            "[nltk_data]   Unzipping corpora/stopwords.zip.\n",
            "[nltk_data] Downloading package wordnet to /root/nltk_data...\n"
          ]
        },
        {
          "output_type": "execute_result",
          "data": {
            "text/plain": [
              "True"
            ]
          },
          "metadata": {},
          "execution_count": 2
        }
      ],
      "source": [
        "# Download NLTK resources\n",
        "import nltk\n",
        "nltk.download('punkt')\n",
        "nltk.download('stopwords')\n",
        "nltk.download('wordnet')"
      ]
    },
    {
      "cell_type": "markdown",
      "source": [
        "##Loading the data"
      ],
      "metadata": {
        "id": "LmaQFoYo7l10"
      }
    },
    {
      "cell_type": "code",
      "execution_count": 67,
      "metadata": {
        "id": "Jdw0cOqjfmIT"
      },
      "outputs": [],
      "source": [
        "# Load dataset\n",
        "df = pd.read_csv(\"/content/potential-talents - Aspiring human resources - seeking human resources.csv\")"
      ]
    },
    {
      "cell_type": "code",
      "source": [
        "# Inspect data\n",
        "df.head()"
      ],
      "metadata": {
        "colab": {
          "base_uri": "https://localhost:8080/",
          "height": 620
        },
        "id": "K51XynhS-3a7",
        "outputId": "53da90b5-1fe7-433d-b689-78d000137dda"
      },
      "execution_count": 66,
      "outputs": [
        {
          "output_type": "execute_result",
          "data": {
            "text/plain": [
              "   id                                          job_title  \\\n",
              "0   2  Native English Teacher at EPIK (English Progra...   \n",
              "1  30              Seeking Human Resources Opportunities   \n",
              "2  28              Seeking Human Resources Opportunities   \n",
              "3  10  Seeking Human Resources HRIS and Generalist Po...   \n",
              "4  40  Seeking Human Resources HRIS and Generalist Po...   \n",
              "\n",
              "                    location  connection  fit  scaled_connection  \\\n",
              "0                     Kanada         600  NaN           1.000000   \n",
              "1          Chicago, Illinois         390  NaN           0.779559   \n",
              "2          Chicago, Illinois         390  NaN           0.779559   \n",
              "3  Greater Philadelphia Area         500  NaN           1.000000   \n",
              "4  Greater Philadelphia Area         500  NaN           1.000000   \n",
              "\n",
              "                                 processed_job_title  cosine_similarity_w1  \\\n",
              "0  [nativ, english, teacher, epik, english, progr...              0.621738   \n",
              "1                   [seek, human, resourc, opportun]              0.929482   \n",
              "2                   [seek, human, resourc, opportun]              0.929482   \n",
              "3     [seek, human, resourc, hri, generalist, posit]              0.829019   \n",
              "4     [seek, human, resourc, hri, generalist, posit]              0.829019   \n",
              "\n",
              "   cosine_similarity_w2  ranking_w1  ...  cosine_similarity_doc2vec  \\\n",
              "0              0.585436    0.897159  ...                   0.981135   \n",
              "1              0.961083    0.942272  ...                   0.981135   \n",
              "2              0.961083    0.942032  ...                   0.981135   \n",
              "3              0.809323    0.983751  ...                   0.981135   \n",
              "4              0.809323    0.986087  ...                   0.981135   \n",
              "\n",
              "   scaled_connection_doc2vec  ranking_doc2vec  cosine_similarity_bert  \\\n",
              "0                   1.000000         0.984908                0.990385   \n",
              "1                   0.779559         0.940820                0.990385   \n",
              "2                   0.779559         0.940820                0.990385   \n",
              "3                   1.000000         0.984908                0.990385   \n",
              "4                   1.000000         0.984908                0.990385   \n",
              "\n",
              "   scaled_connection_bert  ranking_bert  cosine_similarity_bert_w1  \\\n",
              "0                1.000000      0.992308                   0.900000   \n",
              "1                0.779559      0.948219                   0.929482   \n",
              "2                0.779559      0.948219                   0.929482   \n",
              "3                1.000000      0.992308                   0.829019   \n",
              "4                1.000000      0.992308                   0.829019   \n",
              "\n",
              "   cosine_similarity_bert_w2  fitness_score  rank  \n",
              "0                   0.585436      72.326796     1  \n",
              "1                   0.961083       0.925396     1  \n",
              "2                   0.961083       0.925396     1  \n",
              "3                   0.809323       0.840870     1  \n",
              "4                   0.809323       0.840870     1  \n",
              "\n",
              "[5 rows x 21 columns]"
            ],
            "text/html": [
              "\n",
              "  <div id=\"df-5204c20b-47a3-40ac-b858-7c00ac0f8bf9\" class=\"colab-df-container\">\n",
              "    <div>\n",
              "<style scoped>\n",
              "    .dataframe tbody tr th:only-of-type {\n",
              "        vertical-align: middle;\n",
              "    }\n",
              "\n",
              "    .dataframe tbody tr th {\n",
              "        vertical-align: top;\n",
              "    }\n",
              "\n",
              "    .dataframe thead th {\n",
              "        text-align: right;\n",
              "    }\n",
              "</style>\n",
              "<table border=\"1\" class=\"dataframe\">\n",
              "  <thead>\n",
              "    <tr style=\"text-align: right;\">\n",
              "      <th></th>\n",
              "      <th>id</th>\n",
              "      <th>job_title</th>\n",
              "      <th>location</th>\n",
              "      <th>connection</th>\n",
              "      <th>fit</th>\n",
              "      <th>scaled_connection</th>\n",
              "      <th>processed_job_title</th>\n",
              "      <th>cosine_similarity_w1</th>\n",
              "      <th>cosine_similarity_w2</th>\n",
              "      <th>ranking_w1</th>\n",
              "      <th>...</th>\n",
              "      <th>cosine_similarity_doc2vec</th>\n",
              "      <th>scaled_connection_doc2vec</th>\n",
              "      <th>ranking_doc2vec</th>\n",
              "      <th>cosine_similarity_bert</th>\n",
              "      <th>scaled_connection_bert</th>\n",
              "      <th>ranking_bert</th>\n",
              "      <th>cosine_similarity_bert_w1</th>\n",
              "      <th>cosine_similarity_bert_w2</th>\n",
              "      <th>fitness_score</th>\n",
              "      <th>rank</th>\n",
              "    </tr>\n",
              "  </thead>\n",
              "  <tbody>\n",
              "    <tr>\n",
              "      <th>0</th>\n",
              "      <td>2</td>\n",
              "      <td>Native English Teacher at EPIK (English Progra...</td>\n",
              "      <td>Kanada</td>\n",
              "      <td>600</td>\n",
              "      <td>NaN</td>\n",
              "      <td>1.000000</td>\n",
              "      <td>[nativ, english, teacher, epik, english, progr...</td>\n",
              "      <td>0.621738</td>\n",
              "      <td>0.585436</td>\n",
              "      <td>0.897159</td>\n",
              "      <td>...</td>\n",
              "      <td>0.981135</td>\n",
              "      <td>1.000000</td>\n",
              "      <td>0.984908</td>\n",
              "      <td>0.990385</td>\n",
              "      <td>1.000000</td>\n",
              "      <td>0.992308</td>\n",
              "      <td>0.900000</td>\n",
              "      <td>0.585436</td>\n",
              "      <td>72.326796</td>\n",
              "      <td>1</td>\n",
              "    </tr>\n",
              "    <tr>\n",
              "      <th>1</th>\n",
              "      <td>30</td>\n",
              "      <td>Seeking Human Resources Opportunities</td>\n",
              "      <td>Chicago, Illinois</td>\n",
              "      <td>390</td>\n",
              "      <td>NaN</td>\n",
              "      <td>0.779559</td>\n",
              "      <td>[seek, human, resourc, opportun]</td>\n",
              "      <td>0.929482</td>\n",
              "      <td>0.961083</td>\n",
              "      <td>0.942272</td>\n",
              "      <td>...</td>\n",
              "      <td>0.981135</td>\n",
              "      <td>0.779559</td>\n",
              "      <td>0.940820</td>\n",
              "      <td>0.990385</td>\n",
              "      <td>0.779559</td>\n",
              "      <td>0.948219</td>\n",
              "      <td>0.929482</td>\n",
              "      <td>0.961083</td>\n",
              "      <td>0.925396</td>\n",
              "      <td>1</td>\n",
              "    </tr>\n",
              "    <tr>\n",
              "      <th>2</th>\n",
              "      <td>28</td>\n",
              "      <td>Seeking Human Resources Opportunities</td>\n",
              "      <td>Chicago, Illinois</td>\n",
              "      <td>390</td>\n",
              "      <td>NaN</td>\n",
              "      <td>0.779559</td>\n",
              "      <td>[seek, human, resourc, opportun]</td>\n",
              "      <td>0.929482</td>\n",
              "      <td>0.961083</td>\n",
              "      <td>0.942032</td>\n",
              "      <td>...</td>\n",
              "      <td>0.981135</td>\n",
              "      <td>0.779559</td>\n",
              "      <td>0.940820</td>\n",
              "      <td>0.990385</td>\n",
              "      <td>0.779559</td>\n",
              "      <td>0.948219</td>\n",
              "      <td>0.929482</td>\n",
              "      <td>0.961083</td>\n",
              "      <td>0.925396</td>\n",
              "      <td>1</td>\n",
              "    </tr>\n",
              "    <tr>\n",
              "      <th>3</th>\n",
              "      <td>10</td>\n",
              "      <td>Seeking Human Resources HRIS and Generalist Po...</td>\n",
              "      <td>Greater Philadelphia Area</td>\n",
              "      <td>500</td>\n",
              "      <td>NaN</td>\n",
              "      <td>1.000000</td>\n",
              "      <td>[seek, human, resourc, hri, generalist, posit]</td>\n",
              "      <td>0.829019</td>\n",
              "      <td>0.809323</td>\n",
              "      <td>0.983751</td>\n",
              "      <td>...</td>\n",
              "      <td>0.981135</td>\n",
              "      <td>1.000000</td>\n",
              "      <td>0.984908</td>\n",
              "      <td>0.990385</td>\n",
              "      <td>1.000000</td>\n",
              "      <td>0.992308</td>\n",
              "      <td>0.829019</td>\n",
              "      <td>0.809323</td>\n",
              "      <td>0.840870</td>\n",
              "      <td>1</td>\n",
              "    </tr>\n",
              "    <tr>\n",
              "      <th>4</th>\n",
              "      <td>40</td>\n",
              "      <td>Seeking Human Resources HRIS and Generalist Po...</td>\n",
              "      <td>Greater Philadelphia Area</td>\n",
              "      <td>500</td>\n",
              "      <td>NaN</td>\n",
              "      <td>1.000000</td>\n",
              "      <td>[seek, human, resourc, hri, generalist, posit]</td>\n",
              "      <td>0.829019</td>\n",
              "      <td>0.809323</td>\n",
              "      <td>0.986087</td>\n",
              "      <td>...</td>\n",
              "      <td>0.981135</td>\n",
              "      <td>1.000000</td>\n",
              "      <td>0.984908</td>\n",
              "      <td>0.990385</td>\n",
              "      <td>1.000000</td>\n",
              "      <td>0.992308</td>\n",
              "      <td>0.829019</td>\n",
              "      <td>0.809323</td>\n",
              "      <td>0.840870</td>\n",
              "      <td>1</td>\n",
              "    </tr>\n",
              "  </tbody>\n",
              "</table>\n",
              "<p>5 rows × 21 columns</p>\n",
              "</div>\n",
              "    <div class=\"colab-df-buttons\">\n",
              "\n",
              "  <div class=\"colab-df-container\">\n",
              "    <button class=\"colab-df-convert\" onclick=\"convertToInteractive('df-5204c20b-47a3-40ac-b858-7c00ac0f8bf9')\"\n",
              "            title=\"Convert this dataframe to an interactive table.\"\n",
              "            style=\"display:none;\">\n",
              "\n",
              "  <svg xmlns=\"http://www.w3.org/2000/svg\" height=\"24px\" viewBox=\"0 -960 960 960\">\n",
              "    <path d=\"M120-120v-720h720v720H120Zm60-500h600v-160H180v160Zm220 220h160v-160H400v160Zm0 220h160v-160H400v160ZM180-400h160v-160H180v160Zm440 0h160v-160H620v160ZM180-180h160v-160H180v160Zm440 0h160v-160H620v160Z\"/>\n",
              "  </svg>\n",
              "    </button>\n",
              "\n",
              "  <style>\n",
              "    .colab-df-container {\n",
              "      display:flex;\n",
              "      gap: 12px;\n",
              "    }\n",
              "\n",
              "    .colab-df-convert {\n",
              "      background-color: #E8F0FE;\n",
              "      border: none;\n",
              "      border-radius: 50%;\n",
              "      cursor: pointer;\n",
              "      display: none;\n",
              "      fill: #1967D2;\n",
              "      height: 32px;\n",
              "      padding: 0 0 0 0;\n",
              "      width: 32px;\n",
              "    }\n",
              "\n",
              "    .colab-df-convert:hover {\n",
              "      background-color: #E2EBFA;\n",
              "      box-shadow: 0px 1px 2px rgba(60, 64, 67, 0.3), 0px 1px 3px 1px rgba(60, 64, 67, 0.15);\n",
              "      fill: #174EA6;\n",
              "    }\n",
              "\n",
              "    .colab-df-buttons div {\n",
              "      margin-bottom: 4px;\n",
              "    }\n",
              "\n",
              "    [theme=dark] .colab-df-convert {\n",
              "      background-color: #3B4455;\n",
              "      fill: #D2E3FC;\n",
              "    }\n",
              "\n",
              "    [theme=dark] .colab-df-convert:hover {\n",
              "      background-color: #434B5C;\n",
              "      box-shadow: 0px 1px 3px 1px rgba(0, 0, 0, 0.15);\n",
              "      filter: drop-shadow(0px 1px 2px rgba(0, 0, 0, 0.3));\n",
              "      fill: #FFFFFF;\n",
              "    }\n",
              "  </style>\n",
              "\n",
              "    <script>\n",
              "      const buttonEl =\n",
              "        document.querySelector('#df-5204c20b-47a3-40ac-b858-7c00ac0f8bf9 button.colab-df-convert');\n",
              "      buttonEl.style.display =\n",
              "        google.colab.kernel.accessAllowed ? 'block' : 'none';\n",
              "\n",
              "      async function convertToInteractive(key) {\n",
              "        const element = document.querySelector('#df-5204c20b-47a3-40ac-b858-7c00ac0f8bf9');\n",
              "        const dataTable =\n",
              "          await google.colab.kernel.invokeFunction('convertToInteractive',\n",
              "                                                    [key], {});\n",
              "        if (!dataTable) return;\n",
              "\n",
              "        const docLinkHtml = 'Like what you see? Visit the ' +\n",
              "          '<a target=\"_blank\" href=https://colab.research.google.com/notebooks/data_table.ipynb>data table notebook</a>'\n",
              "          + ' to learn more about interactive tables.';\n",
              "        element.innerHTML = '';\n",
              "        dataTable['output_type'] = 'display_data';\n",
              "        await google.colab.output.renderOutput(dataTable, element);\n",
              "        const docLink = document.createElement('div');\n",
              "        docLink.innerHTML = docLinkHtml;\n",
              "        element.appendChild(docLink);\n",
              "      }\n",
              "    </script>\n",
              "  </div>\n",
              "\n",
              "\n",
              "<div id=\"df-cc41fd40-83bf-4f2a-b1f8-8528753830ca\">\n",
              "  <button class=\"colab-df-quickchart\" onclick=\"quickchart('df-cc41fd40-83bf-4f2a-b1f8-8528753830ca')\"\n",
              "            title=\"Suggest charts\"\n",
              "            style=\"display:none;\">\n",
              "\n",
              "<svg xmlns=\"http://www.w3.org/2000/svg\" height=\"24px\"viewBox=\"0 0 24 24\"\n",
              "     width=\"24px\">\n",
              "    <g>\n",
              "        <path d=\"M19 3H5c-1.1 0-2 .9-2 2v14c0 1.1.9 2 2 2h14c1.1 0 2-.9 2-2V5c0-1.1-.9-2-2-2zM9 17H7v-7h2v7zm4 0h-2V7h2v10zm4 0h-2v-4h2v4z\"/>\n",
              "    </g>\n",
              "</svg>\n",
              "  </button>\n",
              "\n",
              "<style>\n",
              "  .colab-df-quickchart {\n",
              "      --bg-color: #E8F0FE;\n",
              "      --fill-color: #1967D2;\n",
              "      --hover-bg-color: #E2EBFA;\n",
              "      --hover-fill-color: #174EA6;\n",
              "      --disabled-fill-color: #AAA;\n",
              "      --disabled-bg-color: #DDD;\n",
              "  }\n",
              "\n",
              "  [theme=dark] .colab-df-quickchart {\n",
              "      --bg-color: #3B4455;\n",
              "      --fill-color: #D2E3FC;\n",
              "      --hover-bg-color: #434B5C;\n",
              "      --hover-fill-color: #FFFFFF;\n",
              "      --disabled-bg-color: #3B4455;\n",
              "      --disabled-fill-color: #666;\n",
              "  }\n",
              "\n",
              "  .colab-df-quickchart {\n",
              "    background-color: var(--bg-color);\n",
              "    border: none;\n",
              "    border-radius: 50%;\n",
              "    cursor: pointer;\n",
              "    display: none;\n",
              "    fill: var(--fill-color);\n",
              "    height: 32px;\n",
              "    padding: 0;\n",
              "    width: 32px;\n",
              "  }\n",
              "\n",
              "  .colab-df-quickchart:hover {\n",
              "    background-color: var(--hover-bg-color);\n",
              "    box-shadow: 0 1px 2px rgba(60, 64, 67, 0.3), 0 1px 3px 1px rgba(60, 64, 67, 0.15);\n",
              "    fill: var(--button-hover-fill-color);\n",
              "  }\n",
              "\n",
              "  .colab-df-quickchart-complete:disabled,\n",
              "  .colab-df-quickchart-complete:disabled:hover {\n",
              "    background-color: var(--disabled-bg-color);\n",
              "    fill: var(--disabled-fill-color);\n",
              "    box-shadow: none;\n",
              "  }\n",
              "\n",
              "  .colab-df-spinner {\n",
              "    border: 2px solid var(--fill-color);\n",
              "    border-color: transparent;\n",
              "    border-bottom-color: var(--fill-color);\n",
              "    animation:\n",
              "      spin 1s steps(1) infinite;\n",
              "  }\n",
              "\n",
              "  @keyframes spin {\n",
              "    0% {\n",
              "      border-color: transparent;\n",
              "      border-bottom-color: var(--fill-color);\n",
              "      border-left-color: var(--fill-color);\n",
              "    }\n",
              "    20% {\n",
              "      border-color: transparent;\n",
              "      border-left-color: var(--fill-color);\n",
              "      border-top-color: var(--fill-color);\n",
              "    }\n",
              "    30% {\n",
              "      border-color: transparent;\n",
              "      border-left-color: var(--fill-color);\n",
              "      border-top-color: var(--fill-color);\n",
              "      border-right-color: var(--fill-color);\n",
              "    }\n",
              "    40% {\n",
              "      border-color: transparent;\n",
              "      border-right-color: var(--fill-color);\n",
              "      border-top-color: var(--fill-color);\n",
              "    }\n",
              "    60% {\n",
              "      border-color: transparent;\n",
              "      border-right-color: var(--fill-color);\n",
              "    }\n",
              "    80% {\n",
              "      border-color: transparent;\n",
              "      border-right-color: var(--fill-color);\n",
              "      border-bottom-color: var(--fill-color);\n",
              "    }\n",
              "    90% {\n",
              "      border-color: transparent;\n",
              "      border-bottom-color: var(--fill-color);\n",
              "    }\n",
              "  }\n",
              "</style>\n",
              "\n",
              "  <script>\n",
              "    async function quickchart(key) {\n",
              "      const quickchartButtonEl =\n",
              "        document.querySelector('#' + key + ' button');\n",
              "      quickchartButtonEl.disabled = true;  // To prevent multiple clicks.\n",
              "      quickchartButtonEl.classList.add('colab-df-spinner');\n",
              "      try {\n",
              "        const charts = await google.colab.kernel.invokeFunction(\n",
              "            'suggestCharts', [key], {});\n",
              "      } catch (error) {\n",
              "        console.error('Error during call to suggestCharts:', error);\n",
              "      }\n",
              "      quickchartButtonEl.classList.remove('colab-df-spinner');\n",
              "      quickchartButtonEl.classList.add('colab-df-quickchart-complete');\n",
              "    }\n",
              "    (() => {\n",
              "      let quickchartButtonEl =\n",
              "        document.querySelector('#df-cc41fd40-83bf-4f2a-b1f8-8528753830ca button');\n",
              "      quickchartButtonEl.style.display =\n",
              "        google.colab.kernel.accessAllowed ? 'block' : 'none';\n",
              "    })();\n",
              "  </script>\n",
              "</div>\n",
              "\n",
              "    </div>\n",
              "  </div>\n"
            ],
            "application/vnd.google.colaboratory.intrinsic+json": {
              "type": "dataframe",
              "variable_name": "df"
            }
          },
          "metadata": {},
          "execution_count": 66
        }
      ]
    },
    {
      "cell_type": "markdown",
      "source": [
        "##Exploring the data\n",
        "\n",
        "For this project only 'job_title' column is useful of the dataset, as it requires only text data. Rest of the data is useless for this task. However I decided to explore if It will be possible to gather any data from it."
      ],
      "metadata": {
        "id": "QWS3L0Xb_A1r"
      }
    },
    {
      "cell_type": "code",
      "source": [
        "# Unique values in connections column\n",
        "df.connection.unique()"
      ],
      "metadata": {
        "colab": {
          "base_uri": "https://localhost:8080/"
        },
        "id": "OUC7NiLa_VNR",
        "outputId": "036d5b01-c7eb-4f16-9019-b360d60516cd"
      },
      "execution_count": 68,
      "outputs": [
        {
          "output_type": "execute_result",
          "data": {
            "text/plain": [
              "array(['85', '500+ ', '44', '1', '61', '2', '390', '57', '82', '5', '7',\n",
              "       '16', '212', '409', '52', '455', '174', '268', '50', '4', '40',\n",
              "       '18', '349', '155', '39', '64', '9', '415', '19', '71', '48',\n",
              "       '103', '49'], dtype=object)"
            ]
          },
          "metadata": {},
          "execution_count": 68
        }
      ]
    },
    {
      "cell_type": "code",
      "execution_count": 4,
      "metadata": {
        "id": "dIBxyrQfWEIy"
      },
      "outputs": [],
      "source": [
        "# Function to convert \"500+\" to \"500\" and leave the rest unchanged\n",
        "def convert_connection(connection):\n",
        "    if '+' in str(connection):\n",
        "        return int(str(connection).replace('+', ''))\n",
        "    else:\n",
        "        return int(connection)"
      ]
    },
    {
      "cell_type": "code",
      "execution_count": 5,
      "metadata": {
        "id": "T47hNOZMWRui"
      },
      "outputs": [],
      "source": [
        "# Apply the conversion to the \"connection\" column\n",
        "df['connection'] = df['connection'].apply(convert_connection)"
      ]
    },
    {
      "cell_type": "code",
      "execution_count": 6,
      "metadata": {
        "id": "AKeYULhqWWmK"
      },
      "outputs": [],
      "source": [
        "# Scale the \"connection\" column to the range [0, 1]\n",
        "scaler = MinMaxScaler()\n",
        "df['scaled_connection'] = scaler.fit_transform(df[['connection']])"
      ]
    },
    {
      "cell_type": "markdown",
      "source": [
        "##Data cleaning\n",
        "Clean data to make it easy to process and more robust"
      ],
      "metadata": {
        "id": "YVNLGTaFA40J"
      }
    },
    {
      "cell_type": "code",
      "execution_count": 7,
      "metadata": {
        "id": "OaCOTdxxWamE"
      },
      "outputs": [],
      "source": [
        "# Function for text preprocessing\n",
        "def preprocess_text(text):\n",
        "    words = word_tokenize(text.lower())\n",
        "    words = [word for word in words if word.isalnum()]\n",
        "    stop_words = set(stopwords.words('english'))\n",
        "    words = [word for word in words if word not in stop_words]\n",
        "    porter_stemmer = PorterStemmer()\n",
        "    words = [porter_stemmer.stem(word) for word in words]\n",
        "    lemmatizer = WordNetLemmatizer()\n",
        "    words = [lemmatizer.lemmatize(word) for word in words]\n",
        "    return words"
      ]
    },
    {
      "cell_type": "code",
      "execution_count": 8,
      "metadata": {
        "id": "WSCpfLzfWej2"
      },
      "outputs": [],
      "source": [
        "# Apply preprocessing to each job title\n",
        "df['processed_job_title'] = df['job_title'].apply(preprocess_text)"
      ]
    },
    {
      "cell_type": "code",
      "execution_count": 9,
      "metadata": {
        "id": "ZQIRlo_JWnab"
      },
      "outputs": [],
      "source": [
        "# Function to tokenize and tag documents\n",
        "def tag_documents(df):\n",
        "    tagged_data = []\n",
        "    for i, row in df.iterrows():\n",
        "        tagged_data.append(TaggedDocument(words=row['processed_job_title'], tags=[str(row.name)]))\n",
        "    return tagged_data"
      ]
    },
    {
      "cell_type": "code",
      "execution_count": 10,
      "metadata": {
        "id": "vq1iJMQDWqqJ",
        "colab": {
          "base_uri": "https://localhost:8080/"
        },
        "outputId": "ba63e04c-01bf-48e8-da6a-374a2edc86de"
      },
      "outputs": [
        {
          "output_type": "stream",
          "name": "stdout",
          "text": [
            "[TaggedDocument(words=['2019', 'bauer', 'colleg', 'busi', 'graduat', 'magna', 'cum', 'laud', 'aspir', 'human', 'resourc', 'profession'], tags=['0']), TaggedDocument(words=['nativ', 'english', 'teacher', 'epik', 'english', 'program', 'korea'], tags=['1']), TaggedDocument(words=['aspir', 'human', 'resourc', 'profession'], tags=['2']), TaggedDocument(words=['peopl', 'develop', 'coordin', 'ryan'], tags=['3']), TaggedDocument(words=['advisori', 'board', 'member', 'celal', 'bayar', 'univers'], tags=['4']), TaggedDocument(words=['aspir', 'human', 'resourc', 'specialist'], tags=['5']), TaggedDocument(words=['student', 'humber', 'colleg', 'aspir', 'human', 'resourc', 'generalist'], tags=['6']), TaggedDocument(words=['hr', 'senior', 'specialist'], tags=['7']), TaggedDocument(words=['student', 'humber', 'colleg', 'aspir', 'human', 'resourc', 'generalist'], tags=['8']), TaggedDocument(words=['seek', 'human', 'resourc', 'hri', 'generalist', 'posit'], tags=['9']), TaggedDocument(words=['student', 'chapman', 'univers'], tags=['10']), TaggedDocument(words=['svp', 'chro', 'market', 'commun', 'csr', 'offic', 'engi', 'houston', 'woodland', 'energi', 'gphr', 'sphr'], tags=['11']), TaggedDocument(words=['human', 'resourc', 'coordin', 'intercontinent', 'buckhead', 'atlanta'], tags=['12']), TaggedDocument(words=['2019', 'bauer', 'colleg', 'busi', 'graduat', 'magna', 'cum', 'laud', 'aspir', 'human', 'resourc', 'profession'], tags=['13']), TaggedDocument(words=['2019', 'bauer', 'colleg', 'busi', 'graduat', 'magna', 'cum', 'laud', 'aspir', 'human', 'resourc', 'profession'], tags=['14']), TaggedDocument(words=['nativ', 'english', 'teacher', 'epik', 'english', 'program', 'korea'], tags=['15']), TaggedDocument(words=['aspir', 'human', 'resourc', 'profession'], tags=['16']), TaggedDocument(words=['peopl', 'develop', 'coordin', 'ryan'], tags=['17']), TaggedDocument(words=['2019', 'bauer', 'colleg', 'busi', 'graduat', 'magna', 'cum', 'laud', 'aspir', 'human', 'resourc', 'profession'], tags=['18']), TaggedDocument(words=['nativ', 'english', 'teacher', 'epik', 'english', 'program', 'korea'], tags=['19']), TaggedDocument(words=['aspir', 'human', 'resourc', 'profession'], tags=['20']), TaggedDocument(words=['peopl', 'develop', 'coordin', 'ryan'], tags=['21']), TaggedDocument(words=['advisori', 'board', 'member', 'celal', 'bayar', 'univers'], tags=['22']), TaggedDocument(words=['aspir', 'human', 'resourc', 'specialist'], tags=['23']), TaggedDocument(words=['student', 'humber', 'colleg', 'aspir', 'human', 'resourc', 'generalist'], tags=['24']), TaggedDocument(words=['hr', 'senior', 'specialist'], tags=['25']), TaggedDocument(words=['aspir', 'human', 'resourc', 'manag', 'student', 'seek', 'internship'], tags=['26']), TaggedDocument(words=['seek', 'human', 'resourc', 'opportun'], tags=['27']), TaggedDocument(words=['aspir', 'human', 'resourc', 'manag', 'student', 'seek', 'internship'], tags=['28']), TaggedDocument(words=['seek', 'human', 'resourc', 'opportun'], tags=['29']), TaggedDocument(words=['2019', 'bauer', 'colleg', 'busi', 'graduat', 'magna', 'cum', 'laud', 'aspir', 'human', 'resourc', 'profession'], tags=['30']), TaggedDocument(words=['nativ', 'english', 'teacher', 'epik', 'english', 'program', 'korea'], tags=['31']), TaggedDocument(words=['aspir', 'human', 'resourc', 'profession'], tags=['32']), TaggedDocument(words=['peopl', 'develop', 'coordin', 'ryan'], tags=['33']), TaggedDocument(words=['advisori', 'board', 'member', 'celal', 'bayar', 'univers'], tags=['34']), TaggedDocument(words=['aspir', 'human', 'resourc', 'specialist'], tags=['35']), TaggedDocument(words=['student', 'humber', 'colleg', 'aspir', 'human', 'resourc', 'generalist'], tags=['36']), TaggedDocument(words=['hr', 'senior', 'specialist'], tags=['37']), TaggedDocument(words=['student', 'humber', 'colleg', 'aspir', 'human', 'resourc', 'generalist'], tags=['38']), TaggedDocument(words=['seek', 'human', 'resourc', 'hri', 'generalist', 'posit'], tags=['39']), TaggedDocument(words=['student', 'chapman', 'univers'], tags=['40']), TaggedDocument(words=['svp', 'chro', 'market', 'commun', 'csr', 'offic', 'engi', 'houston', 'woodland', 'energi', 'gphr', 'sphr'], tags=['41']), TaggedDocument(words=['human', 'resourc', 'coordin', 'intercontinent', 'buckhead', 'atlanta'], tags=['42']), TaggedDocument(words=['2019', 'bauer', 'colleg', 'busi', 'graduat', 'magna', 'cum', 'laud', 'aspir', 'human', 'resourc', 'profession'], tags=['43']), TaggedDocument(words=['nativ', 'english', 'teacher', 'epik', 'english', 'program', 'korea'], tags=['44']), TaggedDocument(words=['aspir', 'human', 'resourc', 'profession'], tags=['45']), TaggedDocument(words=['peopl', 'develop', 'coordin', 'ryan'], tags=['46']), TaggedDocument(words=['advisori', 'board', 'member', 'celal', 'bayar', 'univers'], tags=['47']), TaggedDocument(words=['aspir', 'human', 'resourc', 'specialist'], tags=['48']), TaggedDocument(words=['student', 'humber', 'colleg', 'aspir', 'human', 'resourc', 'generalist'], tags=['49']), TaggedDocument(words=['hr', 'senior', 'specialist'], tags=['50']), TaggedDocument(words=['student', 'humber', 'colleg', 'aspir', 'human', 'resourc', 'generalist'], tags=['51']), TaggedDocument(words=['seek', 'human', 'resourc', 'hri', 'generalist', 'posit'], tags=['52']), TaggedDocument(words=['student', 'chapman', 'univers'], tags=['53']), TaggedDocument(words=['svp', 'chro', 'market', 'commun', 'csr', 'offic', 'engi', 'houston', 'woodland', 'energi', 'gphr', 'sphr'], tags=['54']), TaggedDocument(words=['human', 'resourc', 'coordin', 'intercontinent', 'buckhead', 'atlanta'], tags=['55']), TaggedDocument(words=['2019', 'bauer', 'colleg', 'busi', 'graduat', 'magna', 'cum', 'laud', 'aspir', 'human', 'resourc', 'profession'], tags=['56']), TaggedDocument(words=['aspir', 'human', 'resourc', 'profession'], tags=['57']), TaggedDocument(words=['peopl', 'develop', 'coordin', 'ryan'], tags=['58']), TaggedDocument(words=['aspir', 'human', 'resourc', 'specialist'], tags=['59']), TaggedDocument(words=['hr', 'senior', 'specialist'], tags=['60']), TaggedDocument(words=['seek', 'human', 'resourc', 'hri', 'generalist', 'posit'], tags=['61']), TaggedDocument(words=['student', 'chapman', 'univers'], tags=['62']), TaggedDocument(words=['svp', 'chro', 'market', 'commun', 'csr', 'offic', 'engi', 'houston', 'woodland', 'energi', 'gphr', 'sphr'], tags=['63']), TaggedDocument(words=['human', 'resourc', 'coordin', 'intercontinent', 'buckhead', 'atlanta'], tags=['64']), TaggedDocument(words=['experienc', 'retail', 'manag', 'aspir', 'human', 'resourc', 'profession'], tags=['65']), TaggedDocument(words=['human', 'resourc', 'staf', 'recruit', 'profession'], tags=['66']), TaggedDocument(words=['human', 'resourc', 'specialist', 'luxottica'], tags=['67']), TaggedDocument(words=['director', 'human', 'resourc', 'north', 'america', 'group', 'beneteau'], tags=['68']), TaggedDocument(words=['retir', 'armi', 'nation', 'guard', 'recruit', 'offic', 'manag', 'seek', 'posit', 'human', 'resourc'], tags=['69']), TaggedDocument(words=['human', 'resourc', 'generalist', 'scottmadden', 'inc'], tags=['70']), TaggedDocument(words=['busi', 'manag', 'major', 'aspir', 'human', 'resourc', 'manag'], tags=['71']), TaggedDocument(words=['aspir', 'human', 'resourc', 'manag', 'seek', 'internship', 'human', 'resourc'], tags=['72']), TaggedDocument(words=['human', 'resourc', 'profession'], tags=['73']), TaggedDocument(words=['nortia', 'staf', 'seek', 'human', 'resourc', 'payrol', 'administr', 'profession', '408'], tags=['74']), TaggedDocument(words=['aspir', 'human', 'resourc', 'profession', 'passion', 'help', 'creat', 'inclus', 'engag', 'work', 'environ'], tags=['75']), TaggedDocument(words=['human', 'conflict', 'polici', 'compens'], tags=['76']), TaggedDocument(words=['human', 'resourc', 'generalist', 'schwan'], tags=['77']), TaggedDocument(words=['liber', 'art', 'major', 'aspir', 'human', 'resourc', 'analyst'], tags=['78']), TaggedDocument(words=['junior', 'me', 'inform', 'system'], tags=['79']), TaggedDocument(words=['senior', 'human', 'resourc', 'busi', 'partner', 'heil', 'environment'], tags=['80']), TaggedDocument(words=['aspir', 'human', 'resourc', 'profession', 'energet', 'leader'], tags=['81']), TaggedDocument(words=['hr', 'manag', 'endemol', 'shine', 'north', 'america'], tags=['82']), TaggedDocument(words=['human', 'resourc', 'profession', 'world', 'leader', 'gi', 'softwar'], tags=['83']), TaggedDocument(words=['rrp', 'brand', 'portfolio', 'execut', 'jti', 'japan', 'tobacco', 'intern'], tags=['84']), TaggedDocument(words=['inform', 'system', 'specialist', 'programm', 'love', 'data', 'organ'], tags=['85']), TaggedDocument(words=['bachelor', 'scienc', 'biolog', 'victoria', 'univers', 'wellington'], tags=['86']), TaggedDocument(words=['human', 'resourc', 'manag', 'major'], tags=['87']), TaggedDocument(words=['director', 'human', 'resourc', 'ey'], tags=['88']), TaggedDocument(words=['undergradu', 'research', 'assist', 'styczynski', 'lab'], tags=['89']), TaggedDocument(words=['lead', 'offici', 'western', 'illinoi', 'univers'], tags=['90']), TaggedDocument(words=['seek', 'employ', 'opportun', 'within', 'custom', 'servic', 'patient', 'care'], tags=['91']), TaggedDocument(words=['admiss', 'repres', 'commun', 'medic', 'center', 'long', 'beach'], tags=['92']), TaggedDocument(words=['seek', 'human', 'resourc', 'opportun', 'open', 'travel', 'reloc'], tags=['93']), TaggedDocument(words=['student', 'westfield', 'state', 'univers'], tags=['94']), TaggedDocument(words=['student', 'indiana', 'univers', 'kokomo', 'busi', 'manag', 'retail', 'manag', 'delphi', 'hardwar', 'paint'], tags=['95']), TaggedDocument(words=['aspir', 'human', 'resourc', 'profession'], tags=['96']), TaggedDocument(words=['student'], tags=['97']), TaggedDocument(words=['seek', 'human', 'resourc', 'posit'], tags=['98']), TaggedDocument(words=['aspir', 'human', 'resourc', 'manag', 'graduat', 'may', '2020', 'seek', 'human', 'resourc', 'posit', 'loui'], tags=['99']), TaggedDocument(words=['human', 'resourc', 'generalist', 'loparex'], tags=['100']), TaggedDocument(words=['busi', 'intellig', 'analyt', 'travel'], tags=['101']), TaggedDocument(words=['alway', 'set', 'success'], tags=['102']), TaggedDocument(words=['director', 'administr', 'excel', 'log'], tags=['103'])]\n"
          ]
        }
      ],
      "source": [
        "# Tokenize and tag documents\n",
        "tagged_data = tag_documents(df)\n",
        "print(tagged_data)"
      ]
    },
    {
      "cell_type": "code",
      "execution_count": 11,
      "metadata": {
        "id": "F7v3q5R9WuHz"
      },
      "outputs": [],
      "source": [
        "# Train a Doc2Vec model\n",
        "model = Doc2Vec(vector_size=50, window=2, min_count=1, workers=4, epochs=100)\n",
        "model.build_vocab(tagged_data)\n",
        "model.train(tagged_data, total_examples=model.corpus_count, epochs=model.epochs)"
      ]
    },
    {
      "cell_type": "markdown",
      "source": [
        "##Vectorize job title"
      ],
      "metadata": {
        "id": "_szBtFLgBY_P"
      }
    },
    {
      "cell_type": "code",
      "execution_count": 12,
      "metadata": {
        "id": "W7rwHsWDW4Kz"
      },
      "outputs": [],
      "source": [
        "# Get the embedding for \"Aspiring human resources\" (w1)\n",
        "w1 = 'Aspiring human resources'\n",
        "vector_w1 = model.infer_vector(preprocess_text(w1))"
      ]
    },
    {
      "cell_type": "code",
      "execution_count": 13,
      "metadata": {
        "id": "zOF2kUepPsvU"
      },
      "outputs": [],
      "source": [
        "# Add another word \"seeking human resources\" (w2)\n",
        "w2 = 'Seeking human resources'\n",
        "vector_w2 = model.infer_vector(preprocess_text(w2))"
      ]
    },
    {
      "cell_type": "markdown",
      "source": [
        "##Cosine Similarity\n",
        "Calculate cosine similarity between document and the searched phrase"
      ],
      "metadata": {
        "id": "131gP9oPBODg"
      }
    },
    {
      "cell_type": "code",
      "execution_count": 14,
      "metadata": {
        "id": "Mct2HjPpnZgS"
      },
      "outputs": [],
      "source": [
        "# Calculate cosine similarity between w1 and w2\n",
        "similarity_w1_w2 = cosine_similarity([vector_w1], [vector_w2])[0][0]"
      ]
    },
    {
      "cell_type": "code",
      "execution_count": 15,
      "metadata": {
        "id": "O5EpvQ5LnOnE",
        "colab": {
          "base_uri": "https://localhost:8080/"
        },
        "outputId": "ea2ee224-7063-4969-c7d3-f6a49397e455"
      },
      "outputs": [
        {
          "output_type": "stream",
          "name": "stdout",
          "text": [
            "Cosine Similarity between \"Aspiring human resources\" and \"Seeking human resources\": 0.9811354279518127\n"
          ]
        }
      ],
      "source": [
        "# Print the cosine similarity between w1 and w2\n",
        "print(f'Cosine Similarity between \"{w1}\" and \"{w2}\": {similarity_w1_w2}')"
      ]
    },
    {
      "cell_type": "code",
      "execution_count": 16,
      "metadata": {
        "id": "5LFvCimLZdDU"
      },
      "outputs": [],
      "source": [
        " # Calculate cosine similarity between w1, w2, and each job title\n",
        "similarities_w1 = []\n",
        "similarities_w2 = []\n",
        "for i, row in df.iterrows():\n",
        "    title = row['job_title']\n",
        "    vector_title = model.infer_vector(preprocess_text(title))\n",
        "    similarity_w1 = cosine_similarity([vector_w1], [vector_title])[0][0]\n",
        "    similarity_w2 = cosine_similarity([vector_w2], [vector_title])[0][0]\n",
        "    similarities_w1.append(similarity_w1)\n",
        "    similarities_w2.append(similarity_w2)"
      ]
    },
    {
      "cell_type": "markdown",
      "source": [
        "### Add cosine similarities to the DataFrame\n"
      ],
      "metadata": {
        "id": "y64WGSa5BwuI"
      }
    },
    {
      "cell_type": "code",
      "execution_count": 17,
      "metadata": {
        "id": "WANsIOPcZjC6"
      },
      "outputs": [],
      "source": [
        "# Add cosine similarities to the DataFrame\n",
        "df['cosine_similarity_w1'] = similarities_w1\n",
        "df['cosine_similarity_w2'] = similarities_w2"
      ]
    },
    {
      "cell_type": "code",
      "execution_count": 18,
      "metadata": {
        "id": "ETtLEcWsoohB"
      },
      "outputs": [],
      "source": [
        "# Weighted sum of cosine_similarity and scaled_connection\n",
        "weight_cosine = 0.8\n",
        "weight_connection = 0.2\n",
        "df['ranking_w1'] = weight_cosine * df['cosine_similarity_w1'] + weight_connection * df['scaled_connection']\n",
        "df['ranking_w2'] = weight_cosine * df['cosine_similarity_w2'] + weight_connection * df['scaled_connection']"
      ]
    },
    {
      "cell_type": "code",
      "execution_count": 19,
      "metadata": {
        "id": "CXypwXkqotGy"
      },
      "outputs": [],
      "source": [
        "# Sort the DataFrame based on the \"ranking_w1\" column in descending order\n",
        "df_sorted = df.sort_values(by='ranking_w1', ascending=False)"
      ]
    },
    {
      "cell_type": "code",
      "execution_count": 20,
      "metadata": {
        "id": "xaYsXJePRNIx",
        "colab": {
          "base_uri": "https://localhost:8080/"
        },
        "outputId": "a2025865-839d-4562-ee4c-b37dc5564cee"
      },
      "outputs": [
        {
          "output_type": "stream",
          "name": "stdout",
          "text": [
            "                                             job_title  scaled_connection  \\\n",
            "70     Human Resources Generalist at ScottMadden, Inc.           1.000000   \n",
            "102                     Always set them up for Success           1.000000   \n",
            "100              Human Resources Generalist at Loparex           1.000000   \n",
            "84   RRP Brand Portfolio Executive at JTI (Japan To...           1.000000   \n",
            "60                                HR Senior Specialist           1.000000   \n",
            "..                                                 ...                ...   \n",
            "0    2019 C.T. Bauer College of Business Graduate (...           0.168337   \n",
            "30   2019 C.T. Bauer College of Business Graduate (...           0.168337   \n",
            "14   2019 C.T. Bauer College of Business Graduate (...           0.168337   \n",
            "18   2019 C.T. Bauer College of Business Graduate (...           0.168337   \n",
            "56   2019 C.T. Bauer College of Business Graduate (...           0.168337   \n",
            "\n",
            "     cosine_similarity_w1  cosine_similarity_w2  ranking_w1  ranking_w2  \n",
            "70               0.987476              0.988261    0.989980    0.990608  \n",
            "102              0.987198              0.987090    0.989758    0.989672  \n",
            "100              0.986904              0.988306    0.989523    0.990645  \n",
            "84               0.986882              0.985606    0.989506    0.988485  \n",
            "60               0.986617              0.987022    0.989293    0.989618  \n",
            "..                    ...                   ...         ...         ...  \n",
            "0                0.934663              0.918013    0.781398    0.768078  \n",
            "30               0.927881              0.912725    0.775972    0.763848  \n",
            "14               0.922446              0.906442    0.771624    0.758821  \n",
            "18               0.915399              0.896551    0.765987    0.750909  \n",
            "56               0.898803              0.878713    0.752710    0.736638  \n",
            "\n",
            "[104 rows x 6 columns]\n"
          ]
        }
      ],
      "source": [
        "# Print the sorted DataFrame\n",
        "print(df_sorted[['job_title', 'scaled_connection', 'cosine_similarity_w1', 'cosine_similarity_w2', 'ranking_w1', 'ranking_w2']])"
      ]
    },
    {
      "cell_type": "markdown",
      "source": [
        "##BERT (Bidirectional Encoded Representations from Transformers)\n",
        "BERT is a modern NLP technique developed by Google in 2018. It is used to solve a varierty of NLP problems including similarity of sentences. We'll use this technique to get similarity scores for our job titl"
      ],
      "metadata": {
        "id": "JvlKMgxECHeN"
      }
    },
    {
      "cell_type": "markdown",
      "metadata": {
        "id": "lYRyEAgGkGDc"
      },
      "source": [
        "### Adding Bert Embeddings_Doctovec"
      ]
    },
    {
      "cell_type": "code",
      "execution_count": 21,
      "metadata": {
        "colab": {
          "base_uri": "https://localhost:8080/"
        },
        "id": "LmxsvQdvGst9",
        "outputId": "847f7673-984c-4067-c070-cc137cf5958a"
      },
      "outputs": [
        {
          "output_type": "stream",
          "name": "stdout",
          "text": [
            "Requirement already satisfied: transformers in /usr/local/lib/python3.10/dist-packages (4.35.2)\n",
            "Requirement already satisfied: filelock in /usr/local/lib/python3.10/dist-packages (from transformers) (3.13.1)\n",
            "Requirement already satisfied: huggingface-hub<1.0,>=0.16.4 in /usr/local/lib/python3.10/dist-packages (from transformers) (0.20.3)\n",
            "Requirement already satisfied: numpy>=1.17 in /usr/local/lib/python3.10/dist-packages (from transformers) (1.25.2)\n",
            "Requirement already satisfied: packaging>=20.0 in /usr/local/lib/python3.10/dist-packages (from transformers) (23.2)\n",
            "Requirement already satisfied: pyyaml>=5.1 in /usr/local/lib/python3.10/dist-packages (from transformers) (6.0.1)\n",
            "Requirement already satisfied: regex!=2019.12.17 in /usr/local/lib/python3.10/dist-packages (from transformers) (2023.12.25)\n",
            "Requirement already satisfied: requests in /usr/local/lib/python3.10/dist-packages (from transformers) (2.31.0)\n",
            "Requirement already satisfied: tokenizers<0.19,>=0.14 in /usr/local/lib/python3.10/dist-packages (from transformers) (0.15.1)\n",
            "Requirement already satisfied: safetensors>=0.3.1 in /usr/local/lib/python3.10/dist-packages (from transformers) (0.4.2)\n",
            "Requirement already satisfied: tqdm>=4.27 in /usr/local/lib/python3.10/dist-packages (from transformers) (4.66.1)\n",
            "Requirement already satisfied: fsspec>=2023.5.0 in /usr/local/lib/python3.10/dist-packages (from huggingface-hub<1.0,>=0.16.4->transformers) (2023.6.0)\n",
            "Requirement already satisfied: typing-extensions>=3.7.4.3 in /usr/local/lib/python3.10/dist-packages (from huggingface-hub<1.0,>=0.16.4->transformers) (4.9.0)\n",
            "Requirement already satisfied: charset-normalizer<4,>=2 in /usr/local/lib/python3.10/dist-packages (from requests->transformers) (3.3.2)\n",
            "Requirement already satisfied: idna<4,>=2.5 in /usr/local/lib/python3.10/dist-packages (from requests->transformers) (3.6)\n",
            "Requirement already satisfied: urllib3<3,>=1.21.1 in /usr/local/lib/python3.10/dist-packages (from requests->transformers) (2.0.7)\n",
            "Requirement already satisfied: certifi>=2017.4.17 in /usr/local/lib/python3.10/dist-packages (from requests->transformers) (2024.2.2)\n"
          ]
        }
      ],
      "source": [
        "pip install transformers"
      ]
    },
    {
      "cell_type": "code",
      "execution_count": 22,
      "metadata": {
        "id": "WcHyYkR-G2cv"
      },
      "outputs": [],
      "source": [
        "# Tokenize and tag documents for Doc2Vec\n",
        "tagged_data_doc2vec = tag_documents(df)"
      ]
    },
    {
      "cell_type": "code",
      "execution_count": 23,
      "metadata": {
        "id": "o0pGQhXdHEF7"
      },
      "outputs": [],
      "source": [
        "# Train a Doc2Vec model\n",
        "model_doc2vec = Doc2Vec(vector_size=50, window=2, min_count=1, workers=4, epochs=100)\n",
        "model_doc2vec.build_vocab(tagged_data_doc2vec)\n",
        "model_doc2vec.train(tagged_data_doc2vec, total_examples=model_doc2vec.corpus_count, epochs=model_doc2vec.epochs)"
      ]
    },
    {
      "cell_type": "code",
      "execution_count": 24,
      "metadata": {
        "id": "UtEGtDrTHKXu"
      },
      "outputs": [],
      "source": [
        "# Get the embeddings for \"Aspiring human resources\" and \"Seeking human resources\"\n",
        "w1_doc2vec = model_doc2vec.infer_vector(preprocess_text('Aspiring human resources'))\n",
        "w2_doc2vec = model_doc2vec.infer_vector(preprocess_text('Seeking human resources'))"
      ]
    },
    {
      "cell_type": "code",
      "execution_count": 25,
      "metadata": {
        "id": "EubqxV8gHcxv"
      },
      "outputs": [],
      "source": [
        "# Calculate cosine similarity between w1_doc2vec and w2_doc2vec\n",
        "cosine_similarity_doc2vec = cosine_similarity([w1_doc2vec], [w2_doc2vec])[0][0]"
      ]
    },
    {
      "cell_type": "code",
      "execution_count": 26,
      "metadata": {
        "id": "zGAjm-ukHuc-"
      },
      "outputs": [],
      "source": [
        "# Add cosine similarities to the DataFrame\n",
        "df['cosine_similarity_doc2vec'] = cosine_similarity_doc2vec"
      ]
    },
    {
      "cell_type": "code",
      "execution_count": 27,
      "metadata": {
        "id": "M8nvgPkpIQzY"
      },
      "outputs": [],
      "source": [
        "df['scaled_connection_doc2vec'] = MinMaxScaler().fit_transform(df[['connection']])\n",
        "df['ranking_doc2vec'] = 0.8 * df['cosine_similarity_doc2vec'] + 0.2 * df['scaled_connection_doc2vec']\n",
        "df_sorted_doc2vec = df.sort_values(by='ranking_doc2vec', ascending=False)"
      ]
    },
    {
      "cell_type": "code",
      "execution_count": 28,
      "metadata": {
        "colab": {
          "base_uri": "https://localhost:8080/"
        },
        "id": "E1bZYbeXIW9t",
        "outputId": "23407ccd-6505-4ad4-a2fe-78c9b205d14d"
      },
      "outputs": [
        {
          "output_type": "stream",
          "name": "stdout",
          "text": [
            "DataFrame with Doc2Vec embeddings:\n",
            "                                            job_title  connection  \\\n",
            "52  Seeking Human Resources HRIS and Generalist Po...         500   \n",
            "58             People Development Coordinator at Ryan         500   \n",
            "34    Advisory Board Member at Celal Bayar University         500   \n",
            "37                               HR Senior Specialist         500   \n",
            "39  Seeking Human Resources HRIS and Generalist Po...         500   \n",
            "..                                                ...         ...   \n",
            "48                Aspiring Human Resources Specialist           1   \n",
            "35                Aspiring Human Resources Specialist           1   \n",
            "59                Aspiring Human Resources Specialist           1   \n",
            "5                 Aspiring Human Resources Specialist           1   \n",
            "23                Aspiring Human Resources Specialist           1   \n",
            "\n",
            "    cosine_similarity_doc2vec  ranking_doc2vec  \n",
            "52                   0.981135         0.984908  \n",
            "58                   0.981135         0.984908  \n",
            "34                   0.981135         0.984908  \n",
            "37                   0.981135         0.984908  \n",
            "39                   0.981135         0.984908  \n",
            "..                        ...              ...  \n",
            "48                   0.981135         0.784908  \n",
            "35                   0.981135         0.784908  \n",
            "59                   0.981135         0.784908  \n",
            "5                    0.981135         0.784908  \n",
            "23                   0.981135         0.784908  \n",
            "\n",
            "[104 rows x 4 columns]\n"
          ]
        }
      ],
      "source": [
        "# Display the DataFrame with Doc2Vec embeddings\n",
        "print(\"DataFrame with Doc2Vec embeddings:\")\n",
        "print(df_sorted_doc2vec[['job_title', 'connection', 'cosine_similarity_doc2vec', 'ranking_doc2vec']])"
      ]
    },
    {
      "cell_type": "code",
      "execution_count": 29,
      "metadata": {
        "id": "Ehfm6dFTIfiG",
        "colab": {
          "base_uri": "https://localhost:8080/",
          "height": 301,
          "referenced_widgets": [
            "bdcf945d3c634596baf5f62314f27963",
            "fb60a20f8faa4ed2b9eaddbd26bccbd1",
            "f89b1139e05d4168894fa56337fd519e",
            "f6812c8393b54b3591a738142f9cb81e",
            "2538233747524fc1a1e8a87e60209b33",
            "3e11969183d94c6b822f766aa74d7568",
            "3e639543c2ee467fb25768fc48e994f1",
            "c228c1ea0a3f4b8fb162d8f5d42313ba",
            "d61b3a77dcaa4a078c6fbaefdadf1c73",
            "9329732c90fe4036b6993a23db5bc773",
            "086d40a95e924ca189cc885b8eb0d189",
            "7fe18b78ccd44127a02aee8c82a394b8",
            "c0c7dd5bac1646d4b33b0096cfcde023",
            "ae07f53bde144ff3ad0d6f9989e33692",
            "ea1aa503b8df42dd8009a386c1e2607d",
            "5f2c2f1646df4a629bae38e3888e1ac4",
            "a739e5489d0c4fd098b3a3e69ddb0e8b",
            "ef27ae2185f64df4aa2b01374e50452f",
            "3591b8d5fb9845ba93e3274287cc6bc3",
            "480076a5f61c4e51887d05dea39622cb",
            "856da1375b954cf6aa1f80022ec4b8b4",
            "bbf99bd087314d73bddfc41d880c5b69",
            "a614f39001b34d59bdeaa45318e9e03b",
            "247441361c8c4cb0b213cc8d144e7c74",
            "c16b14bd8a414463aa93b96c5eddc3db",
            "786bdce8b53449b09e5773792a6f403e",
            "80b51c8350304e77aca175ba190cc4d2",
            "95f8d0655d96400a93669ffaa2fb1593",
            "09b976898a9b45c7b9676bb70b130252",
            "59592687136647b2a9ac7c59986fb353",
            "8e3853bfca6b42148aed83760efc534f",
            "761c79cec6f14400a989a49899c19f07",
            "0912a1fe88a24b6b8a3b4f731a091891",
            "d726c301927e40bbaf987e33ce54c118",
            "97daff9233ed409c9895a3c3dca12bbb",
            "d7f55774f15d40eaa8ae1f6739c232b1",
            "dcaa04f331834ee2a88a58437beeb6e9",
            "707e5a8970814de4995a5317d70bbb05",
            "a83af085ed6a416f8b1cabd8db4e6479",
            "c5c5fcfae21742f5a1d96c9ed2916956",
            "4c29a97aa81d4a819501f5bd9f334298",
            "060b6c39ca7a4872a7423485158ff46e",
            "044f5ebb74ce4fd789b38d79582cdf6f",
            "b57e0269728a4b269e66d5caaaba176a",
            "1bef121cb17446ae9ed92d359ab77aed",
            "c1e3da4176aa4118ac00ece92b8a80c7",
            "c30623a913ac41ecb9060967fb07bbad",
            "8445295a4f064a1f9424bf9bcdfef7ca",
            "d166a4ee8d1547659ad3996b74c54ce8",
            "d231ed432865445e8e4794a29fe2ca93",
            "7aea7a1e6c704530b60fd00194df8050",
            "092f02767f054af98a148aae97ac6579",
            "37d01dcee45f4a7490cd3ed56d6a9d3a",
            "c1bcc8b318cb45518cf618062d364f19",
            "211e74a3ae5e49efb2fc12d62210e9c4"
          ]
        },
        "outputId": "146bed25-649b-4adc-9414-e696609f127b"
      },
      "outputs": [
        {
          "output_type": "stream",
          "name": "stderr",
          "text": [
            "/usr/local/lib/python3.10/dist-packages/huggingface_hub/utils/_token.py:88: UserWarning: \n",
            "The secret `HF_TOKEN` does not exist in your Colab secrets.\n",
            "To authenticate with the Hugging Face Hub, create a token in your settings tab (https://huggingface.co/settings/tokens), set it as secret in your Google Colab and restart your session.\n",
            "You will be able to reuse this secret in all of your notebooks.\n",
            "Please note that authentication is recommended but still optional to access public models or datasets.\n",
            "  warnings.warn(\n"
          ]
        },
        {
          "output_type": "display_data",
          "data": {
            "text/plain": [
              "tokenizer_config.json:   0%|          | 0.00/28.0 [00:00<?, ?B/s]"
            ],
            "application/vnd.jupyter.widget-view+json": {
              "version_major": 2,
              "version_minor": 0,
              "model_id": "bdcf945d3c634596baf5f62314f27963"
            }
          },
          "metadata": {}
        },
        {
          "output_type": "display_data",
          "data": {
            "text/plain": [
              "vocab.txt:   0%|          | 0.00/232k [00:00<?, ?B/s]"
            ],
            "application/vnd.jupyter.widget-view+json": {
              "version_major": 2,
              "version_minor": 0,
              "model_id": "7fe18b78ccd44127a02aee8c82a394b8"
            }
          },
          "metadata": {}
        },
        {
          "output_type": "display_data",
          "data": {
            "text/plain": [
              "tokenizer.json:   0%|          | 0.00/466k [00:00<?, ?B/s]"
            ],
            "application/vnd.jupyter.widget-view+json": {
              "version_major": 2,
              "version_minor": 0,
              "model_id": "a614f39001b34d59bdeaa45318e9e03b"
            }
          },
          "metadata": {}
        },
        {
          "output_type": "display_data",
          "data": {
            "text/plain": [
              "config.json:   0%|          | 0.00/570 [00:00<?, ?B/s]"
            ],
            "application/vnd.jupyter.widget-view+json": {
              "version_major": 2,
              "version_minor": 0,
              "model_id": "d726c301927e40bbaf987e33ce54c118"
            }
          },
          "metadata": {}
        },
        {
          "output_type": "display_data",
          "data": {
            "text/plain": [
              "model.safetensors:   0%|          | 0.00/440M [00:00<?, ?B/s]"
            ],
            "application/vnd.jupyter.widget-view+json": {
              "version_major": 2,
              "version_minor": 0,
              "model_id": "1bef121cb17446ae9ed92d359ab77aed"
            }
          },
          "metadata": {}
        }
      ],
      "source": [
        "# For BERT embeddings, need a pretrained BERT model and tokenizer\n",
        "tokenizer = BertTokenizer.from_pretrained('bert-base-uncased')\n",
        "model_bert = BertModel.from_pretrained('bert-base-uncased')"
      ]
    },
    {
      "cell_type": "code",
      "execution_count": 30,
      "metadata": {
        "id": "pPO9TKdoImwo"
      },
      "outputs": [],
      "source": [
        "# Function to get BERT embeddings\n",
        "def get_bert_embedding(text):\n",
        "    tokens = tokenizer(text, return_tensors='pt', truncation=True, padding=True)\n",
        "    with torch.no_grad():\n",
        "        output = model_bert(**tokens)\n",
        "    return output.pooler_output.numpy().squeeze()"
      ]
    },
    {
      "cell_type": "code",
      "execution_count": 31,
      "metadata": {
        "id": "1VLNZ-fKI6u0"
      },
      "outputs": [],
      "source": [
        "# Get BERT embeddings for \"Aspiring human resources\" and \"Seeking human resources\"\n",
        "w1_bert = get_bert_embedding('Aspiring human resources')\n",
        "w2_bert = get_bert_embedding('Seeking human resources')"
      ]
    },
    {
      "cell_type": "code",
      "execution_count": 32,
      "metadata": {
        "id": "sIOivvpDI_0v"
      },
      "outputs": [],
      "source": [
        "# Calculate cosine similarity between w1_bert and w2_bert\n",
        "cosine_similarity_bert = cosine_similarity([w1_bert], [w2_bert])[0][0]"
      ]
    },
    {
      "cell_type": "code",
      "execution_count": 33,
      "metadata": {
        "id": "JXCb_LPUJQdT"
      },
      "outputs": [],
      "source": [
        "# Add cosine similarities to the DataFrame\n",
        "df['cosine_similarity_bert'] = cosine_similarity_bert"
      ]
    },
    {
      "cell_type": "code",
      "execution_count": 34,
      "metadata": {
        "id": "BONrJhjiJYGN"
      },
      "outputs": [],
      "source": [
        "df['scaled_connection_bert'] = MinMaxScaler().fit_transform(df[['connection']])\n",
        "df['ranking_bert'] = 0.8 * df['cosine_similarity_bert'] + 0.2 * df['scaled_connection_bert']\n",
        "df_sorted_bert = df.sort_values(by='ranking_bert', ascending=False)"
      ]
    },
    {
      "cell_type": "code",
      "execution_count": 35,
      "metadata": {
        "id": "2kfjTudIJfkb",
        "colab": {
          "base_uri": "https://localhost:8080/"
        },
        "outputId": "de61394f-c0b0-4917-e640-e28a40417bff"
      },
      "outputs": [
        {
          "output_type": "stream",
          "name": "stdout",
          "text": [
            "\n",
            "DataFrame with BERT embeddings:\n",
            "                                            job_title  connection  \\\n",
            "52  Seeking Human Resources HRIS and Generalist Po...         500   \n",
            "58             People Development Coordinator at Ryan         500   \n",
            "34    Advisory Board Member at Celal Bayar University         500   \n",
            "37                               HR Senior Specialist         500   \n",
            "39  Seeking Human Resources HRIS and Generalist Po...         500   \n",
            "..                                                ...         ...   \n",
            "48                Aspiring Human Resources Specialist           1   \n",
            "35                Aspiring Human Resources Specialist           1   \n",
            "59                Aspiring Human Resources Specialist           1   \n",
            "5                 Aspiring Human Resources Specialist           1   \n",
            "23                Aspiring Human Resources Specialist           1   \n",
            "\n",
            "    cosine_similarity_bert  ranking_bert  \n",
            "52                0.990385      0.992308  \n",
            "58                0.990385      0.992308  \n",
            "34                0.990385      0.992308  \n",
            "37                0.990385      0.992308  \n",
            "39                0.990385      0.992308  \n",
            "..                     ...           ...  \n",
            "48                0.990385      0.792308  \n",
            "35                0.990385      0.792308  \n",
            "59                0.990385      0.792308  \n",
            "5                 0.990385      0.792308  \n",
            "23                0.990385      0.792308  \n",
            "\n",
            "[104 rows x 4 columns]\n"
          ]
        }
      ],
      "source": [
        "# Display the DataFrame with BERT embeddings\n",
        "print(\"\\nDataFrame with BERT embeddings:\")\n",
        "print(df_sorted_bert[['job_title', 'connection', 'cosine_similarity_bert', 'ranking_bert']])"
      ]
    },
    {
      "cell_type": "markdown",
      "source": [
        "###Bert Embeddings for sentencetovec"
      ],
      "metadata": {
        "id": "mTBYdaOlB2wm"
      }
    },
    {
      "cell_type": "code",
      "execution_count": 36,
      "metadata": {
        "id": "2p4R8HgibA1Q",
        "colab": {
          "base_uri": "https://localhost:8080/"
        },
        "outputId": "fced2644-a101-4364-c6b2-f9a875deafe3"
      },
      "outputs": [
        {
          "output_type": "stream",
          "name": "stdout",
          "text": [
            "Collecting sentence-transformers\n",
            "  Downloading sentence_transformers-2.3.1-py3-none-any.whl (132 kB)\n",
            "\u001b[?25l     \u001b[90m━━━━━━━━━━━━━━━━━━━━━━━━━━━━━━━━━━━━━━━━\u001b[0m \u001b[32m0.0/132.8 kB\u001b[0m \u001b[31m?\u001b[0m eta \u001b[36m-:--:--\u001b[0m\r\u001b[2K     \u001b[91m━━━━━━━━━━━━━━━━━━━━━━━━━━━━━━━━━━━━━\u001b[0m\u001b[90m╺\u001b[0m\u001b[90m━━\u001b[0m \u001b[32m122.9/132.8 kB\u001b[0m \u001b[31m3.4 MB/s\u001b[0m eta \u001b[36m0:00:01\u001b[0m\r\u001b[2K     \u001b[90m━━━━━━━━━━━━━━━━━━━━━━━━━━━━━━━━━━━━━━━━\u001b[0m \u001b[32m132.8/132.8 kB\u001b[0m \u001b[31m2.9 MB/s\u001b[0m eta \u001b[36m0:00:00\u001b[0m\n",
            "\u001b[?25hRequirement already satisfied: transformers<5.0.0,>=4.32.0 in /usr/local/lib/python3.10/dist-packages (from sentence-transformers) (4.35.2)\n",
            "Requirement already satisfied: tqdm in /usr/local/lib/python3.10/dist-packages (from sentence-transformers) (4.66.1)\n",
            "Requirement already satisfied: torch>=1.11.0 in /usr/local/lib/python3.10/dist-packages (from sentence-transformers) (2.1.0+cu121)\n",
            "Requirement already satisfied: numpy in /usr/local/lib/python3.10/dist-packages (from sentence-transformers) (1.25.2)\n",
            "Requirement already satisfied: scikit-learn in /usr/local/lib/python3.10/dist-packages (from sentence-transformers) (1.2.2)\n",
            "Requirement already satisfied: scipy in /usr/local/lib/python3.10/dist-packages (from sentence-transformers) (1.11.4)\n",
            "Requirement already satisfied: nltk in /usr/local/lib/python3.10/dist-packages (from sentence-transformers) (3.8.1)\n",
            "Requirement already satisfied: sentencepiece in /usr/local/lib/python3.10/dist-packages (from sentence-transformers) (0.1.99)\n",
            "Requirement already satisfied: huggingface-hub>=0.15.1 in /usr/local/lib/python3.10/dist-packages (from sentence-transformers) (0.20.3)\n",
            "Requirement already satisfied: Pillow in /usr/local/lib/python3.10/dist-packages (from sentence-transformers) (9.4.0)\n",
            "Requirement already satisfied: filelock in /usr/local/lib/python3.10/dist-packages (from huggingface-hub>=0.15.1->sentence-transformers) (3.13.1)\n",
            "Requirement already satisfied: fsspec>=2023.5.0 in /usr/local/lib/python3.10/dist-packages (from huggingface-hub>=0.15.1->sentence-transformers) (2023.6.0)\n",
            "Requirement already satisfied: requests in /usr/local/lib/python3.10/dist-packages (from huggingface-hub>=0.15.1->sentence-transformers) (2.31.0)\n",
            "Requirement already satisfied: pyyaml>=5.1 in /usr/local/lib/python3.10/dist-packages (from huggingface-hub>=0.15.1->sentence-transformers) (6.0.1)\n",
            "Requirement already satisfied: typing-extensions>=3.7.4.3 in /usr/local/lib/python3.10/dist-packages (from huggingface-hub>=0.15.1->sentence-transformers) (4.9.0)\n",
            "Requirement already satisfied: packaging>=20.9 in /usr/local/lib/python3.10/dist-packages (from huggingface-hub>=0.15.1->sentence-transformers) (23.2)\n",
            "Requirement already satisfied: sympy in /usr/local/lib/python3.10/dist-packages (from torch>=1.11.0->sentence-transformers) (1.12)\n",
            "Requirement already satisfied: networkx in /usr/local/lib/python3.10/dist-packages (from torch>=1.11.0->sentence-transformers) (3.2.1)\n",
            "Requirement already satisfied: jinja2 in /usr/local/lib/python3.10/dist-packages (from torch>=1.11.0->sentence-transformers) (3.1.3)\n",
            "Requirement already satisfied: triton==2.1.0 in /usr/local/lib/python3.10/dist-packages (from torch>=1.11.0->sentence-transformers) (2.1.0)\n",
            "Requirement already satisfied: regex!=2019.12.17 in /usr/local/lib/python3.10/dist-packages (from transformers<5.0.0,>=4.32.0->sentence-transformers) (2023.12.25)\n",
            "Requirement already satisfied: tokenizers<0.19,>=0.14 in /usr/local/lib/python3.10/dist-packages (from transformers<5.0.0,>=4.32.0->sentence-transformers) (0.15.1)\n",
            "Requirement already satisfied: safetensors>=0.3.1 in /usr/local/lib/python3.10/dist-packages (from transformers<5.0.0,>=4.32.0->sentence-transformers) (0.4.2)\n",
            "Requirement already satisfied: click in /usr/local/lib/python3.10/dist-packages (from nltk->sentence-transformers) (8.1.7)\n",
            "Requirement already satisfied: joblib in /usr/local/lib/python3.10/dist-packages (from nltk->sentence-transformers) (1.3.2)\n",
            "Requirement already satisfied: threadpoolctl>=2.0.0 in /usr/local/lib/python3.10/dist-packages (from scikit-learn->sentence-transformers) (3.2.0)\n",
            "Requirement already satisfied: MarkupSafe>=2.0 in /usr/local/lib/python3.10/dist-packages (from jinja2->torch>=1.11.0->sentence-transformers) (2.1.5)\n",
            "Requirement already satisfied: charset-normalizer<4,>=2 in /usr/local/lib/python3.10/dist-packages (from requests->huggingface-hub>=0.15.1->sentence-transformers) (3.3.2)\n",
            "Requirement already satisfied: idna<4,>=2.5 in /usr/local/lib/python3.10/dist-packages (from requests->huggingface-hub>=0.15.1->sentence-transformers) (3.6)\n",
            "Requirement already satisfied: urllib3<3,>=1.21.1 in /usr/local/lib/python3.10/dist-packages (from requests->huggingface-hub>=0.15.1->sentence-transformers) (2.0.7)\n",
            "Requirement already satisfied: certifi>=2017.4.17 in /usr/local/lib/python3.10/dist-packages (from requests->huggingface-hub>=0.15.1->sentence-transformers) (2024.2.2)\n",
            "Requirement already satisfied: mpmath>=0.19 in /usr/local/lib/python3.10/dist-packages (from sympy->torch>=1.11.0->sentence-transformers) (1.3.0)\n",
            "Installing collected packages: sentence-transformers\n",
            "Successfully installed sentence-transformers-2.3.1\n"
          ]
        }
      ],
      "source": [
        "pip install sentence-transformers"
      ]
    },
    {
      "cell_type": "code",
      "execution_count": 37,
      "metadata": {
        "id": "RBB6E2ck6WMG"
      },
      "outputs": [],
      "source": [
        "# BERT Model and Tokenizer\n",
        "bert_model = BertModel.from_pretrained('bert-base-uncased', output_hidden_states=True)\n",
        "tokenizer = BertTokenizer.from_pretrained('bert-base-uncased')"
      ]
    },
    {
      "cell_type": "code",
      "execution_count": 38,
      "metadata": {
        "id": "LWpmQK66_v77"
      },
      "outputs": [],
      "source": [
        " #Function to get BERT embeddings for a sentence\n",
        "def get_bert_embedding(sentence):\n",
        "    inputs = tokenizer(sentence, return_tensors=\"pt\")\n",
        "    outputs = model(**inputs)\n",
        "    return outputs['last_hidden_state'].mean(dim=1).squeeze().detach().numpy()"
      ]
    },
    {
      "cell_type": "code",
      "execution_count": 39,
      "metadata": {
        "id": "kF7UyL8U9Haz"
      },
      "outputs": [],
      "source": [
        "# Function to get BERT embeddings for a given text\n",
        "def get_bert_embeddings(text):\n",
        "    inputs = tokenizer(text, return_tensors='pt', max_length=512, truncation=True)\n",
        "    with torch.no_grad():\n",
        "        outputs = bert_model(**inputs)\n",
        "    embeddings = outputs.last_hidden_state.mean(dim=1)  # Using mean of hidden states as embeddings\n",
        "    return embeddings.numpy()"
      ]
    },
    {
      "cell_type": "code",
      "execution_count": 40,
      "metadata": {
        "id": "3ItzMKp24e57"
      },
      "outputs": [],
      "source": [
        "from sentence_transformers import SentenceTransformer"
      ]
    },
    {
      "cell_type": "code",
      "execution_count": 41,
      "metadata": {
        "id": "EycWE_E-bn8O",
        "colab": {
          "base_uri": "https://localhost:8080/",
          "height": 194,
          "referenced_widgets": [
            "f9508ebd2ba74607b318681a5947cce5",
            "0564b416853040d58e9db6f6a2a3f47c",
            "710b56d0bc954737a19b8e429d43bfcb",
            "b045e0f03c04481f88cecb3fe06bc16d",
            "fdffb76eba7544328bd53bc3cdc16200",
            "ee667619441e419e8f7647b0a70ffd55",
            "402068f8214f4464883dde5dab6c76ca",
            "e2fc0d3aabe9424d951bffad740fa2e6",
            "a4ba0a675f294263968bf16cd6420794",
            "b219b4ecef3b47069e8c78e14d89938e",
            "7eaf6efa86494df9acd4389664a7dfe3",
            "185c2d9c842545689489eea459110afd",
            "9f8311427b4d47d4932ae22b254382da",
            "470bbdce66f148b2a0724ed88d6b1dda",
            "19794c5eb81d4011a9d48744d7382018",
            "ceb7f903927049e58aee795bd15d61d9",
            "78321ba4528642bfbadca62836d684e1",
            "9d6e018172d54dc4a114e50c903dd737",
            "d86d778a3cae40d181a5e702a4ecc1dd",
            "55b6e042326149b1b73247a3c3caaef9",
            "aa25c90c0f52443381f08b428368cbd3",
            "7d32048671da4805a02f13e34be8aa0b",
            "a31565a2691e4e6fb249bdb06fd140d5",
            "45e85c7d82ef4c3ca574182e62874afc",
            "b5d1727f7c8f49c8a81b7880cb0e8bd1",
            "c900ab6c304a40b1a1fdebc9b207cfbb",
            "1bda8e8f39aa4684a763429ae76475a3",
            "46b68a117d4648aeb8e893ecdd19c600",
            "448969c531954dceae4c67ab34f82f13",
            "aed3ba160346419e90a15d7032ec096b",
            "b814a98a08364026b70196547cc88bf7",
            "67546b3aa5204b7b91bbaa42486d548c",
            "d7a7e3c3e45d401ea3c63c4d81b05312",
            "c583320fb8e9441b9bc4cbec45902434",
            "4e55beeb7e6d4952a25fbbbdbf3d02f4",
            "9e2647261d12443aad707aa5b9adb5ee",
            "0f51e43e703643f181976878394e0423",
            "d8d67173d39247d295a10445c0bc7ec8",
            "6da6699893e847deaeaaee9794e60588",
            "d818203271dd4e17a767aea088d8fea3",
            "f38143d9e0da48dabf4a8e7a4157af4f",
            "a7531847867a48788160a96532159756",
            "4b93ed241a464aebb4edb565993794de",
            "b5752bcfa9ad4376859633e6ec7f966a",
            "b74f7501db9947d49d319a6119d1fe40",
            "720a6cf670f24fd5847a38e429fd4066",
            "345b5b08eba74b598a2222ae47338b9d",
            "030ed064b56d4832b3411c2e4642aff3",
            "51d8ec2a68cd4c339466d0dc414bcc25",
            "10f33462b89e417ead6666b8de6e7ab3",
            "c90d9e6c32214af39ba5f8a87e2fea6f",
            "ed58311f0ca44e72a0c5ebc2497ebe73",
            "cdfbffff9fb04aa5a10a1213089df8b8",
            "35d53d88e4024d1c81e9b2a79c52cb7b",
            "ebf2799efeb14b1aa861be7aca91583c"
          ]
        },
        "outputId": "1d356489-6d2a-4048-ff48-e53829fe6b6b"
      },
      "outputs": [
        {
          "output_type": "stream",
          "name": "stderr",
          "text": [
            "WARNING:sentence_transformers.SentenceTransformer:No sentence-transformers model found with name distilbert-base-uncased. Creating a new one with MEAN pooling.\n"
          ]
        },
        {
          "output_type": "display_data",
          "data": {
            "text/plain": [
              "config.json:   0%|          | 0.00/483 [00:00<?, ?B/s]"
            ],
            "application/vnd.jupyter.widget-view+json": {
              "version_major": 2,
              "version_minor": 0,
              "model_id": "f9508ebd2ba74607b318681a5947cce5"
            }
          },
          "metadata": {}
        },
        {
          "output_type": "display_data",
          "data": {
            "text/plain": [
              "model.safetensors:   0%|          | 0.00/268M [00:00<?, ?B/s]"
            ],
            "application/vnd.jupyter.widget-view+json": {
              "version_major": 2,
              "version_minor": 0,
              "model_id": "185c2d9c842545689489eea459110afd"
            }
          },
          "metadata": {}
        },
        {
          "output_type": "display_data",
          "data": {
            "text/plain": [
              "tokenizer_config.json:   0%|          | 0.00/28.0 [00:00<?, ?B/s]"
            ],
            "application/vnd.jupyter.widget-view+json": {
              "version_major": 2,
              "version_minor": 0,
              "model_id": "a31565a2691e4e6fb249bdb06fd140d5"
            }
          },
          "metadata": {}
        },
        {
          "output_type": "display_data",
          "data": {
            "text/plain": [
              "vocab.txt:   0%|          | 0.00/232k [00:00<?, ?B/s]"
            ],
            "application/vnd.jupyter.widget-view+json": {
              "version_major": 2,
              "version_minor": 0,
              "model_id": "c583320fb8e9441b9bc4cbec45902434"
            }
          },
          "metadata": {}
        },
        {
          "output_type": "display_data",
          "data": {
            "text/plain": [
              "tokenizer.json:   0%|          | 0.00/466k [00:00<?, ?B/s]"
            ],
            "application/vnd.jupyter.widget-view+json": {
              "version_major": 2,
              "version_minor": 0,
              "model_id": "b74f7501db9947d49d319a6119d1fe40"
            }
          },
          "metadata": {}
        }
      ],
      "source": [
        "# BERT model for sentence embeddings\n",
        "model = SentenceTransformer('distilbert-base-uncased')"
      ]
    },
    {
      "cell_type": "code",
      "execution_count": 42,
      "metadata": {
        "id": "p25JZXQ9brt5"
      },
      "outputs": [],
      "source": [
        "# Function for calculating cosine similarity between two sentences\n",
        "def calculate_cosine_similarity(sentence1, sentence2):\n",
        "    embeddings = model.encode([sentence1, sentence2], convert_to_tensor=True)\n",
        "    similarity = cosine_similarity(embeddings[0].reshape(1, -1), embeddings[1].reshape(1, -1))[0][0]\n",
        "    return similarity"
      ]
    },
    {
      "cell_type": "code",
      "execution_count": 43,
      "metadata": {
        "id": "38NvvhqEb5Oa"
      },
      "outputs": [],
      "source": [
        "# Get BERT embeddings for \"Aspiring human resources\" and \"Seeking human resources\"\n",
        "w1 = 'Aspiring human resources'\n",
        "w2 = 'Seeking human resources'\n",
        "bert_embedding_w1 = model.encode(w1, convert_to_tensor=True)\n",
        "bert_embedding_w2 = model.encode(w2, convert_to_tensor=True)"
      ]
    },
    {
      "cell_type": "code",
      "execution_count": 44,
      "metadata": {
        "id": "RYsRERVkb8ia"
      },
      "outputs": [],
      "source": [
        "# Calculate cosine similarity between w1, w2, and each job title\n",
        "similarities_w1 = []\n",
        "similarities_w2 = []\n",
        "for i, row in df.iterrows():\n",
        "    title = row['job_title']\n",
        "    bert_embedding_title = model.encode(title, convert_to_tensor=True)\n",
        "    similarity_w1 = cosine_similarity(bert_embedding_w1.reshape(1, -1), bert_embedding_title.reshape(1, -1))[0][0]\n",
        "    similarity_w2 = cosine_similarity(bert_embedding_w2.reshape(1, -1), bert_embedding_title.reshape(1, -1))[0][0]\n",
        "    similarities_w1.append(similarity_w1)\n",
        "    similarities_w2.append(similarity_w2)"
      ]
    },
    {
      "cell_type": "code",
      "execution_count": 45,
      "metadata": {
        "id": "WNcOSJjyb_hq"
      },
      "outputs": [],
      "source": [
        "# Add cosine similarities to the DataFrame\n",
        "df['cosine_similarity_bert_w1'] = similarities_w1\n",
        "df['cosine_similarity_bert_w2'] = similarities_w2"
      ]
    },
    {
      "cell_type": "code",
      "execution_count": 46,
      "metadata": {
        "id": "hd_U5TSvcCVy",
        "colab": {
          "base_uri": "https://localhost:8080/"
        },
        "outputId": "e9defe6e-45ee-4130-bc21-d657091a0b5e"
      },
      "outputs": [
        {
          "output_type": "stream",
          "name": "stdout",
          "text": [
            "                                             job_title  connection  \\\n",
            "0    2019 C.T. Bauer College of Business Graduate (...          85   \n",
            "1    Native English Teacher at EPIK (English Progra...         500   \n",
            "2                Aspiring Human Resources Professional          44   \n",
            "3               People Development Coordinator at Ryan         500   \n",
            "4      Advisory Board Member at Celal Bayar University         500   \n",
            "..                                                 ...         ...   \n",
            "99   Aspiring Human Resources Manager | Graduating ...         103   \n",
            "100              Human Resources Generalist at Loparex         500   \n",
            "101   Business Intelligence and Analytics at Travelers          49   \n",
            "102                     Always set them up for Success         500   \n",
            "103   Director Of Administration at Excellence Logging         500   \n",
            "\n",
            "     cosine_similarity_bert_w1  cosine_similarity_bert_w2  \n",
            "0                     0.700951                   0.642038  \n",
            "1                     0.621738                   0.585436  \n",
            "2                     0.947544                   0.864692  \n",
            "3                     0.832818                   0.789346  \n",
            "4                     0.566570                   0.566413  \n",
            "..                         ...                        ...  \n",
            "99                    0.737103                   0.676403  \n",
            "100                   0.774889                   0.741194  \n",
            "101                   0.781910                   0.732494  \n",
            "102                   0.711116                   0.707239  \n",
            "103                   0.801430                   0.743476  \n",
            "\n",
            "[104 rows x 4 columns]\n"
          ]
        }
      ],
      "source": [
        "# Print the DataFrame with job title, connection, and cosine similarities\n",
        "print(df[['job_title', 'connection', 'cosine_similarity_bert_w1', 'cosine_similarity_bert_w2']])"
      ]
    },
    {
      "cell_type": "code",
      "execution_count": 47,
      "metadata": {
        "id": "uPHS2sC9UAfa"
      },
      "outputs": [],
      "source": [
        "# Define weights for different components (adjust based on our preferences)\n",
        "weight_connection = 0.12\n",
        "weight_cosine_w1 = 0.22\n",
        "weight_cosine_w2 = 0.22"
      ]
    },
    {
      "cell_type": "code",
      "execution_count": 48,
      "metadata": {
        "id": "3jxZlBacUwGZ"
      },
      "outputs": [],
      "source": [
        "# Add cosine similarities to the DataFrame\n",
        "df['cosine_similarity_w1'] = similarities_w1\n",
        "df['cosine_similarity_w2'] = similarities_w2"
      ]
    },
    {
      "cell_type": "code",
      "execution_count": 49,
      "metadata": {
        "id": "Q68d6UIDcBOh"
      },
      "outputs": [],
      "source": [
        "# Calculate fitness score\n",
        "df['fitness_score'] = (\n",
        "    weight_connection * df['scaled_connection'] +\n",
        "    weight_cosine_w1 * df['cosine_similarity_bert_w1'] +\n",
        "    weight_cosine_w2 * df['cosine_similarity_bert_w2'] +\n",
        "    weight_cosine_w1 * df['cosine_similarity_w1'] +\n",
        "    weight_cosine_w2 * df['cosine_similarity_w2']\n",
        ")"
      ]
    },
    {
      "cell_type": "markdown",
      "source": [
        "##Learning to Rank\n",
        "Re-ranking our job titles when a candidate is starred"
      ],
      "metadata": {
        "id": "I5aK3iozDATZ"
      }
    },
    {
      "cell_type": "code",
      "execution_count": 50,
      "metadata": {
        "id": "fg4FmMxHdX4U"
      },
      "outputs": [],
      "source": [
        "# Rank candidates based on fitness score\n",
        "df['rank'] = df['fitness_score'].rank(ascending=False)"
      ]
    },
    {
      "cell_type": "code",
      "execution_count": 51,
      "metadata": {
        "id": "rXXY2_9SlXV-"
      },
      "outputs": [],
      "source": [
        "# Sort the DataFrame based on fitness score in descending order\n",
        "df_sorted = df.sort_values(by='fitness_score', ascending=False)"
      ]
    },
    {
      "cell_type": "code",
      "execution_count": 52,
      "metadata": {
        "id": "RjQgDnz4dacO",
        "colab": {
          "base_uri": "https://localhost:8080/"
        },
        "outputId": "e96ba83b-cab2-4129-d218-d1a592f19c82"
      },
      "outputs": [
        {
          "output_type": "stream",
          "name": "stdout",
          "text": [
            "                                            job_title  connection  \\\n",
            "29              Seeking Human Resources Opportunities         390   \n",
            "27              Seeking Human Resources Opportunities         390   \n",
            "9   Seeking Human Resources HRIS and Generalist Po...         500   \n",
            "39  Seeking Human Resources HRIS and Generalist Po...         500   \n",
            "61  Seeking Human Resources HRIS and Generalist Po...         500   \n",
            "..                                                ...         ...   \n",
            "90       Lead Official at Western Illinois University          39   \n",
            "89  Undergraduate Research Assistant at Styczynski...         155   \n",
            "92  Admissions Representative at Community medical...           9   \n",
            "95  Student at Indiana University Kokomo - Busines...          19   \n",
            "86  Bachelor of Science in Biology from Victoria U...          40   \n",
            "\n",
            "    cosine_similarity_bert_w1  cosine_similarity_bert_w2  fitness_score   rank  \n",
            "29                   0.929482                   0.961083       0.925396    1.5  \n",
            "27                   0.929482                   0.961083       0.925396    1.5  \n",
            "9                    0.829019                   0.809323       0.840870    4.5  \n",
            "39                   0.829019                   0.809323       0.840870    4.5  \n",
            "61                   0.829019                   0.809323       0.840870    4.5  \n",
            "..                        ...                        ...            ...    ...  \n",
            "90                   0.660476                   0.631768       0.577726  100.0  \n",
            "89                   0.604449                   0.577733       0.557194  101.0  \n",
            "92                   0.613595                   0.622983       0.546018  102.0  \n",
            "95                   0.623813                   0.575256       0.531919  103.0  \n",
            "86                   0.497693                   0.486975       0.442632  104.0  \n",
            "\n",
            "[104 rows x 6 columns]\n"
          ]
        }
      ],
      "source": [
        "# Print the sorted DataFrame with fitness score and rank\n",
        "print(df_sorted[['job_title', 'connection', 'cosine_similarity_bert_w1', 'cosine_similarity_bert_w2', 'fitness_score', 'rank']])"
      ]
    },
    {
      "cell_type": "code",
      "execution_count": 53,
      "metadata": {
        "id": "fd232jwfuB6l"
      },
      "outputs": [],
      "source": [
        "# Suppose candidate with index 1 is starred, update its scores\n",
        "\n",
        "starred_candidate_index = 1\n",
        "df.at[starred_candidate_index, 'connection'] = 600  # Update connection score\n",
        "df.at[starred_candidate_index, 'cosine_similarity_bert_w1'] = 0.9  # Update cosine similarity score"
      ]
    },
    {
      "cell_type": "code",
      "execution_count": 54,
      "metadata": {
        "id": "LH_W4anLuUVc"
      },
      "outputs": [],
      "source": [
        "# Recalculate fitness score\n",
        "df.at[starred_candidate_index, 'fitness_score'] = (\n",
        "    weight_connection * df.at[starred_candidate_index, 'connection'] +\n",
        "    weight_cosine_w1 * df.at[starred_candidate_index, 'cosine_similarity_bert_w1'] +\n",
        "    weight_cosine_w2 * df.at[starred_candidate_index, 'cosine_similarity_bert_w2']\n",
        ")"
      ]
    },
    {
      "cell_type": "code",
      "execution_count": 55,
      "metadata": {
        "id": "46BknPutulNB"
      },
      "outputs": [],
      "source": [
        "# Recalculate rank\n",
        "df['rank'] = df['fitness_score'].rank(ascending=False)"
      ]
    },
    {
      "cell_type": "code",
      "execution_count": 56,
      "metadata": {
        "id": "_YtE0h3CuoE2"
      },
      "outputs": [],
      "source": [
        "# Re-sort the DataFrame based on fitness score in descending order\n",
        "df = df.sort_values(by='fitness_score', ascending=False)\n"
      ]
    },
    {
      "cell_type": "code",
      "source": [
        "df = df.reset_index(drop=True)"
      ],
      "metadata": {
        "id": "bmCM44o3oZdr"
      },
      "execution_count": 57,
      "outputs": []
    },
    {
      "cell_type": "markdown",
      "source": [
        "##Applying LambdaMART with LightGBM\n",
        "\n"
      ],
      "metadata": {
        "id": "9OQ9JvS-frUe"
      }
    },
    {
      "cell_type": "code",
      "source": [
        "df['rank']= 0"
      ],
      "metadata": {
        "id": "Qe43QuFNmdzl"
      },
      "execution_count": 58,
      "outputs": []
    },
    {
      "cell_type": "code",
      "source": [
        "df.loc[:9, 'rank'] = 1"
      ],
      "metadata": {
        "id": "WYm0GlhmnBRV"
      },
      "execution_count": 59,
      "outputs": []
    },
    {
      "cell_type": "code",
      "source": [
        "df.head()"
      ],
      "metadata": {
        "colab": {
          "base_uri": "https://localhost:8080/",
          "height": 620
        },
        "id": "ln4PemcZnEfz",
        "outputId": "eafaaff6-d8cc-433e-ce2a-c8b091066c01"
      },
      "execution_count": 60,
      "outputs": [
        {
          "output_type": "execute_result",
          "data": {
            "text/plain": [
              "   id                                          job_title  \\\n",
              "0   2  Native English Teacher at EPIK (English Progra...   \n",
              "1  30              Seeking Human Resources Opportunities   \n",
              "2  28              Seeking Human Resources Opportunities   \n",
              "3  10  Seeking Human Resources HRIS and Generalist Po...   \n",
              "4  40  Seeking Human Resources HRIS and Generalist Po...   \n",
              "\n",
              "                    location  connection  fit  scaled_connection  \\\n",
              "0                     Kanada         600  NaN           1.000000   \n",
              "1          Chicago, Illinois         390  NaN           0.779559   \n",
              "2          Chicago, Illinois         390  NaN           0.779559   \n",
              "3  Greater Philadelphia Area         500  NaN           1.000000   \n",
              "4  Greater Philadelphia Area         500  NaN           1.000000   \n",
              "\n",
              "                                 processed_job_title  cosine_similarity_w1  \\\n",
              "0  [nativ, english, teacher, epik, english, progr...              0.621738   \n",
              "1                   [seek, human, resourc, opportun]              0.929482   \n",
              "2                   [seek, human, resourc, opportun]              0.929482   \n",
              "3     [seek, human, resourc, hri, generalist, posit]              0.829019   \n",
              "4     [seek, human, resourc, hri, generalist, posit]              0.829019   \n",
              "\n",
              "   cosine_similarity_w2  ranking_w1  ...  cosine_similarity_doc2vec  \\\n",
              "0              0.585436    0.897159  ...                   0.981135   \n",
              "1              0.961083    0.942272  ...                   0.981135   \n",
              "2              0.961083    0.942032  ...                   0.981135   \n",
              "3              0.809323    0.983751  ...                   0.981135   \n",
              "4              0.809323    0.986087  ...                   0.981135   \n",
              "\n",
              "   scaled_connection_doc2vec  ranking_doc2vec  cosine_similarity_bert  \\\n",
              "0                   1.000000         0.984908                0.990385   \n",
              "1                   0.779559         0.940820                0.990385   \n",
              "2                   0.779559         0.940820                0.990385   \n",
              "3                   1.000000         0.984908                0.990385   \n",
              "4                   1.000000         0.984908                0.990385   \n",
              "\n",
              "   scaled_connection_bert  ranking_bert  cosine_similarity_bert_w1  \\\n",
              "0                1.000000      0.992308                   0.900000   \n",
              "1                0.779559      0.948219                   0.929482   \n",
              "2                0.779559      0.948219                   0.929482   \n",
              "3                1.000000      0.992308                   0.829019   \n",
              "4                1.000000      0.992308                   0.829019   \n",
              "\n",
              "   cosine_similarity_bert_w2  fitness_score  rank  \n",
              "0                   0.585436      72.326796     1  \n",
              "1                   0.961083       0.925396     1  \n",
              "2                   0.961083       0.925396     1  \n",
              "3                   0.809323       0.840870     1  \n",
              "4                   0.809323       0.840870     1  \n",
              "\n",
              "[5 rows x 21 columns]"
            ],
            "text/html": [
              "\n",
              "  <div id=\"df-a7048a8e-45ea-4204-833c-fc504ebfd4ef\" class=\"colab-df-container\">\n",
              "    <div>\n",
              "<style scoped>\n",
              "    .dataframe tbody tr th:only-of-type {\n",
              "        vertical-align: middle;\n",
              "    }\n",
              "\n",
              "    .dataframe tbody tr th {\n",
              "        vertical-align: top;\n",
              "    }\n",
              "\n",
              "    .dataframe thead th {\n",
              "        text-align: right;\n",
              "    }\n",
              "</style>\n",
              "<table border=\"1\" class=\"dataframe\">\n",
              "  <thead>\n",
              "    <tr style=\"text-align: right;\">\n",
              "      <th></th>\n",
              "      <th>id</th>\n",
              "      <th>job_title</th>\n",
              "      <th>location</th>\n",
              "      <th>connection</th>\n",
              "      <th>fit</th>\n",
              "      <th>scaled_connection</th>\n",
              "      <th>processed_job_title</th>\n",
              "      <th>cosine_similarity_w1</th>\n",
              "      <th>cosine_similarity_w2</th>\n",
              "      <th>ranking_w1</th>\n",
              "      <th>...</th>\n",
              "      <th>cosine_similarity_doc2vec</th>\n",
              "      <th>scaled_connection_doc2vec</th>\n",
              "      <th>ranking_doc2vec</th>\n",
              "      <th>cosine_similarity_bert</th>\n",
              "      <th>scaled_connection_bert</th>\n",
              "      <th>ranking_bert</th>\n",
              "      <th>cosine_similarity_bert_w1</th>\n",
              "      <th>cosine_similarity_bert_w2</th>\n",
              "      <th>fitness_score</th>\n",
              "      <th>rank</th>\n",
              "    </tr>\n",
              "  </thead>\n",
              "  <tbody>\n",
              "    <tr>\n",
              "      <th>0</th>\n",
              "      <td>2</td>\n",
              "      <td>Native English Teacher at EPIK (English Progra...</td>\n",
              "      <td>Kanada</td>\n",
              "      <td>600</td>\n",
              "      <td>NaN</td>\n",
              "      <td>1.000000</td>\n",
              "      <td>[nativ, english, teacher, epik, english, progr...</td>\n",
              "      <td>0.621738</td>\n",
              "      <td>0.585436</td>\n",
              "      <td>0.897159</td>\n",
              "      <td>...</td>\n",
              "      <td>0.981135</td>\n",
              "      <td>1.000000</td>\n",
              "      <td>0.984908</td>\n",
              "      <td>0.990385</td>\n",
              "      <td>1.000000</td>\n",
              "      <td>0.992308</td>\n",
              "      <td>0.900000</td>\n",
              "      <td>0.585436</td>\n",
              "      <td>72.326796</td>\n",
              "      <td>1</td>\n",
              "    </tr>\n",
              "    <tr>\n",
              "      <th>1</th>\n",
              "      <td>30</td>\n",
              "      <td>Seeking Human Resources Opportunities</td>\n",
              "      <td>Chicago, Illinois</td>\n",
              "      <td>390</td>\n",
              "      <td>NaN</td>\n",
              "      <td>0.779559</td>\n",
              "      <td>[seek, human, resourc, opportun]</td>\n",
              "      <td>0.929482</td>\n",
              "      <td>0.961083</td>\n",
              "      <td>0.942272</td>\n",
              "      <td>...</td>\n",
              "      <td>0.981135</td>\n",
              "      <td>0.779559</td>\n",
              "      <td>0.940820</td>\n",
              "      <td>0.990385</td>\n",
              "      <td>0.779559</td>\n",
              "      <td>0.948219</td>\n",
              "      <td>0.929482</td>\n",
              "      <td>0.961083</td>\n",
              "      <td>0.925396</td>\n",
              "      <td>1</td>\n",
              "    </tr>\n",
              "    <tr>\n",
              "      <th>2</th>\n",
              "      <td>28</td>\n",
              "      <td>Seeking Human Resources Opportunities</td>\n",
              "      <td>Chicago, Illinois</td>\n",
              "      <td>390</td>\n",
              "      <td>NaN</td>\n",
              "      <td>0.779559</td>\n",
              "      <td>[seek, human, resourc, opportun]</td>\n",
              "      <td>0.929482</td>\n",
              "      <td>0.961083</td>\n",
              "      <td>0.942032</td>\n",
              "      <td>...</td>\n",
              "      <td>0.981135</td>\n",
              "      <td>0.779559</td>\n",
              "      <td>0.940820</td>\n",
              "      <td>0.990385</td>\n",
              "      <td>0.779559</td>\n",
              "      <td>0.948219</td>\n",
              "      <td>0.929482</td>\n",
              "      <td>0.961083</td>\n",
              "      <td>0.925396</td>\n",
              "      <td>1</td>\n",
              "    </tr>\n",
              "    <tr>\n",
              "      <th>3</th>\n",
              "      <td>10</td>\n",
              "      <td>Seeking Human Resources HRIS and Generalist Po...</td>\n",
              "      <td>Greater Philadelphia Area</td>\n",
              "      <td>500</td>\n",
              "      <td>NaN</td>\n",
              "      <td>1.000000</td>\n",
              "      <td>[seek, human, resourc, hri, generalist, posit]</td>\n",
              "      <td>0.829019</td>\n",
              "      <td>0.809323</td>\n",
              "      <td>0.983751</td>\n",
              "      <td>...</td>\n",
              "      <td>0.981135</td>\n",
              "      <td>1.000000</td>\n",
              "      <td>0.984908</td>\n",
              "      <td>0.990385</td>\n",
              "      <td>1.000000</td>\n",
              "      <td>0.992308</td>\n",
              "      <td>0.829019</td>\n",
              "      <td>0.809323</td>\n",
              "      <td>0.840870</td>\n",
              "      <td>1</td>\n",
              "    </tr>\n",
              "    <tr>\n",
              "      <th>4</th>\n",
              "      <td>40</td>\n",
              "      <td>Seeking Human Resources HRIS and Generalist Po...</td>\n",
              "      <td>Greater Philadelphia Area</td>\n",
              "      <td>500</td>\n",
              "      <td>NaN</td>\n",
              "      <td>1.000000</td>\n",
              "      <td>[seek, human, resourc, hri, generalist, posit]</td>\n",
              "      <td>0.829019</td>\n",
              "      <td>0.809323</td>\n",
              "      <td>0.986087</td>\n",
              "      <td>...</td>\n",
              "      <td>0.981135</td>\n",
              "      <td>1.000000</td>\n",
              "      <td>0.984908</td>\n",
              "      <td>0.990385</td>\n",
              "      <td>1.000000</td>\n",
              "      <td>0.992308</td>\n",
              "      <td>0.829019</td>\n",
              "      <td>0.809323</td>\n",
              "      <td>0.840870</td>\n",
              "      <td>1</td>\n",
              "    </tr>\n",
              "  </tbody>\n",
              "</table>\n",
              "<p>5 rows × 21 columns</p>\n",
              "</div>\n",
              "    <div class=\"colab-df-buttons\">\n",
              "\n",
              "  <div class=\"colab-df-container\">\n",
              "    <button class=\"colab-df-convert\" onclick=\"convertToInteractive('df-a7048a8e-45ea-4204-833c-fc504ebfd4ef')\"\n",
              "            title=\"Convert this dataframe to an interactive table.\"\n",
              "            style=\"display:none;\">\n",
              "\n",
              "  <svg xmlns=\"http://www.w3.org/2000/svg\" height=\"24px\" viewBox=\"0 -960 960 960\">\n",
              "    <path d=\"M120-120v-720h720v720H120Zm60-500h600v-160H180v160Zm220 220h160v-160H400v160Zm0 220h160v-160H400v160ZM180-400h160v-160H180v160Zm440 0h160v-160H620v160ZM180-180h160v-160H180v160Zm440 0h160v-160H620v160Z\"/>\n",
              "  </svg>\n",
              "    </button>\n",
              "\n",
              "  <style>\n",
              "    .colab-df-container {\n",
              "      display:flex;\n",
              "      gap: 12px;\n",
              "    }\n",
              "\n",
              "    .colab-df-convert {\n",
              "      background-color: #E8F0FE;\n",
              "      border: none;\n",
              "      border-radius: 50%;\n",
              "      cursor: pointer;\n",
              "      display: none;\n",
              "      fill: #1967D2;\n",
              "      height: 32px;\n",
              "      padding: 0 0 0 0;\n",
              "      width: 32px;\n",
              "    }\n",
              "\n",
              "    .colab-df-convert:hover {\n",
              "      background-color: #E2EBFA;\n",
              "      box-shadow: 0px 1px 2px rgba(60, 64, 67, 0.3), 0px 1px 3px 1px rgba(60, 64, 67, 0.15);\n",
              "      fill: #174EA6;\n",
              "    }\n",
              "\n",
              "    .colab-df-buttons div {\n",
              "      margin-bottom: 4px;\n",
              "    }\n",
              "\n",
              "    [theme=dark] .colab-df-convert {\n",
              "      background-color: #3B4455;\n",
              "      fill: #D2E3FC;\n",
              "    }\n",
              "\n",
              "    [theme=dark] .colab-df-convert:hover {\n",
              "      background-color: #434B5C;\n",
              "      box-shadow: 0px 1px 3px 1px rgba(0, 0, 0, 0.15);\n",
              "      filter: drop-shadow(0px 1px 2px rgba(0, 0, 0, 0.3));\n",
              "      fill: #FFFFFF;\n",
              "    }\n",
              "  </style>\n",
              "\n",
              "    <script>\n",
              "      const buttonEl =\n",
              "        document.querySelector('#df-a7048a8e-45ea-4204-833c-fc504ebfd4ef button.colab-df-convert');\n",
              "      buttonEl.style.display =\n",
              "        google.colab.kernel.accessAllowed ? 'block' : 'none';\n",
              "\n",
              "      async function convertToInteractive(key) {\n",
              "        const element = document.querySelector('#df-a7048a8e-45ea-4204-833c-fc504ebfd4ef');\n",
              "        const dataTable =\n",
              "          await google.colab.kernel.invokeFunction('convertToInteractive',\n",
              "                                                    [key], {});\n",
              "        if (!dataTable) return;\n",
              "\n",
              "        const docLinkHtml = 'Like what you see? Visit the ' +\n",
              "          '<a target=\"_blank\" href=https://colab.research.google.com/notebooks/data_table.ipynb>data table notebook</a>'\n",
              "          + ' to learn more about interactive tables.';\n",
              "        element.innerHTML = '';\n",
              "        dataTable['output_type'] = 'display_data';\n",
              "        await google.colab.output.renderOutput(dataTable, element);\n",
              "        const docLink = document.createElement('div');\n",
              "        docLink.innerHTML = docLinkHtml;\n",
              "        element.appendChild(docLink);\n",
              "      }\n",
              "    </script>\n",
              "  </div>\n",
              "\n",
              "\n",
              "<div id=\"df-75c64e3c-9a5f-4b5d-b091-bb3c0d48888c\">\n",
              "  <button class=\"colab-df-quickchart\" onclick=\"quickchart('df-75c64e3c-9a5f-4b5d-b091-bb3c0d48888c')\"\n",
              "            title=\"Suggest charts\"\n",
              "            style=\"display:none;\">\n",
              "\n",
              "<svg xmlns=\"http://www.w3.org/2000/svg\" height=\"24px\"viewBox=\"0 0 24 24\"\n",
              "     width=\"24px\">\n",
              "    <g>\n",
              "        <path d=\"M19 3H5c-1.1 0-2 .9-2 2v14c0 1.1.9 2 2 2h14c1.1 0 2-.9 2-2V5c0-1.1-.9-2-2-2zM9 17H7v-7h2v7zm4 0h-2V7h2v10zm4 0h-2v-4h2v4z\"/>\n",
              "    </g>\n",
              "</svg>\n",
              "  </button>\n",
              "\n",
              "<style>\n",
              "  .colab-df-quickchart {\n",
              "      --bg-color: #E8F0FE;\n",
              "      --fill-color: #1967D2;\n",
              "      --hover-bg-color: #E2EBFA;\n",
              "      --hover-fill-color: #174EA6;\n",
              "      --disabled-fill-color: #AAA;\n",
              "      --disabled-bg-color: #DDD;\n",
              "  }\n",
              "\n",
              "  [theme=dark] .colab-df-quickchart {\n",
              "      --bg-color: #3B4455;\n",
              "      --fill-color: #D2E3FC;\n",
              "      --hover-bg-color: #434B5C;\n",
              "      --hover-fill-color: #FFFFFF;\n",
              "      --disabled-bg-color: #3B4455;\n",
              "      --disabled-fill-color: #666;\n",
              "  }\n",
              "\n",
              "  .colab-df-quickchart {\n",
              "    background-color: var(--bg-color);\n",
              "    border: none;\n",
              "    border-radius: 50%;\n",
              "    cursor: pointer;\n",
              "    display: none;\n",
              "    fill: var(--fill-color);\n",
              "    height: 32px;\n",
              "    padding: 0;\n",
              "    width: 32px;\n",
              "  }\n",
              "\n",
              "  .colab-df-quickchart:hover {\n",
              "    background-color: var(--hover-bg-color);\n",
              "    box-shadow: 0 1px 2px rgba(60, 64, 67, 0.3), 0 1px 3px 1px rgba(60, 64, 67, 0.15);\n",
              "    fill: var(--button-hover-fill-color);\n",
              "  }\n",
              "\n",
              "  .colab-df-quickchart-complete:disabled,\n",
              "  .colab-df-quickchart-complete:disabled:hover {\n",
              "    background-color: var(--disabled-bg-color);\n",
              "    fill: var(--disabled-fill-color);\n",
              "    box-shadow: none;\n",
              "  }\n",
              "\n",
              "  .colab-df-spinner {\n",
              "    border: 2px solid var(--fill-color);\n",
              "    border-color: transparent;\n",
              "    border-bottom-color: var(--fill-color);\n",
              "    animation:\n",
              "      spin 1s steps(1) infinite;\n",
              "  }\n",
              "\n",
              "  @keyframes spin {\n",
              "    0% {\n",
              "      border-color: transparent;\n",
              "      border-bottom-color: var(--fill-color);\n",
              "      border-left-color: var(--fill-color);\n",
              "    }\n",
              "    20% {\n",
              "      border-color: transparent;\n",
              "      border-left-color: var(--fill-color);\n",
              "      border-top-color: var(--fill-color);\n",
              "    }\n",
              "    30% {\n",
              "      border-color: transparent;\n",
              "      border-left-color: var(--fill-color);\n",
              "      border-top-color: var(--fill-color);\n",
              "      border-right-color: var(--fill-color);\n",
              "    }\n",
              "    40% {\n",
              "      border-color: transparent;\n",
              "      border-right-color: var(--fill-color);\n",
              "      border-top-color: var(--fill-color);\n",
              "    }\n",
              "    60% {\n",
              "      border-color: transparent;\n",
              "      border-right-color: var(--fill-color);\n",
              "    }\n",
              "    80% {\n",
              "      border-color: transparent;\n",
              "      border-right-color: var(--fill-color);\n",
              "      border-bottom-color: var(--fill-color);\n",
              "    }\n",
              "    90% {\n",
              "      border-color: transparent;\n",
              "      border-bottom-color: var(--fill-color);\n",
              "    }\n",
              "  }\n",
              "</style>\n",
              "\n",
              "  <script>\n",
              "    async function quickchart(key) {\n",
              "      const quickchartButtonEl =\n",
              "        document.querySelector('#' + key + ' button');\n",
              "      quickchartButtonEl.disabled = true;  // To prevent multiple clicks.\n",
              "      quickchartButtonEl.classList.add('colab-df-spinner');\n",
              "      try {\n",
              "        const charts = await google.colab.kernel.invokeFunction(\n",
              "            'suggestCharts', [key], {});\n",
              "      } catch (error) {\n",
              "        console.error('Error during call to suggestCharts:', error);\n",
              "      }\n",
              "      quickchartButtonEl.classList.remove('colab-df-spinner');\n",
              "      quickchartButtonEl.classList.add('colab-df-quickchart-complete');\n",
              "    }\n",
              "    (() => {\n",
              "      let quickchartButtonEl =\n",
              "        document.querySelector('#df-75c64e3c-9a5f-4b5d-b091-bb3c0d48888c button');\n",
              "      quickchartButtonEl.style.display =\n",
              "        google.colab.kernel.accessAllowed ? 'block' : 'none';\n",
              "    })();\n",
              "  </script>\n",
              "</div>\n",
              "\n",
              "    </div>\n",
              "  </div>\n"
            ],
            "application/vnd.google.colaboratory.intrinsic+json": {
              "type": "dataframe",
              "variable_name": "df"
            }
          },
          "metadata": {},
          "execution_count": 60
        }
      ]
    },
    {
      "cell_type": "code",
      "source": [
        "# Features and labels\n",
        "X = df[['cosine_similarity_w1', 'cosine_similarity_w2', 'cosine_similarity_bert_w1', 'cosine_similarity_bert_w2']]\n",
        "y = df['rank']\n"
      ],
      "metadata": {
        "id": "T-gAs7t9cV-o"
      },
      "execution_count": 61,
      "outputs": []
    },
    {
      "cell_type": "code",
      "source": [
        "# Split data into train and test sets\n",
        "X_train, X_test, y_train, y_test = train_test_split(X, y, test_size=0.2, random_state=42)"
      ],
      "metadata": {
        "id": "cOk4Q_H2c7dC"
      },
      "execution_count": 62,
      "outputs": []
    },
    {
      "cell_type": "code",
      "source": [
        "\n",
        "# Convert data to LightGBM Dataset format\n",
        "train_data = lgb.Dataset(X_train, label=y_train, group=[len(X_train)])\n",
        "test_data = lgb.Dataset(X_test, label=y_test, group=[len(X_test)])"
      ],
      "metadata": {
        "id": "I1B7CXaAc9zg"
      },
      "execution_count": 63,
      "outputs": []
    },
    {
      "cell_type": "code",
      "source": [
        "# Define parameters for LambdaMART\n",
        "params = {\n",
        "    'objective': 'lambdarank',\n",
        "    'metric': 'ndcg',\n",
        "    'boosting_type': 'gbdt',\n",
        "    'learning_rate': 0.1,\n",
        "    'num_leaves': 31,\n",
        "    'min_data_in_leaf': 1,\n",
        "    'num_iterations': 100,\n",
        "    'verbose': 0\n",
        "}\n"
      ],
      "metadata": {
        "id": "Db_NzCGEdAFP"
      },
      "execution_count": 64,
      "outputs": []
    },
    {
      "cell_type": "code",
      "source": [
        "# Train the LambdaMART model\n",
        "ranker_model = lgb.train(params, train_data, valid_sets=[test_data])\n",
        "\n",
        "# Save the model (optional)\n",
        "ranker_model.save_model('lambdamart_model.txt')\n",
        "\n",
        "# Predict on the test set\n",
        "predictions = ranker_model.predict(X_test)\n",
        "\n",
        "# Display the predictions\n",
        "print(\"Predictions:\", predictions)"
      ],
      "metadata": {
        "colab": {
          "base_uri": "https://localhost:8080/"
        },
        "id": "fe0Jz3hAdCmx",
        "outputId": "dfcb924c-8bff-403f-9e81-a0193f7fcbf4"
      },
      "execution_count": 65,
      "outputs": [
        {
          "output_type": "stream",
          "name": "stderr",
          "text": [
            "/usr/local/lib/python3.10/dist-packages/lightgbm/engine.py:172: UserWarning: Found `num_iterations` in params. Will use it instead of argument\n",
            "  _log_warning(f\"Found `{alias}` in params. Will use it instead of argument\")\n"
          ]
        },
        {
          "output_type": "stream",
          "name": "stdout",
          "text": [
            "[LightGBM] [Warning] No further splits with positive gain, best gain: -inf\n",
            "[LightGBM] [Warning] No further splits with positive gain, best gain: -inf\n",
            "[LightGBM] [Warning] No further splits with positive gain, best gain: -inf\n",
            "[LightGBM] [Warning] No further splits with positive gain, best gain: -inf\n",
            "[LightGBM] [Warning] No further splits with positive gain, best gain: -inf\n",
            "[LightGBM] [Warning] No further splits with positive gain, best gain: -inf\n",
            "[LightGBM] [Warning] No further splits with positive gain, best gain: -inf\n",
            "[LightGBM] [Warning] No further splits with positive gain, best gain: -inf\n",
            "[LightGBM] [Warning] No further splits with positive gain, best gain: -inf\n",
            "[LightGBM] [Warning] No further splits with positive gain, best gain: -inf\n",
            "[LightGBM] [Warning] No further splits with positive gain, best gain: -inf\n",
            "[LightGBM] [Warning] No further splits with positive gain, best gain: -inf\n",
            "[LightGBM] [Warning] No further splits with positive gain, best gain: -inf\n",
            "[LightGBM] [Warning] No further splits with positive gain, best gain: -inf\n",
            "[LightGBM] [Warning] No further splits with positive gain, best gain: -inf\n",
            "[LightGBM] [Warning] No further splits with positive gain, best gain: -inf\n",
            "[LightGBM] [Warning] No further splits with positive gain, best gain: -inf\n",
            "[LightGBM] [Warning] No further splits with positive gain, best gain: -inf\n",
            "[LightGBM] [Warning] No further splits with positive gain, best gain: -inf\n",
            "[LightGBM] [Warning] No further splits with positive gain, best gain: -inf\n",
            "[LightGBM] [Warning] No further splits with positive gain, best gain: -inf\n",
            "[LightGBM] [Warning] No further splits with positive gain, best gain: -inf\n",
            "[LightGBM] [Warning] No further splits with positive gain, best gain: -inf\n",
            "[LightGBM] [Warning] No further splits with positive gain, best gain: -inf\n",
            "[LightGBM] [Warning] No further splits with positive gain, best gain: -inf\n",
            "[LightGBM] [Warning] No further splits with positive gain, best gain: -inf\n",
            "[LightGBM] [Warning] No further splits with positive gain, best gain: -inf\n",
            "[LightGBM] [Warning] No further splits with positive gain, best gain: -inf\n",
            "[LightGBM] [Warning] No further splits with positive gain, best gain: -inf\n",
            "[LightGBM] [Warning] No further splits with positive gain, best gain: -inf\n",
            "[LightGBM] [Warning] No further splits with positive gain, best gain: -inf\n",
            "[LightGBM] [Warning] No further splits with positive gain, best gain: -inf\n",
            "[LightGBM] [Warning] No further splits with positive gain, best gain: -inf\n",
            "[LightGBM] [Warning] No further splits with positive gain, best gain: -inf\n",
            "[LightGBM] [Warning] No further splits with positive gain, best gain: -inf\n",
            "[LightGBM] [Warning] No further splits with positive gain, best gain: -inf\n",
            "[LightGBM] [Warning] No further splits with positive gain, best gain: -inf\n",
            "[LightGBM] [Warning] No further splits with positive gain, best gain: -inf\n",
            "[LightGBM] [Warning] No further splits with positive gain, best gain: -inf\n",
            "[LightGBM] [Warning] No further splits with positive gain, best gain: -inf\n",
            "[LightGBM] [Warning] No further splits with positive gain, best gain: -inf\n",
            "[LightGBM] [Warning] No further splits with positive gain, best gain: -inf\n",
            "[LightGBM] [Warning] No further splits with positive gain, best gain: -inf\n",
            "[LightGBM] [Warning] No further splits with positive gain, best gain: -inf\n",
            "[LightGBM] [Warning] No further splits with positive gain, best gain: -inf\n",
            "[LightGBM] [Warning] No further splits with positive gain, best gain: -inf\n",
            "[LightGBM] [Warning] No further splits with positive gain, best gain: -inf\n",
            "[LightGBM] [Warning] No further splits with positive gain, best gain: -inf\n",
            "[LightGBM] [Warning] No further splits with positive gain, best gain: -inf\n",
            "[LightGBM] [Warning] No further splits with positive gain, best gain: -inf\n",
            "[LightGBM] [Warning] No further splits with positive gain, best gain: -inf\n",
            "[LightGBM] [Warning] No further splits with positive gain, best gain: -inf\n",
            "[LightGBM] [Warning] No further splits with positive gain, best gain: -inf\n",
            "[LightGBM] [Warning] No further splits with positive gain, best gain: -inf\n",
            "[LightGBM] [Warning] No further splits with positive gain, best gain: -inf\n",
            "[LightGBM] [Warning] No further splits with positive gain, best gain: -inf\n",
            "[LightGBM] [Warning] No further splits with positive gain, best gain: -inf\n",
            "[LightGBM] [Warning] No further splits with positive gain, best gain: -inf\n",
            "[LightGBM] [Warning] No further splits with positive gain, best gain: -inf\n",
            "[LightGBM] [Warning] No further splits with positive gain, best gain: -inf\n",
            "[LightGBM] [Warning] No further splits with positive gain, best gain: -inf\n",
            "[LightGBM] [Warning] No further splits with positive gain, best gain: -inf\n",
            "[LightGBM] [Warning] No further splits with positive gain, best gain: -inf\n",
            "[LightGBM] [Warning] No further splits with positive gain, best gain: -inf\n",
            "[LightGBM] [Warning] No further splits with positive gain, best gain: -inf\n",
            "[LightGBM] [Warning] No further splits with positive gain, best gain: -inf\n",
            "[LightGBM] [Warning] No further splits with positive gain, best gain: -inf\n",
            "[LightGBM] [Warning] No further splits with positive gain, best gain: -inf\n",
            "[LightGBM] [Warning] No further splits with positive gain, best gain: -inf\n",
            "[LightGBM] [Warning] No further splits with positive gain, best gain: -inf\n",
            "[LightGBM] [Warning] No further splits with positive gain, best gain: -inf\n",
            "[LightGBM] [Warning] No further splits with positive gain, best gain: -inf\n",
            "[LightGBM] [Warning] No further splits with positive gain, best gain: -inf\n",
            "[LightGBM] [Warning] No further splits with positive gain, best gain: -inf\n",
            "[LightGBM] [Warning] No further splits with positive gain, best gain: -inf\n",
            "[LightGBM] [Warning] No further splits with positive gain, best gain: -inf\n",
            "[LightGBM] [Warning] No further splits with positive gain, best gain: -inf\n",
            "[LightGBM] [Warning] No further splits with positive gain, best gain: -inf\n",
            "Predictions: [-6.05184504 -6.05346867 -6.05565758 -6.0562113  -6.05064861 -6.05588588\n",
            " -6.05494591 -2.2464472   0.74724703 -6.05346867 -4.11553845 -6.05183129\n",
            " -6.05494591 -6.05588588 -6.05248139  5.24031901 -6.05373587  5.13807928\n",
            "  0.74724703 -2.87643046 -6.05494591]\n"
          ]
        }
      ]
    },
    {
      "cell_type": "markdown",
      "source": [
        "##Conclusion\n",
        "Objectives of this project was fully reached. I utilized different techniques in this project, including:\n",
        "\n",
        "Used word embeddings to solve sentence analogy problems\n",
        "\n",
        "* Measured similarity between sentence vectors using cosine similarity\n",
        "* Ranked sentences based on their similarities\n",
        "* Implemented LambdaMART with LightGBM algorithm to rank candidates\n",
        "* Prepared input data for pairwise comparison"
      ],
      "metadata": {
        "id": "rcxDk1SdLgbh"
      }
    }
  ],
  "metadata": {
    "colab": {
      "provenance": []
    },
    "kernelspec": {
      "display_name": "Python 3",
      "name": "python3"
    },
    "language_info": {
      "name": "python"
    },
    "widgets": {
      "application/vnd.jupyter.widget-state+json": {
        "bdcf945d3c634596baf5f62314f27963": {
          "model_module": "@jupyter-widgets/controls",
          "model_name": "HBoxModel",
          "model_module_version": "1.5.0",
          "state": {
            "_dom_classes": [],
            "_model_module": "@jupyter-widgets/controls",
            "_model_module_version": "1.5.0",
            "_model_name": "HBoxModel",
            "_view_count": null,
            "_view_module": "@jupyter-widgets/controls",
            "_view_module_version": "1.5.0",
            "_view_name": "HBoxView",
            "box_style": "",
            "children": [
              "IPY_MODEL_fb60a20f8faa4ed2b9eaddbd26bccbd1",
              "IPY_MODEL_f89b1139e05d4168894fa56337fd519e",
              "IPY_MODEL_f6812c8393b54b3591a738142f9cb81e"
            ],
            "layout": "IPY_MODEL_2538233747524fc1a1e8a87e60209b33"
          }
        },
        "fb60a20f8faa4ed2b9eaddbd26bccbd1": {
          "model_module": "@jupyter-widgets/controls",
          "model_name": "HTMLModel",
          "model_module_version": "1.5.0",
          "state": {
            "_dom_classes": [],
            "_model_module": "@jupyter-widgets/controls",
            "_model_module_version": "1.5.0",
            "_model_name": "HTMLModel",
            "_view_count": null,
            "_view_module": "@jupyter-widgets/controls",
            "_view_module_version": "1.5.0",
            "_view_name": "HTMLView",
            "description": "",
            "description_tooltip": null,
            "layout": "IPY_MODEL_3e11969183d94c6b822f766aa74d7568",
            "placeholder": "​",
            "style": "IPY_MODEL_3e639543c2ee467fb25768fc48e994f1",
            "value": "tokenizer_config.json: 100%"
          }
        },
        "f89b1139e05d4168894fa56337fd519e": {
          "model_module": "@jupyter-widgets/controls",
          "model_name": "FloatProgressModel",
          "model_module_version": "1.5.0",
          "state": {
            "_dom_classes": [],
            "_model_module": "@jupyter-widgets/controls",
            "_model_module_version": "1.5.0",
            "_model_name": "FloatProgressModel",
            "_view_count": null,
            "_view_module": "@jupyter-widgets/controls",
            "_view_module_version": "1.5.0",
            "_view_name": "ProgressView",
            "bar_style": "success",
            "description": "",
            "description_tooltip": null,
            "layout": "IPY_MODEL_c228c1ea0a3f4b8fb162d8f5d42313ba",
            "max": 28,
            "min": 0,
            "orientation": "horizontal",
            "style": "IPY_MODEL_d61b3a77dcaa4a078c6fbaefdadf1c73",
            "value": 28
          }
        },
        "f6812c8393b54b3591a738142f9cb81e": {
          "model_module": "@jupyter-widgets/controls",
          "model_name": "HTMLModel",
          "model_module_version": "1.5.0",
          "state": {
            "_dom_classes": [],
            "_model_module": "@jupyter-widgets/controls",
            "_model_module_version": "1.5.0",
            "_model_name": "HTMLModel",
            "_view_count": null,
            "_view_module": "@jupyter-widgets/controls",
            "_view_module_version": "1.5.0",
            "_view_name": "HTMLView",
            "description": "",
            "description_tooltip": null,
            "layout": "IPY_MODEL_9329732c90fe4036b6993a23db5bc773",
            "placeholder": "​",
            "style": "IPY_MODEL_086d40a95e924ca189cc885b8eb0d189",
            "value": " 28.0/28.0 [00:00&lt;00:00, 644B/s]"
          }
        },
        "2538233747524fc1a1e8a87e60209b33": {
          "model_module": "@jupyter-widgets/base",
          "model_name": "LayoutModel",
          "model_module_version": "1.2.0",
          "state": {
            "_model_module": "@jupyter-widgets/base",
            "_model_module_version": "1.2.0",
            "_model_name": "LayoutModel",
            "_view_count": null,
            "_view_module": "@jupyter-widgets/base",
            "_view_module_version": "1.2.0",
            "_view_name": "LayoutView",
            "align_content": null,
            "align_items": null,
            "align_self": null,
            "border": null,
            "bottom": null,
            "display": null,
            "flex": null,
            "flex_flow": null,
            "grid_area": null,
            "grid_auto_columns": null,
            "grid_auto_flow": null,
            "grid_auto_rows": null,
            "grid_column": null,
            "grid_gap": null,
            "grid_row": null,
            "grid_template_areas": null,
            "grid_template_columns": null,
            "grid_template_rows": null,
            "height": null,
            "justify_content": null,
            "justify_items": null,
            "left": null,
            "margin": null,
            "max_height": null,
            "max_width": null,
            "min_height": null,
            "min_width": null,
            "object_fit": null,
            "object_position": null,
            "order": null,
            "overflow": null,
            "overflow_x": null,
            "overflow_y": null,
            "padding": null,
            "right": null,
            "top": null,
            "visibility": null,
            "width": null
          }
        },
        "3e11969183d94c6b822f766aa74d7568": {
          "model_module": "@jupyter-widgets/base",
          "model_name": "LayoutModel",
          "model_module_version": "1.2.0",
          "state": {
            "_model_module": "@jupyter-widgets/base",
            "_model_module_version": "1.2.0",
            "_model_name": "LayoutModel",
            "_view_count": null,
            "_view_module": "@jupyter-widgets/base",
            "_view_module_version": "1.2.0",
            "_view_name": "LayoutView",
            "align_content": null,
            "align_items": null,
            "align_self": null,
            "border": null,
            "bottom": null,
            "display": null,
            "flex": null,
            "flex_flow": null,
            "grid_area": null,
            "grid_auto_columns": null,
            "grid_auto_flow": null,
            "grid_auto_rows": null,
            "grid_column": null,
            "grid_gap": null,
            "grid_row": null,
            "grid_template_areas": null,
            "grid_template_columns": null,
            "grid_template_rows": null,
            "height": null,
            "justify_content": null,
            "justify_items": null,
            "left": null,
            "margin": null,
            "max_height": null,
            "max_width": null,
            "min_height": null,
            "min_width": null,
            "object_fit": null,
            "object_position": null,
            "order": null,
            "overflow": null,
            "overflow_x": null,
            "overflow_y": null,
            "padding": null,
            "right": null,
            "top": null,
            "visibility": null,
            "width": null
          }
        },
        "3e639543c2ee467fb25768fc48e994f1": {
          "model_module": "@jupyter-widgets/controls",
          "model_name": "DescriptionStyleModel",
          "model_module_version": "1.5.0",
          "state": {
            "_model_module": "@jupyter-widgets/controls",
            "_model_module_version": "1.5.0",
            "_model_name": "DescriptionStyleModel",
            "_view_count": null,
            "_view_module": "@jupyter-widgets/base",
            "_view_module_version": "1.2.0",
            "_view_name": "StyleView",
            "description_width": ""
          }
        },
        "c228c1ea0a3f4b8fb162d8f5d42313ba": {
          "model_module": "@jupyter-widgets/base",
          "model_name": "LayoutModel",
          "model_module_version": "1.2.0",
          "state": {
            "_model_module": "@jupyter-widgets/base",
            "_model_module_version": "1.2.0",
            "_model_name": "LayoutModel",
            "_view_count": null,
            "_view_module": "@jupyter-widgets/base",
            "_view_module_version": "1.2.0",
            "_view_name": "LayoutView",
            "align_content": null,
            "align_items": null,
            "align_self": null,
            "border": null,
            "bottom": null,
            "display": null,
            "flex": null,
            "flex_flow": null,
            "grid_area": null,
            "grid_auto_columns": null,
            "grid_auto_flow": null,
            "grid_auto_rows": null,
            "grid_column": null,
            "grid_gap": null,
            "grid_row": null,
            "grid_template_areas": null,
            "grid_template_columns": null,
            "grid_template_rows": null,
            "height": null,
            "justify_content": null,
            "justify_items": null,
            "left": null,
            "margin": null,
            "max_height": null,
            "max_width": null,
            "min_height": null,
            "min_width": null,
            "object_fit": null,
            "object_position": null,
            "order": null,
            "overflow": null,
            "overflow_x": null,
            "overflow_y": null,
            "padding": null,
            "right": null,
            "top": null,
            "visibility": null,
            "width": null
          }
        },
        "d61b3a77dcaa4a078c6fbaefdadf1c73": {
          "model_module": "@jupyter-widgets/controls",
          "model_name": "ProgressStyleModel",
          "model_module_version": "1.5.0",
          "state": {
            "_model_module": "@jupyter-widgets/controls",
            "_model_module_version": "1.5.0",
            "_model_name": "ProgressStyleModel",
            "_view_count": null,
            "_view_module": "@jupyter-widgets/base",
            "_view_module_version": "1.2.0",
            "_view_name": "StyleView",
            "bar_color": null,
            "description_width": ""
          }
        },
        "9329732c90fe4036b6993a23db5bc773": {
          "model_module": "@jupyter-widgets/base",
          "model_name": "LayoutModel",
          "model_module_version": "1.2.0",
          "state": {
            "_model_module": "@jupyter-widgets/base",
            "_model_module_version": "1.2.0",
            "_model_name": "LayoutModel",
            "_view_count": null,
            "_view_module": "@jupyter-widgets/base",
            "_view_module_version": "1.2.0",
            "_view_name": "LayoutView",
            "align_content": null,
            "align_items": null,
            "align_self": null,
            "border": null,
            "bottom": null,
            "display": null,
            "flex": null,
            "flex_flow": null,
            "grid_area": null,
            "grid_auto_columns": null,
            "grid_auto_flow": null,
            "grid_auto_rows": null,
            "grid_column": null,
            "grid_gap": null,
            "grid_row": null,
            "grid_template_areas": null,
            "grid_template_columns": null,
            "grid_template_rows": null,
            "height": null,
            "justify_content": null,
            "justify_items": null,
            "left": null,
            "margin": null,
            "max_height": null,
            "max_width": null,
            "min_height": null,
            "min_width": null,
            "object_fit": null,
            "object_position": null,
            "order": null,
            "overflow": null,
            "overflow_x": null,
            "overflow_y": null,
            "padding": null,
            "right": null,
            "top": null,
            "visibility": null,
            "width": null
          }
        },
        "086d40a95e924ca189cc885b8eb0d189": {
          "model_module": "@jupyter-widgets/controls",
          "model_name": "DescriptionStyleModel",
          "model_module_version": "1.5.0",
          "state": {
            "_model_module": "@jupyter-widgets/controls",
            "_model_module_version": "1.5.0",
            "_model_name": "DescriptionStyleModel",
            "_view_count": null,
            "_view_module": "@jupyter-widgets/base",
            "_view_module_version": "1.2.0",
            "_view_name": "StyleView",
            "description_width": ""
          }
        },
        "7fe18b78ccd44127a02aee8c82a394b8": {
          "model_module": "@jupyter-widgets/controls",
          "model_name": "HBoxModel",
          "model_module_version": "1.5.0",
          "state": {
            "_dom_classes": [],
            "_model_module": "@jupyter-widgets/controls",
            "_model_module_version": "1.5.0",
            "_model_name": "HBoxModel",
            "_view_count": null,
            "_view_module": "@jupyter-widgets/controls",
            "_view_module_version": "1.5.0",
            "_view_name": "HBoxView",
            "box_style": "",
            "children": [
              "IPY_MODEL_c0c7dd5bac1646d4b33b0096cfcde023",
              "IPY_MODEL_ae07f53bde144ff3ad0d6f9989e33692",
              "IPY_MODEL_ea1aa503b8df42dd8009a386c1e2607d"
            ],
            "layout": "IPY_MODEL_5f2c2f1646df4a629bae38e3888e1ac4"
          }
        },
        "c0c7dd5bac1646d4b33b0096cfcde023": {
          "model_module": "@jupyter-widgets/controls",
          "model_name": "HTMLModel",
          "model_module_version": "1.5.0",
          "state": {
            "_dom_classes": [],
            "_model_module": "@jupyter-widgets/controls",
            "_model_module_version": "1.5.0",
            "_model_name": "HTMLModel",
            "_view_count": null,
            "_view_module": "@jupyter-widgets/controls",
            "_view_module_version": "1.5.0",
            "_view_name": "HTMLView",
            "description": "",
            "description_tooltip": null,
            "layout": "IPY_MODEL_a739e5489d0c4fd098b3a3e69ddb0e8b",
            "placeholder": "​",
            "style": "IPY_MODEL_ef27ae2185f64df4aa2b01374e50452f",
            "value": "vocab.txt: 100%"
          }
        },
        "ae07f53bde144ff3ad0d6f9989e33692": {
          "model_module": "@jupyter-widgets/controls",
          "model_name": "FloatProgressModel",
          "model_module_version": "1.5.0",
          "state": {
            "_dom_classes": [],
            "_model_module": "@jupyter-widgets/controls",
            "_model_module_version": "1.5.0",
            "_model_name": "FloatProgressModel",
            "_view_count": null,
            "_view_module": "@jupyter-widgets/controls",
            "_view_module_version": "1.5.0",
            "_view_name": "ProgressView",
            "bar_style": "success",
            "description": "",
            "description_tooltip": null,
            "layout": "IPY_MODEL_3591b8d5fb9845ba93e3274287cc6bc3",
            "max": 231508,
            "min": 0,
            "orientation": "horizontal",
            "style": "IPY_MODEL_480076a5f61c4e51887d05dea39622cb",
            "value": 231508
          }
        },
        "ea1aa503b8df42dd8009a386c1e2607d": {
          "model_module": "@jupyter-widgets/controls",
          "model_name": "HTMLModel",
          "model_module_version": "1.5.0",
          "state": {
            "_dom_classes": [],
            "_model_module": "@jupyter-widgets/controls",
            "_model_module_version": "1.5.0",
            "_model_name": "HTMLModel",
            "_view_count": null,
            "_view_module": "@jupyter-widgets/controls",
            "_view_module_version": "1.5.0",
            "_view_name": "HTMLView",
            "description": "",
            "description_tooltip": null,
            "layout": "IPY_MODEL_856da1375b954cf6aa1f80022ec4b8b4",
            "placeholder": "​",
            "style": "IPY_MODEL_bbf99bd087314d73bddfc41d880c5b69",
            "value": " 232k/232k [00:00&lt;00:00, 580kB/s]"
          }
        },
        "5f2c2f1646df4a629bae38e3888e1ac4": {
          "model_module": "@jupyter-widgets/base",
          "model_name": "LayoutModel",
          "model_module_version": "1.2.0",
          "state": {
            "_model_module": "@jupyter-widgets/base",
            "_model_module_version": "1.2.0",
            "_model_name": "LayoutModel",
            "_view_count": null,
            "_view_module": "@jupyter-widgets/base",
            "_view_module_version": "1.2.0",
            "_view_name": "LayoutView",
            "align_content": null,
            "align_items": null,
            "align_self": null,
            "border": null,
            "bottom": null,
            "display": null,
            "flex": null,
            "flex_flow": null,
            "grid_area": null,
            "grid_auto_columns": null,
            "grid_auto_flow": null,
            "grid_auto_rows": null,
            "grid_column": null,
            "grid_gap": null,
            "grid_row": null,
            "grid_template_areas": null,
            "grid_template_columns": null,
            "grid_template_rows": null,
            "height": null,
            "justify_content": null,
            "justify_items": null,
            "left": null,
            "margin": null,
            "max_height": null,
            "max_width": null,
            "min_height": null,
            "min_width": null,
            "object_fit": null,
            "object_position": null,
            "order": null,
            "overflow": null,
            "overflow_x": null,
            "overflow_y": null,
            "padding": null,
            "right": null,
            "top": null,
            "visibility": null,
            "width": null
          }
        },
        "a739e5489d0c4fd098b3a3e69ddb0e8b": {
          "model_module": "@jupyter-widgets/base",
          "model_name": "LayoutModel",
          "model_module_version": "1.2.0",
          "state": {
            "_model_module": "@jupyter-widgets/base",
            "_model_module_version": "1.2.0",
            "_model_name": "LayoutModel",
            "_view_count": null,
            "_view_module": "@jupyter-widgets/base",
            "_view_module_version": "1.2.0",
            "_view_name": "LayoutView",
            "align_content": null,
            "align_items": null,
            "align_self": null,
            "border": null,
            "bottom": null,
            "display": null,
            "flex": null,
            "flex_flow": null,
            "grid_area": null,
            "grid_auto_columns": null,
            "grid_auto_flow": null,
            "grid_auto_rows": null,
            "grid_column": null,
            "grid_gap": null,
            "grid_row": null,
            "grid_template_areas": null,
            "grid_template_columns": null,
            "grid_template_rows": null,
            "height": null,
            "justify_content": null,
            "justify_items": null,
            "left": null,
            "margin": null,
            "max_height": null,
            "max_width": null,
            "min_height": null,
            "min_width": null,
            "object_fit": null,
            "object_position": null,
            "order": null,
            "overflow": null,
            "overflow_x": null,
            "overflow_y": null,
            "padding": null,
            "right": null,
            "top": null,
            "visibility": null,
            "width": null
          }
        },
        "ef27ae2185f64df4aa2b01374e50452f": {
          "model_module": "@jupyter-widgets/controls",
          "model_name": "DescriptionStyleModel",
          "model_module_version": "1.5.0",
          "state": {
            "_model_module": "@jupyter-widgets/controls",
            "_model_module_version": "1.5.0",
            "_model_name": "DescriptionStyleModel",
            "_view_count": null,
            "_view_module": "@jupyter-widgets/base",
            "_view_module_version": "1.2.0",
            "_view_name": "StyleView",
            "description_width": ""
          }
        },
        "3591b8d5fb9845ba93e3274287cc6bc3": {
          "model_module": "@jupyter-widgets/base",
          "model_name": "LayoutModel",
          "model_module_version": "1.2.0",
          "state": {
            "_model_module": "@jupyter-widgets/base",
            "_model_module_version": "1.2.0",
            "_model_name": "LayoutModel",
            "_view_count": null,
            "_view_module": "@jupyter-widgets/base",
            "_view_module_version": "1.2.0",
            "_view_name": "LayoutView",
            "align_content": null,
            "align_items": null,
            "align_self": null,
            "border": null,
            "bottom": null,
            "display": null,
            "flex": null,
            "flex_flow": null,
            "grid_area": null,
            "grid_auto_columns": null,
            "grid_auto_flow": null,
            "grid_auto_rows": null,
            "grid_column": null,
            "grid_gap": null,
            "grid_row": null,
            "grid_template_areas": null,
            "grid_template_columns": null,
            "grid_template_rows": null,
            "height": null,
            "justify_content": null,
            "justify_items": null,
            "left": null,
            "margin": null,
            "max_height": null,
            "max_width": null,
            "min_height": null,
            "min_width": null,
            "object_fit": null,
            "object_position": null,
            "order": null,
            "overflow": null,
            "overflow_x": null,
            "overflow_y": null,
            "padding": null,
            "right": null,
            "top": null,
            "visibility": null,
            "width": null
          }
        },
        "480076a5f61c4e51887d05dea39622cb": {
          "model_module": "@jupyter-widgets/controls",
          "model_name": "ProgressStyleModel",
          "model_module_version": "1.5.0",
          "state": {
            "_model_module": "@jupyter-widgets/controls",
            "_model_module_version": "1.5.0",
            "_model_name": "ProgressStyleModel",
            "_view_count": null,
            "_view_module": "@jupyter-widgets/base",
            "_view_module_version": "1.2.0",
            "_view_name": "StyleView",
            "bar_color": null,
            "description_width": ""
          }
        },
        "856da1375b954cf6aa1f80022ec4b8b4": {
          "model_module": "@jupyter-widgets/base",
          "model_name": "LayoutModel",
          "model_module_version": "1.2.0",
          "state": {
            "_model_module": "@jupyter-widgets/base",
            "_model_module_version": "1.2.0",
            "_model_name": "LayoutModel",
            "_view_count": null,
            "_view_module": "@jupyter-widgets/base",
            "_view_module_version": "1.2.0",
            "_view_name": "LayoutView",
            "align_content": null,
            "align_items": null,
            "align_self": null,
            "border": null,
            "bottom": null,
            "display": null,
            "flex": null,
            "flex_flow": null,
            "grid_area": null,
            "grid_auto_columns": null,
            "grid_auto_flow": null,
            "grid_auto_rows": null,
            "grid_column": null,
            "grid_gap": null,
            "grid_row": null,
            "grid_template_areas": null,
            "grid_template_columns": null,
            "grid_template_rows": null,
            "height": null,
            "justify_content": null,
            "justify_items": null,
            "left": null,
            "margin": null,
            "max_height": null,
            "max_width": null,
            "min_height": null,
            "min_width": null,
            "object_fit": null,
            "object_position": null,
            "order": null,
            "overflow": null,
            "overflow_x": null,
            "overflow_y": null,
            "padding": null,
            "right": null,
            "top": null,
            "visibility": null,
            "width": null
          }
        },
        "bbf99bd087314d73bddfc41d880c5b69": {
          "model_module": "@jupyter-widgets/controls",
          "model_name": "DescriptionStyleModel",
          "model_module_version": "1.5.0",
          "state": {
            "_model_module": "@jupyter-widgets/controls",
            "_model_module_version": "1.5.0",
            "_model_name": "DescriptionStyleModel",
            "_view_count": null,
            "_view_module": "@jupyter-widgets/base",
            "_view_module_version": "1.2.0",
            "_view_name": "StyleView",
            "description_width": ""
          }
        },
        "a614f39001b34d59bdeaa45318e9e03b": {
          "model_module": "@jupyter-widgets/controls",
          "model_name": "HBoxModel",
          "model_module_version": "1.5.0",
          "state": {
            "_dom_classes": [],
            "_model_module": "@jupyter-widgets/controls",
            "_model_module_version": "1.5.0",
            "_model_name": "HBoxModel",
            "_view_count": null,
            "_view_module": "@jupyter-widgets/controls",
            "_view_module_version": "1.5.0",
            "_view_name": "HBoxView",
            "box_style": "",
            "children": [
              "IPY_MODEL_247441361c8c4cb0b213cc8d144e7c74",
              "IPY_MODEL_c16b14bd8a414463aa93b96c5eddc3db",
              "IPY_MODEL_786bdce8b53449b09e5773792a6f403e"
            ],
            "layout": "IPY_MODEL_80b51c8350304e77aca175ba190cc4d2"
          }
        },
        "247441361c8c4cb0b213cc8d144e7c74": {
          "model_module": "@jupyter-widgets/controls",
          "model_name": "HTMLModel",
          "model_module_version": "1.5.0",
          "state": {
            "_dom_classes": [],
            "_model_module": "@jupyter-widgets/controls",
            "_model_module_version": "1.5.0",
            "_model_name": "HTMLModel",
            "_view_count": null,
            "_view_module": "@jupyter-widgets/controls",
            "_view_module_version": "1.5.0",
            "_view_name": "HTMLView",
            "description": "",
            "description_tooltip": null,
            "layout": "IPY_MODEL_95f8d0655d96400a93669ffaa2fb1593",
            "placeholder": "​",
            "style": "IPY_MODEL_09b976898a9b45c7b9676bb70b130252",
            "value": "tokenizer.json: 100%"
          }
        },
        "c16b14bd8a414463aa93b96c5eddc3db": {
          "model_module": "@jupyter-widgets/controls",
          "model_name": "FloatProgressModel",
          "model_module_version": "1.5.0",
          "state": {
            "_dom_classes": [],
            "_model_module": "@jupyter-widgets/controls",
            "_model_module_version": "1.5.0",
            "_model_name": "FloatProgressModel",
            "_view_count": null,
            "_view_module": "@jupyter-widgets/controls",
            "_view_module_version": "1.5.0",
            "_view_name": "ProgressView",
            "bar_style": "success",
            "description": "",
            "description_tooltip": null,
            "layout": "IPY_MODEL_59592687136647b2a9ac7c59986fb353",
            "max": 466062,
            "min": 0,
            "orientation": "horizontal",
            "style": "IPY_MODEL_8e3853bfca6b42148aed83760efc534f",
            "value": 466062
          }
        },
        "786bdce8b53449b09e5773792a6f403e": {
          "model_module": "@jupyter-widgets/controls",
          "model_name": "HTMLModel",
          "model_module_version": "1.5.0",
          "state": {
            "_dom_classes": [],
            "_model_module": "@jupyter-widgets/controls",
            "_model_module_version": "1.5.0",
            "_model_name": "HTMLModel",
            "_view_count": null,
            "_view_module": "@jupyter-widgets/controls",
            "_view_module_version": "1.5.0",
            "_view_name": "HTMLView",
            "description": "",
            "description_tooltip": null,
            "layout": "IPY_MODEL_761c79cec6f14400a989a49899c19f07",
            "placeholder": "​",
            "style": "IPY_MODEL_0912a1fe88a24b6b8a3b4f731a091891",
            "value": " 466k/466k [00:00&lt;00:00, 776kB/s]"
          }
        },
        "80b51c8350304e77aca175ba190cc4d2": {
          "model_module": "@jupyter-widgets/base",
          "model_name": "LayoutModel",
          "model_module_version": "1.2.0",
          "state": {
            "_model_module": "@jupyter-widgets/base",
            "_model_module_version": "1.2.0",
            "_model_name": "LayoutModel",
            "_view_count": null,
            "_view_module": "@jupyter-widgets/base",
            "_view_module_version": "1.2.0",
            "_view_name": "LayoutView",
            "align_content": null,
            "align_items": null,
            "align_self": null,
            "border": null,
            "bottom": null,
            "display": null,
            "flex": null,
            "flex_flow": null,
            "grid_area": null,
            "grid_auto_columns": null,
            "grid_auto_flow": null,
            "grid_auto_rows": null,
            "grid_column": null,
            "grid_gap": null,
            "grid_row": null,
            "grid_template_areas": null,
            "grid_template_columns": null,
            "grid_template_rows": null,
            "height": null,
            "justify_content": null,
            "justify_items": null,
            "left": null,
            "margin": null,
            "max_height": null,
            "max_width": null,
            "min_height": null,
            "min_width": null,
            "object_fit": null,
            "object_position": null,
            "order": null,
            "overflow": null,
            "overflow_x": null,
            "overflow_y": null,
            "padding": null,
            "right": null,
            "top": null,
            "visibility": null,
            "width": null
          }
        },
        "95f8d0655d96400a93669ffaa2fb1593": {
          "model_module": "@jupyter-widgets/base",
          "model_name": "LayoutModel",
          "model_module_version": "1.2.0",
          "state": {
            "_model_module": "@jupyter-widgets/base",
            "_model_module_version": "1.2.0",
            "_model_name": "LayoutModel",
            "_view_count": null,
            "_view_module": "@jupyter-widgets/base",
            "_view_module_version": "1.2.0",
            "_view_name": "LayoutView",
            "align_content": null,
            "align_items": null,
            "align_self": null,
            "border": null,
            "bottom": null,
            "display": null,
            "flex": null,
            "flex_flow": null,
            "grid_area": null,
            "grid_auto_columns": null,
            "grid_auto_flow": null,
            "grid_auto_rows": null,
            "grid_column": null,
            "grid_gap": null,
            "grid_row": null,
            "grid_template_areas": null,
            "grid_template_columns": null,
            "grid_template_rows": null,
            "height": null,
            "justify_content": null,
            "justify_items": null,
            "left": null,
            "margin": null,
            "max_height": null,
            "max_width": null,
            "min_height": null,
            "min_width": null,
            "object_fit": null,
            "object_position": null,
            "order": null,
            "overflow": null,
            "overflow_x": null,
            "overflow_y": null,
            "padding": null,
            "right": null,
            "top": null,
            "visibility": null,
            "width": null
          }
        },
        "09b976898a9b45c7b9676bb70b130252": {
          "model_module": "@jupyter-widgets/controls",
          "model_name": "DescriptionStyleModel",
          "model_module_version": "1.5.0",
          "state": {
            "_model_module": "@jupyter-widgets/controls",
            "_model_module_version": "1.5.0",
            "_model_name": "DescriptionStyleModel",
            "_view_count": null,
            "_view_module": "@jupyter-widgets/base",
            "_view_module_version": "1.2.0",
            "_view_name": "StyleView",
            "description_width": ""
          }
        },
        "59592687136647b2a9ac7c59986fb353": {
          "model_module": "@jupyter-widgets/base",
          "model_name": "LayoutModel",
          "model_module_version": "1.2.0",
          "state": {
            "_model_module": "@jupyter-widgets/base",
            "_model_module_version": "1.2.0",
            "_model_name": "LayoutModel",
            "_view_count": null,
            "_view_module": "@jupyter-widgets/base",
            "_view_module_version": "1.2.0",
            "_view_name": "LayoutView",
            "align_content": null,
            "align_items": null,
            "align_self": null,
            "border": null,
            "bottom": null,
            "display": null,
            "flex": null,
            "flex_flow": null,
            "grid_area": null,
            "grid_auto_columns": null,
            "grid_auto_flow": null,
            "grid_auto_rows": null,
            "grid_column": null,
            "grid_gap": null,
            "grid_row": null,
            "grid_template_areas": null,
            "grid_template_columns": null,
            "grid_template_rows": null,
            "height": null,
            "justify_content": null,
            "justify_items": null,
            "left": null,
            "margin": null,
            "max_height": null,
            "max_width": null,
            "min_height": null,
            "min_width": null,
            "object_fit": null,
            "object_position": null,
            "order": null,
            "overflow": null,
            "overflow_x": null,
            "overflow_y": null,
            "padding": null,
            "right": null,
            "top": null,
            "visibility": null,
            "width": null
          }
        },
        "8e3853bfca6b42148aed83760efc534f": {
          "model_module": "@jupyter-widgets/controls",
          "model_name": "ProgressStyleModel",
          "model_module_version": "1.5.0",
          "state": {
            "_model_module": "@jupyter-widgets/controls",
            "_model_module_version": "1.5.0",
            "_model_name": "ProgressStyleModel",
            "_view_count": null,
            "_view_module": "@jupyter-widgets/base",
            "_view_module_version": "1.2.0",
            "_view_name": "StyleView",
            "bar_color": null,
            "description_width": ""
          }
        },
        "761c79cec6f14400a989a49899c19f07": {
          "model_module": "@jupyter-widgets/base",
          "model_name": "LayoutModel",
          "model_module_version": "1.2.0",
          "state": {
            "_model_module": "@jupyter-widgets/base",
            "_model_module_version": "1.2.0",
            "_model_name": "LayoutModel",
            "_view_count": null,
            "_view_module": "@jupyter-widgets/base",
            "_view_module_version": "1.2.0",
            "_view_name": "LayoutView",
            "align_content": null,
            "align_items": null,
            "align_self": null,
            "border": null,
            "bottom": null,
            "display": null,
            "flex": null,
            "flex_flow": null,
            "grid_area": null,
            "grid_auto_columns": null,
            "grid_auto_flow": null,
            "grid_auto_rows": null,
            "grid_column": null,
            "grid_gap": null,
            "grid_row": null,
            "grid_template_areas": null,
            "grid_template_columns": null,
            "grid_template_rows": null,
            "height": null,
            "justify_content": null,
            "justify_items": null,
            "left": null,
            "margin": null,
            "max_height": null,
            "max_width": null,
            "min_height": null,
            "min_width": null,
            "object_fit": null,
            "object_position": null,
            "order": null,
            "overflow": null,
            "overflow_x": null,
            "overflow_y": null,
            "padding": null,
            "right": null,
            "top": null,
            "visibility": null,
            "width": null
          }
        },
        "0912a1fe88a24b6b8a3b4f731a091891": {
          "model_module": "@jupyter-widgets/controls",
          "model_name": "DescriptionStyleModel",
          "model_module_version": "1.5.0",
          "state": {
            "_model_module": "@jupyter-widgets/controls",
            "_model_module_version": "1.5.0",
            "_model_name": "DescriptionStyleModel",
            "_view_count": null,
            "_view_module": "@jupyter-widgets/base",
            "_view_module_version": "1.2.0",
            "_view_name": "StyleView",
            "description_width": ""
          }
        },
        "d726c301927e40bbaf987e33ce54c118": {
          "model_module": "@jupyter-widgets/controls",
          "model_name": "HBoxModel",
          "model_module_version": "1.5.0",
          "state": {
            "_dom_classes": [],
            "_model_module": "@jupyter-widgets/controls",
            "_model_module_version": "1.5.0",
            "_model_name": "HBoxModel",
            "_view_count": null,
            "_view_module": "@jupyter-widgets/controls",
            "_view_module_version": "1.5.0",
            "_view_name": "HBoxView",
            "box_style": "",
            "children": [
              "IPY_MODEL_97daff9233ed409c9895a3c3dca12bbb",
              "IPY_MODEL_d7f55774f15d40eaa8ae1f6739c232b1",
              "IPY_MODEL_dcaa04f331834ee2a88a58437beeb6e9"
            ],
            "layout": "IPY_MODEL_707e5a8970814de4995a5317d70bbb05"
          }
        },
        "97daff9233ed409c9895a3c3dca12bbb": {
          "model_module": "@jupyter-widgets/controls",
          "model_name": "HTMLModel",
          "model_module_version": "1.5.0",
          "state": {
            "_dom_classes": [],
            "_model_module": "@jupyter-widgets/controls",
            "_model_module_version": "1.5.0",
            "_model_name": "HTMLModel",
            "_view_count": null,
            "_view_module": "@jupyter-widgets/controls",
            "_view_module_version": "1.5.0",
            "_view_name": "HTMLView",
            "description": "",
            "description_tooltip": null,
            "layout": "IPY_MODEL_a83af085ed6a416f8b1cabd8db4e6479",
            "placeholder": "​",
            "style": "IPY_MODEL_c5c5fcfae21742f5a1d96c9ed2916956",
            "value": "config.json: 100%"
          }
        },
        "d7f55774f15d40eaa8ae1f6739c232b1": {
          "model_module": "@jupyter-widgets/controls",
          "model_name": "FloatProgressModel",
          "model_module_version": "1.5.0",
          "state": {
            "_dom_classes": [],
            "_model_module": "@jupyter-widgets/controls",
            "_model_module_version": "1.5.0",
            "_model_name": "FloatProgressModel",
            "_view_count": null,
            "_view_module": "@jupyter-widgets/controls",
            "_view_module_version": "1.5.0",
            "_view_name": "ProgressView",
            "bar_style": "success",
            "description": "",
            "description_tooltip": null,
            "layout": "IPY_MODEL_4c29a97aa81d4a819501f5bd9f334298",
            "max": 570,
            "min": 0,
            "orientation": "horizontal",
            "style": "IPY_MODEL_060b6c39ca7a4872a7423485158ff46e",
            "value": 570
          }
        },
        "dcaa04f331834ee2a88a58437beeb6e9": {
          "model_module": "@jupyter-widgets/controls",
          "model_name": "HTMLModel",
          "model_module_version": "1.5.0",
          "state": {
            "_dom_classes": [],
            "_model_module": "@jupyter-widgets/controls",
            "_model_module_version": "1.5.0",
            "_model_name": "HTMLModel",
            "_view_count": null,
            "_view_module": "@jupyter-widgets/controls",
            "_view_module_version": "1.5.0",
            "_view_name": "HTMLView",
            "description": "",
            "description_tooltip": null,
            "layout": "IPY_MODEL_044f5ebb74ce4fd789b38d79582cdf6f",
            "placeholder": "​",
            "style": "IPY_MODEL_b57e0269728a4b269e66d5caaaba176a",
            "value": " 570/570 [00:00&lt;00:00, 20.5kB/s]"
          }
        },
        "707e5a8970814de4995a5317d70bbb05": {
          "model_module": "@jupyter-widgets/base",
          "model_name": "LayoutModel",
          "model_module_version": "1.2.0",
          "state": {
            "_model_module": "@jupyter-widgets/base",
            "_model_module_version": "1.2.0",
            "_model_name": "LayoutModel",
            "_view_count": null,
            "_view_module": "@jupyter-widgets/base",
            "_view_module_version": "1.2.0",
            "_view_name": "LayoutView",
            "align_content": null,
            "align_items": null,
            "align_self": null,
            "border": null,
            "bottom": null,
            "display": null,
            "flex": null,
            "flex_flow": null,
            "grid_area": null,
            "grid_auto_columns": null,
            "grid_auto_flow": null,
            "grid_auto_rows": null,
            "grid_column": null,
            "grid_gap": null,
            "grid_row": null,
            "grid_template_areas": null,
            "grid_template_columns": null,
            "grid_template_rows": null,
            "height": null,
            "justify_content": null,
            "justify_items": null,
            "left": null,
            "margin": null,
            "max_height": null,
            "max_width": null,
            "min_height": null,
            "min_width": null,
            "object_fit": null,
            "object_position": null,
            "order": null,
            "overflow": null,
            "overflow_x": null,
            "overflow_y": null,
            "padding": null,
            "right": null,
            "top": null,
            "visibility": null,
            "width": null
          }
        },
        "a83af085ed6a416f8b1cabd8db4e6479": {
          "model_module": "@jupyter-widgets/base",
          "model_name": "LayoutModel",
          "model_module_version": "1.2.0",
          "state": {
            "_model_module": "@jupyter-widgets/base",
            "_model_module_version": "1.2.0",
            "_model_name": "LayoutModel",
            "_view_count": null,
            "_view_module": "@jupyter-widgets/base",
            "_view_module_version": "1.2.0",
            "_view_name": "LayoutView",
            "align_content": null,
            "align_items": null,
            "align_self": null,
            "border": null,
            "bottom": null,
            "display": null,
            "flex": null,
            "flex_flow": null,
            "grid_area": null,
            "grid_auto_columns": null,
            "grid_auto_flow": null,
            "grid_auto_rows": null,
            "grid_column": null,
            "grid_gap": null,
            "grid_row": null,
            "grid_template_areas": null,
            "grid_template_columns": null,
            "grid_template_rows": null,
            "height": null,
            "justify_content": null,
            "justify_items": null,
            "left": null,
            "margin": null,
            "max_height": null,
            "max_width": null,
            "min_height": null,
            "min_width": null,
            "object_fit": null,
            "object_position": null,
            "order": null,
            "overflow": null,
            "overflow_x": null,
            "overflow_y": null,
            "padding": null,
            "right": null,
            "top": null,
            "visibility": null,
            "width": null
          }
        },
        "c5c5fcfae21742f5a1d96c9ed2916956": {
          "model_module": "@jupyter-widgets/controls",
          "model_name": "DescriptionStyleModel",
          "model_module_version": "1.5.0",
          "state": {
            "_model_module": "@jupyter-widgets/controls",
            "_model_module_version": "1.5.0",
            "_model_name": "DescriptionStyleModel",
            "_view_count": null,
            "_view_module": "@jupyter-widgets/base",
            "_view_module_version": "1.2.0",
            "_view_name": "StyleView",
            "description_width": ""
          }
        },
        "4c29a97aa81d4a819501f5bd9f334298": {
          "model_module": "@jupyter-widgets/base",
          "model_name": "LayoutModel",
          "model_module_version": "1.2.0",
          "state": {
            "_model_module": "@jupyter-widgets/base",
            "_model_module_version": "1.2.0",
            "_model_name": "LayoutModel",
            "_view_count": null,
            "_view_module": "@jupyter-widgets/base",
            "_view_module_version": "1.2.0",
            "_view_name": "LayoutView",
            "align_content": null,
            "align_items": null,
            "align_self": null,
            "border": null,
            "bottom": null,
            "display": null,
            "flex": null,
            "flex_flow": null,
            "grid_area": null,
            "grid_auto_columns": null,
            "grid_auto_flow": null,
            "grid_auto_rows": null,
            "grid_column": null,
            "grid_gap": null,
            "grid_row": null,
            "grid_template_areas": null,
            "grid_template_columns": null,
            "grid_template_rows": null,
            "height": null,
            "justify_content": null,
            "justify_items": null,
            "left": null,
            "margin": null,
            "max_height": null,
            "max_width": null,
            "min_height": null,
            "min_width": null,
            "object_fit": null,
            "object_position": null,
            "order": null,
            "overflow": null,
            "overflow_x": null,
            "overflow_y": null,
            "padding": null,
            "right": null,
            "top": null,
            "visibility": null,
            "width": null
          }
        },
        "060b6c39ca7a4872a7423485158ff46e": {
          "model_module": "@jupyter-widgets/controls",
          "model_name": "ProgressStyleModel",
          "model_module_version": "1.5.0",
          "state": {
            "_model_module": "@jupyter-widgets/controls",
            "_model_module_version": "1.5.0",
            "_model_name": "ProgressStyleModel",
            "_view_count": null,
            "_view_module": "@jupyter-widgets/base",
            "_view_module_version": "1.2.0",
            "_view_name": "StyleView",
            "bar_color": null,
            "description_width": ""
          }
        },
        "044f5ebb74ce4fd789b38d79582cdf6f": {
          "model_module": "@jupyter-widgets/base",
          "model_name": "LayoutModel",
          "model_module_version": "1.2.0",
          "state": {
            "_model_module": "@jupyter-widgets/base",
            "_model_module_version": "1.2.0",
            "_model_name": "LayoutModel",
            "_view_count": null,
            "_view_module": "@jupyter-widgets/base",
            "_view_module_version": "1.2.0",
            "_view_name": "LayoutView",
            "align_content": null,
            "align_items": null,
            "align_self": null,
            "border": null,
            "bottom": null,
            "display": null,
            "flex": null,
            "flex_flow": null,
            "grid_area": null,
            "grid_auto_columns": null,
            "grid_auto_flow": null,
            "grid_auto_rows": null,
            "grid_column": null,
            "grid_gap": null,
            "grid_row": null,
            "grid_template_areas": null,
            "grid_template_columns": null,
            "grid_template_rows": null,
            "height": null,
            "justify_content": null,
            "justify_items": null,
            "left": null,
            "margin": null,
            "max_height": null,
            "max_width": null,
            "min_height": null,
            "min_width": null,
            "object_fit": null,
            "object_position": null,
            "order": null,
            "overflow": null,
            "overflow_x": null,
            "overflow_y": null,
            "padding": null,
            "right": null,
            "top": null,
            "visibility": null,
            "width": null
          }
        },
        "b57e0269728a4b269e66d5caaaba176a": {
          "model_module": "@jupyter-widgets/controls",
          "model_name": "DescriptionStyleModel",
          "model_module_version": "1.5.0",
          "state": {
            "_model_module": "@jupyter-widgets/controls",
            "_model_module_version": "1.5.0",
            "_model_name": "DescriptionStyleModel",
            "_view_count": null,
            "_view_module": "@jupyter-widgets/base",
            "_view_module_version": "1.2.0",
            "_view_name": "StyleView",
            "description_width": ""
          }
        },
        "1bef121cb17446ae9ed92d359ab77aed": {
          "model_module": "@jupyter-widgets/controls",
          "model_name": "HBoxModel",
          "model_module_version": "1.5.0",
          "state": {
            "_dom_classes": [],
            "_model_module": "@jupyter-widgets/controls",
            "_model_module_version": "1.5.0",
            "_model_name": "HBoxModel",
            "_view_count": null,
            "_view_module": "@jupyter-widgets/controls",
            "_view_module_version": "1.5.0",
            "_view_name": "HBoxView",
            "box_style": "",
            "children": [
              "IPY_MODEL_c1e3da4176aa4118ac00ece92b8a80c7",
              "IPY_MODEL_c30623a913ac41ecb9060967fb07bbad",
              "IPY_MODEL_8445295a4f064a1f9424bf9bcdfef7ca"
            ],
            "layout": "IPY_MODEL_d166a4ee8d1547659ad3996b74c54ce8"
          }
        },
        "c1e3da4176aa4118ac00ece92b8a80c7": {
          "model_module": "@jupyter-widgets/controls",
          "model_name": "HTMLModel",
          "model_module_version": "1.5.0",
          "state": {
            "_dom_classes": [],
            "_model_module": "@jupyter-widgets/controls",
            "_model_module_version": "1.5.0",
            "_model_name": "HTMLModel",
            "_view_count": null,
            "_view_module": "@jupyter-widgets/controls",
            "_view_module_version": "1.5.0",
            "_view_name": "HTMLView",
            "description": "",
            "description_tooltip": null,
            "layout": "IPY_MODEL_d231ed432865445e8e4794a29fe2ca93",
            "placeholder": "​",
            "style": "IPY_MODEL_7aea7a1e6c704530b60fd00194df8050",
            "value": "model.safetensors: 100%"
          }
        },
        "c30623a913ac41ecb9060967fb07bbad": {
          "model_module": "@jupyter-widgets/controls",
          "model_name": "FloatProgressModel",
          "model_module_version": "1.5.0",
          "state": {
            "_dom_classes": [],
            "_model_module": "@jupyter-widgets/controls",
            "_model_module_version": "1.5.0",
            "_model_name": "FloatProgressModel",
            "_view_count": null,
            "_view_module": "@jupyter-widgets/controls",
            "_view_module_version": "1.5.0",
            "_view_name": "ProgressView",
            "bar_style": "success",
            "description": "",
            "description_tooltip": null,
            "layout": "IPY_MODEL_092f02767f054af98a148aae97ac6579",
            "max": 440449768,
            "min": 0,
            "orientation": "horizontal",
            "style": "IPY_MODEL_37d01dcee45f4a7490cd3ed56d6a9d3a",
            "value": 440449768
          }
        },
        "8445295a4f064a1f9424bf9bcdfef7ca": {
          "model_module": "@jupyter-widgets/controls",
          "model_name": "HTMLModel",
          "model_module_version": "1.5.0",
          "state": {
            "_dom_classes": [],
            "_model_module": "@jupyter-widgets/controls",
            "_model_module_version": "1.5.0",
            "_model_name": "HTMLModel",
            "_view_count": null,
            "_view_module": "@jupyter-widgets/controls",
            "_view_module_version": "1.5.0",
            "_view_name": "HTMLView",
            "description": "",
            "description_tooltip": null,
            "layout": "IPY_MODEL_c1bcc8b318cb45518cf618062d364f19",
            "placeholder": "​",
            "style": "IPY_MODEL_211e74a3ae5e49efb2fc12d62210e9c4",
            "value": " 440M/440M [00:10&lt;00:00, 36.0MB/s]"
          }
        },
        "d166a4ee8d1547659ad3996b74c54ce8": {
          "model_module": "@jupyter-widgets/base",
          "model_name": "LayoutModel",
          "model_module_version": "1.2.0",
          "state": {
            "_model_module": "@jupyter-widgets/base",
            "_model_module_version": "1.2.0",
            "_model_name": "LayoutModel",
            "_view_count": null,
            "_view_module": "@jupyter-widgets/base",
            "_view_module_version": "1.2.0",
            "_view_name": "LayoutView",
            "align_content": null,
            "align_items": null,
            "align_self": null,
            "border": null,
            "bottom": null,
            "display": null,
            "flex": null,
            "flex_flow": null,
            "grid_area": null,
            "grid_auto_columns": null,
            "grid_auto_flow": null,
            "grid_auto_rows": null,
            "grid_column": null,
            "grid_gap": null,
            "grid_row": null,
            "grid_template_areas": null,
            "grid_template_columns": null,
            "grid_template_rows": null,
            "height": null,
            "justify_content": null,
            "justify_items": null,
            "left": null,
            "margin": null,
            "max_height": null,
            "max_width": null,
            "min_height": null,
            "min_width": null,
            "object_fit": null,
            "object_position": null,
            "order": null,
            "overflow": null,
            "overflow_x": null,
            "overflow_y": null,
            "padding": null,
            "right": null,
            "top": null,
            "visibility": null,
            "width": null
          }
        },
        "d231ed432865445e8e4794a29fe2ca93": {
          "model_module": "@jupyter-widgets/base",
          "model_name": "LayoutModel",
          "model_module_version": "1.2.0",
          "state": {
            "_model_module": "@jupyter-widgets/base",
            "_model_module_version": "1.2.0",
            "_model_name": "LayoutModel",
            "_view_count": null,
            "_view_module": "@jupyter-widgets/base",
            "_view_module_version": "1.2.0",
            "_view_name": "LayoutView",
            "align_content": null,
            "align_items": null,
            "align_self": null,
            "border": null,
            "bottom": null,
            "display": null,
            "flex": null,
            "flex_flow": null,
            "grid_area": null,
            "grid_auto_columns": null,
            "grid_auto_flow": null,
            "grid_auto_rows": null,
            "grid_column": null,
            "grid_gap": null,
            "grid_row": null,
            "grid_template_areas": null,
            "grid_template_columns": null,
            "grid_template_rows": null,
            "height": null,
            "justify_content": null,
            "justify_items": null,
            "left": null,
            "margin": null,
            "max_height": null,
            "max_width": null,
            "min_height": null,
            "min_width": null,
            "object_fit": null,
            "object_position": null,
            "order": null,
            "overflow": null,
            "overflow_x": null,
            "overflow_y": null,
            "padding": null,
            "right": null,
            "top": null,
            "visibility": null,
            "width": null
          }
        },
        "7aea7a1e6c704530b60fd00194df8050": {
          "model_module": "@jupyter-widgets/controls",
          "model_name": "DescriptionStyleModel",
          "model_module_version": "1.5.0",
          "state": {
            "_model_module": "@jupyter-widgets/controls",
            "_model_module_version": "1.5.0",
            "_model_name": "DescriptionStyleModel",
            "_view_count": null,
            "_view_module": "@jupyter-widgets/base",
            "_view_module_version": "1.2.0",
            "_view_name": "StyleView",
            "description_width": ""
          }
        },
        "092f02767f054af98a148aae97ac6579": {
          "model_module": "@jupyter-widgets/base",
          "model_name": "LayoutModel",
          "model_module_version": "1.2.0",
          "state": {
            "_model_module": "@jupyter-widgets/base",
            "_model_module_version": "1.2.0",
            "_model_name": "LayoutModel",
            "_view_count": null,
            "_view_module": "@jupyter-widgets/base",
            "_view_module_version": "1.2.0",
            "_view_name": "LayoutView",
            "align_content": null,
            "align_items": null,
            "align_self": null,
            "border": null,
            "bottom": null,
            "display": null,
            "flex": null,
            "flex_flow": null,
            "grid_area": null,
            "grid_auto_columns": null,
            "grid_auto_flow": null,
            "grid_auto_rows": null,
            "grid_column": null,
            "grid_gap": null,
            "grid_row": null,
            "grid_template_areas": null,
            "grid_template_columns": null,
            "grid_template_rows": null,
            "height": null,
            "justify_content": null,
            "justify_items": null,
            "left": null,
            "margin": null,
            "max_height": null,
            "max_width": null,
            "min_height": null,
            "min_width": null,
            "object_fit": null,
            "object_position": null,
            "order": null,
            "overflow": null,
            "overflow_x": null,
            "overflow_y": null,
            "padding": null,
            "right": null,
            "top": null,
            "visibility": null,
            "width": null
          }
        },
        "37d01dcee45f4a7490cd3ed56d6a9d3a": {
          "model_module": "@jupyter-widgets/controls",
          "model_name": "ProgressStyleModel",
          "model_module_version": "1.5.0",
          "state": {
            "_model_module": "@jupyter-widgets/controls",
            "_model_module_version": "1.5.0",
            "_model_name": "ProgressStyleModel",
            "_view_count": null,
            "_view_module": "@jupyter-widgets/base",
            "_view_module_version": "1.2.0",
            "_view_name": "StyleView",
            "bar_color": null,
            "description_width": ""
          }
        },
        "c1bcc8b318cb45518cf618062d364f19": {
          "model_module": "@jupyter-widgets/base",
          "model_name": "LayoutModel",
          "model_module_version": "1.2.0",
          "state": {
            "_model_module": "@jupyter-widgets/base",
            "_model_module_version": "1.2.0",
            "_model_name": "LayoutModel",
            "_view_count": null,
            "_view_module": "@jupyter-widgets/base",
            "_view_module_version": "1.2.0",
            "_view_name": "LayoutView",
            "align_content": null,
            "align_items": null,
            "align_self": null,
            "border": null,
            "bottom": null,
            "display": null,
            "flex": null,
            "flex_flow": null,
            "grid_area": null,
            "grid_auto_columns": null,
            "grid_auto_flow": null,
            "grid_auto_rows": null,
            "grid_column": null,
            "grid_gap": null,
            "grid_row": null,
            "grid_template_areas": null,
            "grid_template_columns": null,
            "grid_template_rows": null,
            "height": null,
            "justify_content": null,
            "justify_items": null,
            "left": null,
            "margin": null,
            "max_height": null,
            "max_width": null,
            "min_height": null,
            "min_width": null,
            "object_fit": null,
            "object_position": null,
            "order": null,
            "overflow": null,
            "overflow_x": null,
            "overflow_y": null,
            "padding": null,
            "right": null,
            "top": null,
            "visibility": null,
            "width": null
          }
        },
        "211e74a3ae5e49efb2fc12d62210e9c4": {
          "model_module": "@jupyter-widgets/controls",
          "model_name": "DescriptionStyleModel",
          "model_module_version": "1.5.0",
          "state": {
            "_model_module": "@jupyter-widgets/controls",
            "_model_module_version": "1.5.0",
            "_model_name": "DescriptionStyleModel",
            "_view_count": null,
            "_view_module": "@jupyter-widgets/base",
            "_view_module_version": "1.2.0",
            "_view_name": "StyleView",
            "description_width": ""
          }
        },
        "f9508ebd2ba74607b318681a5947cce5": {
          "model_module": "@jupyter-widgets/controls",
          "model_name": "HBoxModel",
          "model_module_version": "1.5.0",
          "state": {
            "_dom_classes": [],
            "_model_module": "@jupyter-widgets/controls",
            "_model_module_version": "1.5.0",
            "_model_name": "HBoxModel",
            "_view_count": null,
            "_view_module": "@jupyter-widgets/controls",
            "_view_module_version": "1.5.0",
            "_view_name": "HBoxView",
            "box_style": "",
            "children": [
              "IPY_MODEL_0564b416853040d58e9db6f6a2a3f47c",
              "IPY_MODEL_710b56d0bc954737a19b8e429d43bfcb",
              "IPY_MODEL_b045e0f03c04481f88cecb3fe06bc16d"
            ],
            "layout": "IPY_MODEL_fdffb76eba7544328bd53bc3cdc16200"
          }
        },
        "0564b416853040d58e9db6f6a2a3f47c": {
          "model_module": "@jupyter-widgets/controls",
          "model_name": "HTMLModel",
          "model_module_version": "1.5.0",
          "state": {
            "_dom_classes": [],
            "_model_module": "@jupyter-widgets/controls",
            "_model_module_version": "1.5.0",
            "_model_name": "HTMLModel",
            "_view_count": null,
            "_view_module": "@jupyter-widgets/controls",
            "_view_module_version": "1.5.0",
            "_view_name": "HTMLView",
            "description": "",
            "description_tooltip": null,
            "layout": "IPY_MODEL_ee667619441e419e8f7647b0a70ffd55",
            "placeholder": "​",
            "style": "IPY_MODEL_402068f8214f4464883dde5dab6c76ca",
            "value": "config.json: 100%"
          }
        },
        "710b56d0bc954737a19b8e429d43bfcb": {
          "model_module": "@jupyter-widgets/controls",
          "model_name": "FloatProgressModel",
          "model_module_version": "1.5.0",
          "state": {
            "_dom_classes": [],
            "_model_module": "@jupyter-widgets/controls",
            "_model_module_version": "1.5.0",
            "_model_name": "FloatProgressModel",
            "_view_count": null,
            "_view_module": "@jupyter-widgets/controls",
            "_view_module_version": "1.5.0",
            "_view_name": "ProgressView",
            "bar_style": "success",
            "description": "",
            "description_tooltip": null,
            "layout": "IPY_MODEL_e2fc0d3aabe9424d951bffad740fa2e6",
            "max": 483,
            "min": 0,
            "orientation": "horizontal",
            "style": "IPY_MODEL_a4ba0a675f294263968bf16cd6420794",
            "value": 483
          }
        },
        "b045e0f03c04481f88cecb3fe06bc16d": {
          "model_module": "@jupyter-widgets/controls",
          "model_name": "HTMLModel",
          "model_module_version": "1.5.0",
          "state": {
            "_dom_classes": [],
            "_model_module": "@jupyter-widgets/controls",
            "_model_module_version": "1.5.0",
            "_model_name": "HTMLModel",
            "_view_count": null,
            "_view_module": "@jupyter-widgets/controls",
            "_view_module_version": "1.5.0",
            "_view_name": "HTMLView",
            "description": "",
            "description_tooltip": null,
            "layout": "IPY_MODEL_b219b4ecef3b47069e8c78e14d89938e",
            "placeholder": "​",
            "style": "IPY_MODEL_7eaf6efa86494df9acd4389664a7dfe3",
            "value": " 483/483 [00:00&lt;00:00, 21.9kB/s]"
          }
        },
        "fdffb76eba7544328bd53bc3cdc16200": {
          "model_module": "@jupyter-widgets/base",
          "model_name": "LayoutModel",
          "model_module_version": "1.2.0",
          "state": {
            "_model_module": "@jupyter-widgets/base",
            "_model_module_version": "1.2.0",
            "_model_name": "LayoutModel",
            "_view_count": null,
            "_view_module": "@jupyter-widgets/base",
            "_view_module_version": "1.2.0",
            "_view_name": "LayoutView",
            "align_content": null,
            "align_items": null,
            "align_self": null,
            "border": null,
            "bottom": null,
            "display": null,
            "flex": null,
            "flex_flow": null,
            "grid_area": null,
            "grid_auto_columns": null,
            "grid_auto_flow": null,
            "grid_auto_rows": null,
            "grid_column": null,
            "grid_gap": null,
            "grid_row": null,
            "grid_template_areas": null,
            "grid_template_columns": null,
            "grid_template_rows": null,
            "height": null,
            "justify_content": null,
            "justify_items": null,
            "left": null,
            "margin": null,
            "max_height": null,
            "max_width": null,
            "min_height": null,
            "min_width": null,
            "object_fit": null,
            "object_position": null,
            "order": null,
            "overflow": null,
            "overflow_x": null,
            "overflow_y": null,
            "padding": null,
            "right": null,
            "top": null,
            "visibility": null,
            "width": null
          }
        },
        "ee667619441e419e8f7647b0a70ffd55": {
          "model_module": "@jupyter-widgets/base",
          "model_name": "LayoutModel",
          "model_module_version": "1.2.0",
          "state": {
            "_model_module": "@jupyter-widgets/base",
            "_model_module_version": "1.2.0",
            "_model_name": "LayoutModel",
            "_view_count": null,
            "_view_module": "@jupyter-widgets/base",
            "_view_module_version": "1.2.0",
            "_view_name": "LayoutView",
            "align_content": null,
            "align_items": null,
            "align_self": null,
            "border": null,
            "bottom": null,
            "display": null,
            "flex": null,
            "flex_flow": null,
            "grid_area": null,
            "grid_auto_columns": null,
            "grid_auto_flow": null,
            "grid_auto_rows": null,
            "grid_column": null,
            "grid_gap": null,
            "grid_row": null,
            "grid_template_areas": null,
            "grid_template_columns": null,
            "grid_template_rows": null,
            "height": null,
            "justify_content": null,
            "justify_items": null,
            "left": null,
            "margin": null,
            "max_height": null,
            "max_width": null,
            "min_height": null,
            "min_width": null,
            "object_fit": null,
            "object_position": null,
            "order": null,
            "overflow": null,
            "overflow_x": null,
            "overflow_y": null,
            "padding": null,
            "right": null,
            "top": null,
            "visibility": null,
            "width": null
          }
        },
        "402068f8214f4464883dde5dab6c76ca": {
          "model_module": "@jupyter-widgets/controls",
          "model_name": "DescriptionStyleModel",
          "model_module_version": "1.5.0",
          "state": {
            "_model_module": "@jupyter-widgets/controls",
            "_model_module_version": "1.5.0",
            "_model_name": "DescriptionStyleModel",
            "_view_count": null,
            "_view_module": "@jupyter-widgets/base",
            "_view_module_version": "1.2.0",
            "_view_name": "StyleView",
            "description_width": ""
          }
        },
        "e2fc0d3aabe9424d951bffad740fa2e6": {
          "model_module": "@jupyter-widgets/base",
          "model_name": "LayoutModel",
          "model_module_version": "1.2.0",
          "state": {
            "_model_module": "@jupyter-widgets/base",
            "_model_module_version": "1.2.0",
            "_model_name": "LayoutModel",
            "_view_count": null,
            "_view_module": "@jupyter-widgets/base",
            "_view_module_version": "1.2.0",
            "_view_name": "LayoutView",
            "align_content": null,
            "align_items": null,
            "align_self": null,
            "border": null,
            "bottom": null,
            "display": null,
            "flex": null,
            "flex_flow": null,
            "grid_area": null,
            "grid_auto_columns": null,
            "grid_auto_flow": null,
            "grid_auto_rows": null,
            "grid_column": null,
            "grid_gap": null,
            "grid_row": null,
            "grid_template_areas": null,
            "grid_template_columns": null,
            "grid_template_rows": null,
            "height": null,
            "justify_content": null,
            "justify_items": null,
            "left": null,
            "margin": null,
            "max_height": null,
            "max_width": null,
            "min_height": null,
            "min_width": null,
            "object_fit": null,
            "object_position": null,
            "order": null,
            "overflow": null,
            "overflow_x": null,
            "overflow_y": null,
            "padding": null,
            "right": null,
            "top": null,
            "visibility": null,
            "width": null
          }
        },
        "a4ba0a675f294263968bf16cd6420794": {
          "model_module": "@jupyter-widgets/controls",
          "model_name": "ProgressStyleModel",
          "model_module_version": "1.5.0",
          "state": {
            "_model_module": "@jupyter-widgets/controls",
            "_model_module_version": "1.5.0",
            "_model_name": "ProgressStyleModel",
            "_view_count": null,
            "_view_module": "@jupyter-widgets/base",
            "_view_module_version": "1.2.0",
            "_view_name": "StyleView",
            "bar_color": null,
            "description_width": ""
          }
        },
        "b219b4ecef3b47069e8c78e14d89938e": {
          "model_module": "@jupyter-widgets/base",
          "model_name": "LayoutModel",
          "model_module_version": "1.2.0",
          "state": {
            "_model_module": "@jupyter-widgets/base",
            "_model_module_version": "1.2.0",
            "_model_name": "LayoutModel",
            "_view_count": null,
            "_view_module": "@jupyter-widgets/base",
            "_view_module_version": "1.2.0",
            "_view_name": "LayoutView",
            "align_content": null,
            "align_items": null,
            "align_self": null,
            "border": null,
            "bottom": null,
            "display": null,
            "flex": null,
            "flex_flow": null,
            "grid_area": null,
            "grid_auto_columns": null,
            "grid_auto_flow": null,
            "grid_auto_rows": null,
            "grid_column": null,
            "grid_gap": null,
            "grid_row": null,
            "grid_template_areas": null,
            "grid_template_columns": null,
            "grid_template_rows": null,
            "height": null,
            "justify_content": null,
            "justify_items": null,
            "left": null,
            "margin": null,
            "max_height": null,
            "max_width": null,
            "min_height": null,
            "min_width": null,
            "object_fit": null,
            "object_position": null,
            "order": null,
            "overflow": null,
            "overflow_x": null,
            "overflow_y": null,
            "padding": null,
            "right": null,
            "top": null,
            "visibility": null,
            "width": null
          }
        },
        "7eaf6efa86494df9acd4389664a7dfe3": {
          "model_module": "@jupyter-widgets/controls",
          "model_name": "DescriptionStyleModel",
          "model_module_version": "1.5.0",
          "state": {
            "_model_module": "@jupyter-widgets/controls",
            "_model_module_version": "1.5.0",
            "_model_name": "DescriptionStyleModel",
            "_view_count": null,
            "_view_module": "@jupyter-widgets/base",
            "_view_module_version": "1.2.0",
            "_view_name": "StyleView",
            "description_width": ""
          }
        },
        "185c2d9c842545689489eea459110afd": {
          "model_module": "@jupyter-widgets/controls",
          "model_name": "HBoxModel",
          "model_module_version": "1.5.0",
          "state": {
            "_dom_classes": [],
            "_model_module": "@jupyter-widgets/controls",
            "_model_module_version": "1.5.0",
            "_model_name": "HBoxModel",
            "_view_count": null,
            "_view_module": "@jupyter-widgets/controls",
            "_view_module_version": "1.5.0",
            "_view_name": "HBoxView",
            "box_style": "",
            "children": [
              "IPY_MODEL_9f8311427b4d47d4932ae22b254382da",
              "IPY_MODEL_470bbdce66f148b2a0724ed88d6b1dda",
              "IPY_MODEL_19794c5eb81d4011a9d48744d7382018"
            ],
            "layout": "IPY_MODEL_ceb7f903927049e58aee795bd15d61d9"
          }
        },
        "9f8311427b4d47d4932ae22b254382da": {
          "model_module": "@jupyter-widgets/controls",
          "model_name": "HTMLModel",
          "model_module_version": "1.5.0",
          "state": {
            "_dom_classes": [],
            "_model_module": "@jupyter-widgets/controls",
            "_model_module_version": "1.5.0",
            "_model_name": "HTMLModel",
            "_view_count": null,
            "_view_module": "@jupyter-widgets/controls",
            "_view_module_version": "1.5.0",
            "_view_name": "HTMLView",
            "description": "",
            "description_tooltip": null,
            "layout": "IPY_MODEL_78321ba4528642bfbadca62836d684e1",
            "placeholder": "​",
            "style": "IPY_MODEL_9d6e018172d54dc4a114e50c903dd737",
            "value": "model.safetensors: 100%"
          }
        },
        "470bbdce66f148b2a0724ed88d6b1dda": {
          "model_module": "@jupyter-widgets/controls",
          "model_name": "FloatProgressModel",
          "model_module_version": "1.5.0",
          "state": {
            "_dom_classes": [],
            "_model_module": "@jupyter-widgets/controls",
            "_model_module_version": "1.5.0",
            "_model_name": "FloatProgressModel",
            "_view_count": null,
            "_view_module": "@jupyter-widgets/controls",
            "_view_module_version": "1.5.0",
            "_view_name": "ProgressView",
            "bar_style": "success",
            "description": "",
            "description_tooltip": null,
            "layout": "IPY_MODEL_d86d778a3cae40d181a5e702a4ecc1dd",
            "max": 267954768,
            "min": 0,
            "orientation": "horizontal",
            "style": "IPY_MODEL_55b6e042326149b1b73247a3c3caaef9",
            "value": 267954768
          }
        },
        "19794c5eb81d4011a9d48744d7382018": {
          "model_module": "@jupyter-widgets/controls",
          "model_name": "HTMLModel",
          "model_module_version": "1.5.0",
          "state": {
            "_dom_classes": [],
            "_model_module": "@jupyter-widgets/controls",
            "_model_module_version": "1.5.0",
            "_model_name": "HTMLModel",
            "_view_count": null,
            "_view_module": "@jupyter-widgets/controls",
            "_view_module_version": "1.5.0",
            "_view_name": "HTMLView",
            "description": "",
            "description_tooltip": null,
            "layout": "IPY_MODEL_aa25c90c0f52443381f08b428368cbd3",
            "placeholder": "​",
            "style": "IPY_MODEL_7d32048671da4805a02f13e34be8aa0b",
            "value": " 268M/268M [00:04&lt;00:00, 96.9MB/s]"
          }
        },
        "ceb7f903927049e58aee795bd15d61d9": {
          "model_module": "@jupyter-widgets/base",
          "model_name": "LayoutModel",
          "model_module_version": "1.2.0",
          "state": {
            "_model_module": "@jupyter-widgets/base",
            "_model_module_version": "1.2.0",
            "_model_name": "LayoutModel",
            "_view_count": null,
            "_view_module": "@jupyter-widgets/base",
            "_view_module_version": "1.2.0",
            "_view_name": "LayoutView",
            "align_content": null,
            "align_items": null,
            "align_self": null,
            "border": null,
            "bottom": null,
            "display": null,
            "flex": null,
            "flex_flow": null,
            "grid_area": null,
            "grid_auto_columns": null,
            "grid_auto_flow": null,
            "grid_auto_rows": null,
            "grid_column": null,
            "grid_gap": null,
            "grid_row": null,
            "grid_template_areas": null,
            "grid_template_columns": null,
            "grid_template_rows": null,
            "height": null,
            "justify_content": null,
            "justify_items": null,
            "left": null,
            "margin": null,
            "max_height": null,
            "max_width": null,
            "min_height": null,
            "min_width": null,
            "object_fit": null,
            "object_position": null,
            "order": null,
            "overflow": null,
            "overflow_x": null,
            "overflow_y": null,
            "padding": null,
            "right": null,
            "top": null,
            "visibility": null,
            "width": null
          }
        },
        "78321ba4528642bfbadca62836d684e1": {
          "model_module": "@jupyter-widgets/base",
          "model_name": "LayoutModel",
          "model_module_version": "1.2.0",
          "state": {
            "_model_module": "@jupyter-widgets/base",
            "_model_module_version": "1.2.0",
            "_model_name": "LayoutModel",
            "_view_count": null,
            "_view_module": "@jupyter-widgets/base",
            "_view_module_version": "1.2.0",
            "_view_name": "LayoutView",
            "align_content": null,
            "align_items": null,
            "align_self": null,
            "border": null,
            "bottom": null,
            "display": null,
            "flex": null,
            "flex_flow": null,
            "grid_area": null,
            "grid_auto_columns": null,
            "grid_auto_flow": null,
            "grid_auto_rows": null,
            "grid_column": null,
            "grid_gap": null,
            "grid_row": null,
            "grid_template_areas": null,
            "grid_template_columns": null,
            "grid_template_rows": null,
            "height": null,
            "justify_content": null,
            "justify_items": null,
            "left": null,
            "margin": null,
            "max_height": null,
            "max_width": null,
            "min_height": null,
            "min_width": null,
            "object_fit": null,
            "object_position": null,
            "order": null,
            "overflow": null,
            "overflow_x": null,
            "overflow_y": null,
            "padding": null,
            "right": null,
            "top": null,
            "visibility": null,
            "width": null
          }
        },
        "9d6e018172d54dc4a114e50c903dd737": {
          "model_module": "@jupyter-widgets/controls",
          "model_name": "DescriptionStyleModel",
          "model_module_version": "1.5.0",
          "state": {
            "_model_module": "@jupyter-widgets/controls",
            "_model_module_version": "1.5.0",
            "_model_name": "DescriptionStyleModel",
            "_view_count": null,
            "_view_module": "@jupyter-widgets/base",
            "_view_module_version": "1.2.0",
            "_view_name": "StyleView",
            "description_width": ""
          }
        },
        "d86d778a3cae40d181a5e702a4ecc1dd": {
          "model_module": "@jupyter-widgets/base",
          "model_name": "LayoutModel",
          "model_module_version": "1.2.0",
          "state": {
            "_model_module": "@jupyter-widgets/base",
            "_model_module_version": "1.2.0",
            "_model_name": "LayoutModel",
            "_view_count": null,
            "_view_module": "@jupyter-widgets/base",
            "_view_module_version": "1.2.0",
            "_view_name": "LayoutView",
            "align_content": null,
            "align_items": null,
            "align_self": null,
            "border": null,
            "bottom": null,
            "display": null,
            "flex": null,
            "flex_flow": null,
            "grid_area": null,
            "grid_auto_columns": null,
            "grid_auto_flow": null,
            "grid_auto_rows": null,
            "grid_column": null,
            "grid_gap": null,
            "grid_row": null,
            "grid_template_areas": null,
            "grid_template_columns": null,
            "grid_template_rows": null,
            "height": null,
            "justify_content": null,
            "justify_items": null,
            "left": null,
            "margin": null,
            "max_height": null,
            "max_width": null,
            "min_height": null,
            "min_width": null,
            "object_fit": null,
            "object_position": null,
            "order": null,
            "overflow": null,
            "overflow_x": null,
            "overflow_y": null,
            "padding": null,
            "right": null,
            "top": null,
            "visibility": null,
            "width": null
          }
        },
        "55b6e042326149b1b73247a3c3caaef9": {
          "model_module": "@jupyter-widgets/controls",
          "model_name": "ProgressStyleModel",
          "model_module_version": "1.5.0",
          "state": {
            "_model_module": "@jupyter-widgets/controls",
            "_model_module_version": "1.5.0",
            "_model_name": "ProgressStyleModel",
            "_view_count": null,
            "_view_module": "@jupyter-widgets/base",
            "_view_module_version": "1.2.0",
            "_view_name": "StyleView",
            "bar_color": null,
            "description_width": ""
          }
        },
        "aa25c90c0f52443381f08b428368cbd3": {
          "model_module": "@jupyter-widgets/base",
          "model_name": "LayoutModel",
          "model_module_version": "1.2.0",
          "state": {
            "_model_module": "@jupyter-widgets/base",
            "_model_module_version": "1.2.0",
            "_model_name": "LayoutModel",
            "_view_count": null,
            "_view_module": "@jupyter-widgets/base",
            "_view_module_version": "1.2.0",
            "_view_name": "LayoutView",
            "align_content": null,
            "align_items": null,
            "align_self": null,
            "border": null,
            "bottom": null,
            "display": null,
            "flex": null,
            "flex_flow": null,
            "grid_area": null,
            "grid_auto_columns": null,
            "grid_auto_flow": null,
            "grid_auto_rows": null,
            "grid_column": null,
            "grid_gap": null,
            "grid_row": null,
            "grid_template_areas": null,
            "grid_template_columns": null,
            "grid_template_rows": null,
            "height": null,
            "justify_content": null,
            "justify_items": null,
            "left": null,
            "margin": null,
            "max_height": null,
            "max_width": null,
            "min_height": null,
            "min_width": null,
            "object_fit": null,
            "object_position": null,
            "order": null,
            "overflow": null,
            "overflow_x": null,
            "overflow_y": null,
            "padding": null,
            "right": null,
            "top": null,
            "visibility": null,
            "width": null
          }
        },
        "7d32048671da4805a02f13e34be8aa0b": {
          "model_module": "@jupyter-widgets/controls",
          "model_name": "DescriptionStyleModel",
          "model_module_version": "1.5.0",
          "state": {
            "_model_module": "@jupyter-widgets/controls",
            "_model_module_version": "1.5.0",
            "_model_name": "DescriptionStyleModel",
            "_view_count": null,
            "_view_module": "@jupyter-widgets/base",
            "_view_module_version": "1.2.0",
            "_view_name": "StyleView",
            "description_width": ""
          }
        },
        "a31565a2691e4e6fb249bdb06fd140d5": {
          "model_module": "@jupyter-widgets/controls",
          "model_name": "HBoxModel",
          "model_module_version": "1.5.0",
          "state": {
            "_dom_classes": [],
            "_model_module": "@jupyter-widgets/controls",
            "_model_module_version": "1.5.0",
            "_model_name": "HBoxModel",
            "_view_count": null,
            "_view_module": "@jupyter-widgets/controls",
            "_view_module_version": "1.5.0",
            "_view_name": "HBoxView",
            "box_style": "",
            "children": [
              "IPY_MODEL_45e85c7d82ef4c3ca574182e62874afc",
              "IPY_MODEL_b5d1727f7c8f49c8a81b7880cb0e8bd1",
              "IPY_MODEL_c900ab6c304a40b1a1fdebc9b207cfbb"
            ],
            "layout": "IPY_MODEL_1bda8e8f39aa4684a763429ae76475a3"
          }
        },
        "45e85c7d82ef4c3ca574182e62874afc": {
          "model_module": "@jupyter-widgets/controls",
          "model_name": "HTMLModel",
          "model_module_version": "1.5.0",
          "state": {
            "_dom_classes": [],
            "_model_module": "@jupyter-widgets/controls",
            "_model_module_version": "1.5.0",
            "_model_name": "HTMLModel",
            "_view_count": null,
            "_view_module": "@jupyter-widgets/controls",
            "_view_module_version": "1.5.0",
            "_view_name": "HTMLView",
            "description": "",
            "description_tooltip": null,
            "layout": "IPY_MODEL_46b68a117d4648aeb8e893ecdd19c600",
            "placeholder": "​",
            "style": "IPY_MODEL_448969c531954dceae4c67ab34f82f13",
            "value": "tokenizer_config.json: 100%"
          }
        },
        "b5d1727f7c8f49c8a81b7880cb0e8bd1": {
          "model_module": "@jupyter-widgets/controls",
          "model_name": "FloatProgressModel",
          "model_module_version": "1.5.0",
          "state": {
            "_dom_classes": [],
            "_model_module": "@jupyter-widgets/controls",
            "_model_module_version": "1.5.0",
            "_model_name": "FloatProgressModel",
            "_view_count": null,
            "_view_module": "@jupyter-widgets/controls",
            "_view_module_version": "1.5.0",
            "_view_name": "ProgressView",
            "bar_style": "success",
            "description": "",
            "description_tooltip": null,
            "layout": "IPY_MODEL_aed3ba160346419e90a15d7032ec096b",
            "max": 28,
            "min": 0,
            "orientation": "horizontal",
            "style": "IPY_MODEL_b814a98a08364026b70196547cc88bf7",
            "value": 28
          }
        },
        "c900ab6c304a40b1a1fdebc9b207cfbb": {
          "model_module": "@jupyter-widgets/controls",
          "model_name": "HTMLModel",
          "model_module_version": "1.5.0",
          "state": {
            "_dom_classes": [],
            "_model_module": "@jupyter-widgets/controls",
            "_model_module_version": "1.5.0",
            "_model_name": "HTMLModel",
            "_view_count": null,
            "_view_module": "@jupyter-widgets/controls",
            "_view_module_version": "1.5.0",
            "_view_name": "HTMLView",
            "description": "",
            "description_tooltip": null,
            "layout": "IPY_MODEL_67546b3aa5204b7b91bbaa42486d548c",
            "placeholder": "​",
            "style": "IPY_MODEL_d7a7e3c3e45d401ea3c63c4d81b05312",
            "value": " 28.0/28.0 [00:00&lt;00:00, 662B/s]"
          }
        },
        "1bda8e8f39aa4684a763429ae76475a3": {
          "model_module": "@jupyter-widgets/base",
          "model_name": "LayoutModel",
          "model_module_version": "1.2.0",
          "state": {
            "_model_module": "@jupyter-widgets/base",
            "_model_module_version": "1.2.0",
            "_model_name": "LayoutModel",
            "_view_count": null,
            "_view_module": "@jupyter-widgets/base",
            "_view_module_version": "1.2.0",
            "_view_name": "LayoutView",
            "align_content": null,
            "align_items": null,
            "align_self": null,
            "border": null,
            "bottom": null,
            "display": null,
            "flex": null,
            "flex_flow": null,
            "grid_area": null,
            "grid_auto_columns": null,
            "grid_auto_flow": null,
            "grid_auto_rows": null,
            "grid_column": null,
            "grid_gap": null,
            "grid_row": null,
            "grid_template_areas": null,
            "grid_template_columns": null,
            "grid_template_rows": null,
            "height": null,
            "justify_content": null,
            "justify_items": null,
            "left": null,
            "margin": null,
            "max_height": null,
            "max_width": null,
            "min_height": null,
            "min_width": null,
            "object_fit": null,
            "object_position": null,
            "order": null,
            "overflow": null,
            "overflow_x": null,
            "overflow_y": null,
            "padding": null,
            "right": null,
            "top": null,
            "visibility": null,
            "width": null
          }
        },
        "46b68a117d4648aeb8e893ecdd19c600": {
          "model_module": "@jupyter-widgets/base",
          "model_name": "LayoutModel",
          "model_module_version": "1.2.0",
          "state": {
            "_model_module": "@jupyter-widgets/base",
            "_model_module_version": "1.2.0",
            "_model_name": "LayoutModel",
            "_view_count": null,
            "_view_module": "@jupyter-widgets/base",
            "_view_module_version": "1.2.0",
            "_view_name": "LayoutView",
            "align_content": null,
            "align_items": null,
            "align_self": null,
            "border": null,
            "bottom": null,
            "display": null,
            "flex": null,
            "flex_flow": null,
            "grid_area": null,
            "grid_auto_columns": null,
            "grid_auto_flow": null,
            "grid_auto_rows": null,
            "grid_column": null,
            "grid_gap": null,
            "grid_row": null,
            "grid_template_areas": null,
            "grid_template_columns": null,
            "grid_template_rows": null,
            "height": null,
            "justify_content": null,
            "justify_items": null,
            "left": null,
            "margin": null,
            "max_height": null,
            "max_width": null,
            "min_height": null,
            "min_width": null,
            "object_fit": null,
            "object_position": null,
            "order": null,
            "overflow": null,
            "overflow_x": null,
            "overflow_y": null,
            "padding": null,
            "right": null,
            "top": null,
            "visibility": null,
            "width": null
          }
        },
        "448969c531954dceae4c67ab34f82f13": {
          "model_module": "@jupyter-widgets/controls",
          "model_name": "DescriptionStyleModel",
          "model_module_version": "1.5.0",
          "state": {
            "_model_module": "@jupyter-widgets/controls",
            "_model_module_version": "1.5.0",
            "_model_name": "DescriptionStyleModel",
            "_view_count": null,
            "_view_module": "@jupyter-widgets/base",
            "_view_module_version": "1.2.0",
            "_view_name": "StyleView",
            "description_width": ""
          }
        },
        "aed3ba160346419e90a15d7032ec096b": {
          "model_module": "@jupyter-widgets/base",
          "model_name": "LayoutModel",
          "model_module_version": "1.2.0",
          "state": {
            "_model_module": "@jupyter-widgets/base",
            "_model_module_version": "1.2.0",
            "_model_name": "LayoutModel",
            "_view_count": null,
            "_view_module": "@jupyter-widgets/base",
            "_view_module_version": "1.2.0",
            "_view_name": "LayoutView",
            "align_content": null,
            "align_items": null,
            "align_self": null,
            "border": null,
            "bottom": null,
            "display": null,
            "flex": null,
            "flex_flow": null,
            "grid_area": null,
            "grid_auto_columns": null,
            "grid_auto_flow": null,
            "grid_auto_rows": null,
            "grid_column": null,
            "grid_gap": null,
            "grid_row": null,
            "grid_template_areas": null,
            "grid_template_columns": null,
            "grid_template_rows": null,
            "height": null,
            "justify_content": null,
            "justify_items": null,
            "left": null,
            "margin": null,
            "max_height": null,
            "max_width": null,
            "min_height": null,
            "min_width": null,
            "object_fit": null,
            "object_position": null,
            "order": null,
            "overflow": null,
            "overflow_x": null,
            "overflow_y": null,
            "padding": null,
            "right": null,
            "top": null,
            "visibility": null,
            "width": null
          }
        },
        "b814a98a08364026b70196547cc88bf7": {
          "model_module": "@jupyter-widgets/controls",
          "model_name": "ProgressStyleModel",
          "model_module_version": "1.5.0",
          "state": {
            "_model_module": "@jupyter-widgets/controls",
            "_model_module_version": "1.5.0",
            "_model_name": "ProgressStyleModel",
            "_view_count": null,
            "_view_module": "@jupyter-widgets/base",
            "_view_module_version": "1.2.0",
            "_view_name": "StyleView",
            "bar_color": null,
            "description_width": ""
          }
        },
        "67546b3aa5204b7b91bbaa42486d548c": {
          "model_module": "@jupyter-widgets/base",
          "model_name": "LayoutModel",
          "model_module_version": "1.2.0",
          "state": {
            "_model_module": "@jupyter-widgets/base",
            "_model_module_version": "1.2.0",
            "_model_name": "LayoutModel",
            "_view_count": null,
            "_view_module": "@jupyter-widgets/base",
            "_view_module_version": "1.2.0",
            "_view_name": "LayoutView",
            "align_content": null,
            "align_items": null,
            "align_self": null,
            "border": null,
            "bottom": null,
            "display": null,
            "flex": null,
            "flex_flow": null,
            "grid_area": null,
            "grid_auto_columns": null,
            "grid_auto_flow": null,
            "grid_auto_rows": null,
            "grid_column": null,
            "grid_gap": null,
            "grid_row": null,
            "grid_template_areas": null,
            "grid_template_columns": null,
            "grid_template_rows": null,
            "height": null,
            "justify_content": null,
            "justify_items": null,
            "left": null,
            "margin": null,
            "max_height": null,
            "max_width": null,
            "min_height": null,
            "min_width": null,
            "object_fit": null,
            "object_position": null,
            "order": null,
            "overflow": null,
            "overflow_x": null,
            "overflow_y": null,
            "padding": null,
            "right": null,
            "top": null,
            "visibility": null,
            "width": null
          }
        },
        "d7a7e3c3e45d401ea3c63c4d81b05312": {
          "model_module": "@jupyter-widgets/controls",
          "model_name": "DescriptionStyleModel",
          "model_module_version": "1.5.0",
          "state": {
            "_model_module": "@jupyter-widgets/controls",
            "_model_module_version": "1.5.0",
            "_model_name": "DescriptionStyleModel",
            "_view_count": null,
            "_view_module": "@jupyter-widgets/base",
            "_view_module_version": "1.2.0",
            "_view_name": "StyleView",
            "description_width": ""
          }
        },
        "c583320fb8e9441b9bc4cbec45902434": {
          "model_module": "@jupyter-widgets/controls",
          "model_name": "HBoxModel",
          "model_module_version": "1.5.0",
          "state": {
            "_dom_classes": [],
            "_model_module": "@jupyter-widgets/controls",
            "_model_module_version": "1.5.0",
            "_model_name": "HBoxModel",
            "_view_count": null,
            "_view_module": "@jupyter-widgets/controls",
            "_view_module_version": "1.5.0",
            "_view_name": "HBoxView",
            "box_style": "",
            "children": [
              "IPY_MODEL_4e55beeb7e6d4952a25fbbbdbf3d02f4",
              "IPY_MODEL_9e2647261d12443aad707aa5b9adb5ee",
              "IPY_MODEL_0f51e43e703643f181976878394e0423"
            ],
            "layout": "IPY_MODEL_d8d67173d39247d295a10445c0bc7ec8"
          }
        },
        "4e55beeb7e6d4952a25fbbbdbf3d02f4": {
          "model_module": "@jupyter-widgets/controls",
          "model_name": "HTMLModel",
          "model_module_version": "1.5.0",
          "state": {
            "_dom_classes": [],
            "_model_module": "@jupyter-widgets/controls",
            "_model_module_version": "1.5.0",
            "_model_name": "HTMLModel",
            "_view_count": null,
            "_view_module": "@jupyter-widgets/controls",
            "_view_module_version": "1.5.0",
            "_view_name": "HTMLView",
            "description": "",
            "description_tooltip": null,
            "layout": "IPY_MODEL_6da6699893e847deaeaaee9794e60588",
            "placeholder": "​",
            "style": "IPY_MODEL_d818203271dd4e17a767aea088d8fea3",
            "value": "vocab.txt: 100%"
          }
        },
        "9e2647261d12443aad707aa5b9adb5ee": {
          "model_module": "@jupyter-widgets/controls",
          "model_name": "FloatProgressModel",
          "model_module_version": "1.5.0",
          "state": {
            "_dom_classes": [],
            "_model_module": "@jupyter-widgets/controls",
            "_model_module_version": "1.5.0",
            "_model_name": "FloatProgressModel",
            "_view_count": null,
            "_view_module": "@jupyter-widgets/controls",
            "_view_module_version": "1.5.0",
            "_view_name": "ProgressView",
            "bar_style": "success",
            "description": "",
            "description_tooltip": null,
            "layout": "IPY_MODEL_f38143d9e0da48dabf4a8e7a4157af4f",
            "max": 231508,
            "min": 0,
            "orientation": "horizontal",
            "style": "IPY_MODEL_a7531847867a48788160a96532159756",
            "value": 231508
          }
        },
        "0f51e43e703643f181976878394e0423": {
          "model_module": "@jupyter-widgets/controls",
          "model_name": "HTMLModel",
          "model_module_version": "1.5.0",
          "state": {
            "_dom_classes": [],
            "_model_module": "@jupyter-widgets/controls",
            "_model_module_version": "1.5.0",
            "_model_name": "HTMLModel",
            "_view_count": null,
            "_view_module": "@jupyter-widgets/controls",
            "_view_module_version": "1.5.0",
            "_view_name": "HTMLView",
            "description": "",
            "description_tooltip": null,
            "layout": "IPY_MODEL_4b93ed241a464aebb4edb565993794de",
            "placeholder": "​",
            "style": "IPY_MODEL_b5752bcfa9ad4376859633e6ec7f966a",
            "value": " 232k/232k [00:00&lt;00:00, 581kB/s]"
          }
        },
        "d8d67173d39247d295a10445c0bc7ec8": {
          "model_module": "@jupyter-widgets/base",
          "model_name": "LayoutModel",
          "model_module_version": "1.2.0",
          "state": {
            "_model_module": "@jupyter-widgets/base",
            "_model_module_version": "1.2.0",
            "_model_name": "LayoutModel",
            "_view_count": null,
            "_view_module": "@jupyter-widgets/base",
            "_view_module_version": "1.2.0",
            "_view_name": "LayoutView",
            "align_content": null,
            "align_items": null,
            "align_self": null,
            "border": null,
            "bottom": null,
            "display": null,
            "flex": null,
            "flex_flow": null,
            "grid_area": null,
            "grid_auto_columns": null,
            "grid_auto_flow": null,
            "grid_auto_rows": null,
            "grid_column": null,
            "grid_gap": null,
            "grid_row": null,
            "grid_template_areas": null,
            "grid_template_columns": null,
            "grid_template_rows": null,
            "height": null,
            "justify_content": null,
            "justify_items": null,
            "left": null,
            "margin": null,
            "max_height": null,
            "max_width": null,
            "min_height": null,
            "min_width": null,
            "object_fit": null,
            "object_position": null,
            "order": null,
            "overflow": null,
            "overflow_x": null,
            "overflow_y": null,
            "padding": null,
            "right": null,
            "top": null,
            "visibility": null,
            "width": null
          }
        },
        "6da6699893e847deaeaaee9794e60588": {
          "model_module": "@jupyter-widgets/base",
          "model_name": "LayoutModel",
          "model_module_version": "1.2.0",
          "state": {
            "_model_module": "@jupyter-widgets/base",
            "_model_module_version": "1.2.0",
            "_model_name": "LayoutModel",
            "_view_count": null,
            "_view_module": "@jupyter-widgets/base",
            "_view_module_version": "1.2.0",
            "_view_name": "LayoutView",
            "align_content": null,
            "align_items": null,
            "align_self": null,
            "border": null,
            "bottom": null,
            "display": null,
            "flex": null,
            "flex_flow": null,
            "grid_area": null,
            "grid_auto_columns": null,
            "grid_auto_flow": null,
            "grid_auto_rows": null,
            "grid_column": null,
            "grid_gap": null,
            "grid_row": null,
            "grid_template_areas": null,
            "grid_template_columns": null,
            "grid_template_rows": null,
            "height": null,
            "justify_content": null,
            "justify_items": null,
            "left": null,
            "margin": null,
            "max_height": null,
            "max_width": null,
            "min_height": null,
            "min_width": null,
            "object_fit": null,
            "object_position": null,
            "order": null,
            "overflow": null,
            "overflow_x": null,
            "overflow_y": null,
            "padding": null,
            "right": null,
            "top": null,
            "visibility": null,
            "width": null
          }
        },
        "d818203271dd4e17a767aea088d8fea3": {
          "model_module": "@jupyter-widgets/controls",
          "model_name": "DescriptionStyleModel",
          "model_module_version": "1.5.0",
          "state": {
            "_model_module": "@jupyter-widgets/controls",
            "_model_module_version": "1.5.0",
            "_model_name": "DescriptionStyleModel",
            "_view_count": null,
            "_view_module": "@jupyter-widgets/base",
            "_view_module_version": "1.2.0",
            "_view_name": "StyleView",
            "description_width": ""
          }
        },
        "f38143d9e0da48dabf4a8e7a4157af4f": {
          "model_module": "@jupyter-widgets/base",
          "model_name": "LayoutModel",
          "model_module_version": "1.2.0",
          "state": {
            "_model_module": "@jupyter-widgets/base",
            "_model_module_version": "1.2.0",
            "_model_name": "LayoutModel",
            "_view_count": null,
            "_view_module": "@jupyter-widgets/base",
            "_view_module_version": "1.2.0",
            "_view_name": "LayoutView",
            "align_content": null,
            "align_items": null,
            "align_self": null,
            "border": null,
            "bottom": null,
            "display": null,
            "flex": null,
            "flex_flow": null,
            "grid_area": null,
            "grid_auto_columns": null,
            "grid_auto_flow": null,
            "grid_auto_rows": null,
            "grid_column": null,
            "grid_gap": null,
            "grid_row": null,
            "grid_template_areas": null,
            "grid_template_columns": null,
            "grid_template_rows": null,
            "height": null,
            "justify_content": null,
            "justify_items": null,
            "left": null,
            "margin": null,
            "max_height": null,
            "max_width": null,
            "min_height": null,
            "min_width": null,
            "object_fit": null,
            "object_position": null,
            "order": null,
            "overflow": null,
            "overflow_x": null,
            "overflow_y": null,
            "padding": null,
            "right": null,
            "top": null,
            "visibility": null,
            "width": null
          }
        },
        "a7531847867a48788160a96532159756": {
          "model_module": "@jupyter-widgets/controls",
          "model_name": "ProgressStyleModel",
          "model_module_version": "1.5.0",
          "state": {
            "_model_module": "@jupyter-widgets/controls",
            "_model_module_version": "1.5.0",
            "_model_name": "ProgressStyleModel",
            "_view_count": null,
            "_view_module": "@jupyter-widgets/base",
            "_view_module_version": "1.2.0",
            "_view_name": "StyleView",
            "bar_color": null,
            "description_width": ""
          }
        },
        "4b93ed241a464aebb4edb565993794de": {
          "model_module": "@jupyter-widgets/base",
          "model_name": "LayoutModel",
          "model_module_version": "1.2.0",
          "state": {
            "_model_module": "@jupyter-widgets/base",
            "_model_module_version": "1.2.0",
            "_model_name": "LayoutModel",
            "_view_count": null,
            "_view_module": "@jupyter-widgets/base",
            "_view_module_version": "1.2.0",
            "_view_name": "LayoutView",
            "align_content": null,
            "align_items": null,
            "align_self": null,
            "border": null,
            "bottom": null,
            "display": null,
            "flex": null,
            "flex_flow": null,
            "grid_area": null,
            "grid_auto_columns": null,
            "grid_auto_flow": null,
            "grid_auto_rows": null,
            "grid_column": null,
            "grid_gap": null,
            "grid_row": null,
            "grid_template_areas": null,
            "grid_template_columns": null,
            "grid_template_rows": null,
            "height": null,
            "justify_content": null,
            "justify_items": null,
            "left": null,
            "margin": null,
            "max_height": null,
            "max_width": null,
            "min_height": null,
            "min_width": null,
            "object_fit": null,
            "object_position": null,
            "order": null,
            "overflow": null,
            "overflow_x": null,
            "overflow_y": null,
            "padding": null,
            "right": null,
            "top": null,
            "visibility": null,
            "width": null
          }
        },
        "b5752bcfa9ad4376859633e6ec7f966a": {
          "model_module": "@jupyter-widgets/controls",
          "model_name": "DescriptionStyleModel",
          "model_module_version": "1.5.0",
          "state": {
            "_model_module": "@jupyter-widgets/controls",
            "_model_module_version": "1.5.0",
            "_model_name": "DescriptionStyleModel",
            "_view_count": null,
            "_view_module": "@jupyter-widgets/base",
            "_view_module_version": "1.2.0",
            "_view_name": "StyleView",
            "description_width": ""
          }
        },
        "b74f7501db9947d49d319a6119d1fe40": {
          "model_module": "@jupyter-widgets/controls",
          "model_name": "HBoxModel",
          "model_module_version": "1.5.0",
          "state": {
            "_dom_classes": [],
            "_model_module": "@jupyter-widgets/controls",
            "_model_module_version": "1.5.0",
            "_model_name": "HBoxModel",
            "_view_count": null,
            "_view_module": "@jupyter-widgets/controls",
            "_view_module_version": "1.5.0",
            "_view_name": "HBoxView",
            "box_style": "",
            "children": [
              "IPY_MODEL_720a6cf670f24fd5847a38e429fd4066",
              "IPY_MODEL_345b5b08eba74b598a2222ae47338b9d",
              "IPY_MODEL_030ed064b56d4832b3411c2e4642aff3"
            ],
            "layout": "IPY_MODEL_51d8ec2a68cd4c339466d0dc414bcc25"
          }
        },
        "720a6cf670f24fd5847a38e429fd4066": {
          "model_module": "@jupyter-widgets/controls",
          "model_name": "HTMLModel",
          "model_module_version": "1.5.0",
          "state": {
            "_dom_classes": [],
            "_model_module": "@jupyter-widgets/controls",
            "_model_module_version": "1.5.0",
            "_model_name": "HTMLModel",
            "_view_count": null,
            "_view_module": "@jupyter-widgets/controls",
            "_view_module_version": "1.5.0",
            "_view_name": "HTMLView",
            "description": "",
            "description_tooltip": null,
            "layout": "IPY_MODEL_10f33462b89e417ead6666b8de6e7ab3",
            "placeholder": "​",
            "style": "IPY_MODEL_c90d9e6c32214af39ba5f8a87e2fea6f",
            "value": "tokenizer.json: 100%"
          }
        },
        "345b5b08eba74b598a2222ae47338b9d": {
          "model_module": "@jupyter-widgets/controls",
          "model_name": "FloatProgressModel",
          "model_module_version": "1.5.0",
          "state": {
            "_dom_classes": [],
            "_model_module": "@jupyter-widgets/controls",
            "_model_module_version": "1.5.0",
            "_model_name": "FloatProgressModel",
            "_view_count": null,
            "_view_module": "@jupyter-widgets/controls",
            "_view_module_version": "1.5.0",
            "_view_name": "ProgressView",
            "bar_style": "success",
            "description": "",
            "description_tooltip": null,
            "layout": "IPY_MODEL_ed58311f0ca44e72a0c5ebc2497ebe73",
            "max": 466062,
            "min": 0,
            "orientation": "horizontal",
            "style": "IPY_MODEL_cdfbffff9fb04aa5a10a1213089df8b8",
            "value": 466062
          }
        },
        "030ed064b56d4832b3411c2e4642aff3": {
          "model_module": "@jupyter-widgets/controls",
          "model_name": "HTMLModel",
          "model_module_version": "1.5.0",
          "state": {
            "_dom_classes": [],
            "_model_module": "@jupyter-widgets/controls",
            "_model_module_version": "1.5.0",
            "_model_name": "HTMLModel",
            "_view_count": null,
            "_view_module": "@jupyter-widgets/controls",
            "_view_module_version": "1.5.0",
            "_view_name": "HTMLView",
            "description": "",
            "description_tooltip": null,
            "layout": "IPY_MODEL_35d53d88e4024d1c81e9b2a79c52cb7b",
            "placeholder": "​",
            "style": "IPY_MODEL_ebf2799efeb14b1aa861be7aca91583c",
            "value": " 466k/466k [00:00&lt;00:00, 777kB/s]"
          }
        },
        "51d8ec2a68cd4c339466d0dc414bcc25": {
          "model_module": "@jupyter-widgets/base",
          "model_name": "LayoutModel",
          "model_module_version": "1.2.0",
          "state": {
            "_model_module": "@jupyter-widgets/base",
            "_model_module_version": "1.2.0",
            "_model_name": "LayoutModel",
            "_view_count": null,
            "_view_module": "@jupyter-widgets/base",
            "_view_module_version": "1.2.0",
            "_view_name": "LayoutView",
            "align_content": null,
            "align_items": null,
            "align_self": null,
            "border": null,
            "bottom": null,
            "display": null,
            "flex": null,
            "flex_flow": null,
            "grid_area": null,
            "grid_auto_columns": null,
            "grid_auto_flow": null,
            "grid_auto_rows": null,
            "grid_column": null,
            "grid_gap": null,
            "grid_row": null,
            "grid_template_areas": null,
            "grid_template_columns": null,
            "grid_template_rows": null,
            "height": null,
            "justify_content": null,
            "justify_items": null,
            "left": null,
            "margin": null,
            "max_height": null,
            "max_width": null,
            "min_height": null,
            "min_width": null,
            "object_fit": null,
            "object_position": null,
            "order": null,
            "overflow": null,
            "overflow_x": null,
            "overflow_y": null,
            "padding": null,
            "right": null,
            "top": null,
            "visibility": null,
            "width": null
          }
        },
        "10f33462b89e417ead6666b8de6e7ab3": {
          "model_module": "@jupyter-widgets/base",
          "model_name": "LayoutModel",
          "model_module_version": "1.2.0",
          "state": {
            "_model_module": "@jupyter-widgets/base",
            "_model_module_version": "1.2.0",
            "_model_name": "LayoutModel",
            "_view_count": null,
            "_view_module": "@jupyter-widgets/base",
            "_view_module_version": "1.2.0",
            "_view_name": "LayoutView",
            "align_content": null,
            "align_items": null,
            "align_self": null,
            "border": null,
            "bottom": null,
            "display": null,
            "flex": null,
            "flex_flow": null,
            "grid_area": null,
            "grid_auto_columns": null,
            "grid_auto_flow": null,
            "grid_auto_rows": null,
            "grid_column": null,
            "grid_gap": null,
            "grid_row": null,
            "grid_template_areas": null,
            "grid_template_columns": null,
            "grid_template_rows": null,
            "height": null,
            "justify_content": null,
            "justify_items": null,
            "left": null,
            "margin": null,
            "max_height": null,
            "max_width": null,
            "min_height": null,
            "min_width": null,
            "object_fit": null,
            "object_position": null,
            "order": null,
            "overflow": null,
            "overflow_x": null,
            "overflow_y": null,
            "padding": null,
            "right": null,
            "top": null,
            "visibility": null,
            "width": null
          }
        },
        "c90d9e6c32214af39ba5f8a87e2fea6f": {
          "model_module": "@jupyter-widgets/controls",
          "model_name": "DescriptionStyleModel",
          "model_module_version": "1.5.0",
          "state": {
            "_model_module": "@jupyter-widgets/controls",
            "_model_module_version": "1.5.0",
            "_model_name": "DescriptionStyleModel",
            "_view_count": null,
            "_view_module": "@jupyter-widgets/base",
            "_view_module_version": "1.2.0",
            "_view_name": "StyleView",
            "description_width": ""
          }
        },
        "ed58311f0ca44e72a0c5ebc2497ebe73": {
          "model_module": "@jupyter-widgets/base",
          "model_name": "LayoutModel",
          "model_module_version": "1.2.0",
          "state": {
            "_model_module": "@jupyter-widgets/base",
            "_model_module_version": "1.2.0",
            "_model_name": "LayoutModel",
            "_view_count": null,
            "_view_module": "@jupyter-widgets/base",
            "_view_module_version": "1.2.0",
            "_view_name": "LayoutView",
            "align_content": null,
            "align_items": null,
            "align_self": null,
            "border": null,
            "bottom": null,
            "display": null,
            "flex": null,
            "flex_flow": null,
            "grid_area": null,
            "grid_auto_columns": null,
            "grid_auto_flow": null,
            "grid_auto_rows": null,
            "grid_column": null,
            "grid_gap": null,
            "grid_row": null,
            "grid_template_areas": null,
            "grid_template_columns": null,
            "grid_template_rows": null,
            "height": null,
            "justify_content": null,
            "justify_items": null,
            "left": null,
            "margin": null,
            "max_height": null,
            "max_width": null,
            "min_height": null,
            "min_width": null,
            "object_fit": null,
            "object_position": null,
            "order": null,
            "overflow": null,
            "overflow_x": null,
            "overflow_y": null,
            "padding": null,
            "right": null,
            "top": null,
            "visibility": null,
            "width": null
          }
        },
        "cdfbffff9fb04aa5a10a1213089df8b8": {
          "model_module": "@jupyter-widgets/controls",
          "model_name": "ProgressStyleModel",
          "model_module_version": "1.5.0",
          "state": {
            "_model_module": "@jupyter-widgets/controls",
            "_model_module_version": "1.5.0",
            "_model_name": "ProgressStyleModel",
            "_view_count": null,
            "_view_module": "@jupyter-widgets/base",
            "_view_module_version": "1.2.0",
            "_view_name": "StyleView",
            "bar_color": null,
            "description_width": ""
          }
        },
        "35d53d88e4024d1c81e9b2a79c52cb7b": {
          "model_module": "@jupyter-widgets/base",
          "model_name": "LayoutModel",
          "model_module_version": "1.2.0",
          "state": {
            "_model_module": "@jupyter-widgets/base",
            "_model_module_version": "1.2.0",
            "_model_name": "LayoutModel",
            "_view_count": null,
            "_view_module": "@jupyter-widgets/base",
            "_view_module_version": "1.2.0",
            "_view_name": "LayoutView",
            "align_content": null,
            "align_items": null,
            "align_self": null,
            "border": null,
            "bottom": null,
            "display": null,
            "flex": null,
            "flex_flow": null,
            "grid_area": null,
            "grid_auto_columns": null,
            "grid_auto_flow": null,
            "grid_auto_rows": null,
            "grid_column": null,
            "grid_gap": null,
            "grid_row": null,
            "grid_template_areas": null,
            "grid_template_columns": null,
            "grid_template_rows": null,
            "height": null,
            "justify_content": null,
            "justify_items": null,
            "left": null,
            "margin": null,
            "max_height": null,
            "max_width": null,
            "min_height": null,
            "min_width": null,
            "object_fit": null,
            "object_position": null,
            "order": null,
            "overflow": null,
            "overflow_x": null,
            "overflow_y": null,
            "padding": null,
            "right": null,
            "top": null,
            "visibility": null,
            "width": null
          }
        },
        "ebf2799efeb14b1aa861be7aca91583c": {
          "model_module": "@jupyter-widgets/controls",
          "model_name": "DescriptionStyleModel",
          "model_module_version": "1.5.0",
          "state": {
            "_model_module": "@jupyter-widgets/controls",
            "_model_module_version": "1.5.0",
            "_model_name": "DescriptionStyleModel",
            "_view_count": null,
            "_view_module": "@jupyter-widgets/base",
            "_view_module_version": "1.2.0",
            "_view_name": "StyleView",
            "description_width": ""
          }
        }
      }
    }
  },
  "nbformat": 4,
  "nbformat_minor": 0
}